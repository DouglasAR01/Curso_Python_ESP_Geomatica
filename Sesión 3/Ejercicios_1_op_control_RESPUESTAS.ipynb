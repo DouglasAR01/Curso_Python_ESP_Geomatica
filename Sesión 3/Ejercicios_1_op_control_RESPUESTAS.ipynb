{
 "cells": [
  {
   "cell_type": "markdown",
   "metadata": {},
   "source": [
    "# Ejercicios de control de flujo básicos\n",
    "En el mundo de la programación, un problema puede ser resuelto de muchísimas formas. Así que si la forma en la que usted lo\n",
    "resolvió es diferente a como aparece aquí, no significa que esté mal (siempre y cuando el resultado sí se cumpla)."
   ]
  },
  {
   "cell_type": "code",
   "execution_count": 1,
   "metadata": {},
   "outputs": [
    {
     "name": "stdout",
     "output_type": "stream",
     "text": [
      "5\n",
      "Otra forma:\n",
      "5\n"
     ]
    }
   ],
   "source": [
    "# EJERCICIO 1: Compare el mayor de dos números. Imprima el valor del número que sea mayor.\n",
    "X = 5\n",
    "Y = 0\n",
    "\n",
    "# Escriba su código debajo de esta línea\n",
    "\n",
    "if (X>Y):\n",
    "    print (X)\n",
    "else:\n",
    "    print (Y)\n",
    "    \n",
    "# El mismo resultado se logra en una sola línea:\n",
    "print (\"Otra forma:\")\n",
    "print (X) if (X>Y) else print (Y)"
   ]
  },
  {
   "cell_type": "code",
   "execution_count": 2,
   "metadata": {},
   "outputs": [
    {
     "name": "stdout",
     "output_type": "stream",
     "text": [
      "No es par\n",
      "Otra forma:\n",
      "No es par\n"
     ]
    }
   ],
   "source": [
    "# EJERCICIO 2: Imprima si un número X es un número par\n",
    "X = 7\n",
    "\n",
    "# Escriba su código debajo de esta línea\n",
    "if (X%2==0):\n",
    "    print (\"Es par\")\n",
    "else:\n",
    "    print (\"No es par\")\n",
    "\n",
    "# El mismo resultado se logra en una sola línea:\n",
    "print (\"Otra forma:\")\n",
    "print (\"Es par\") if (X%2==0) else print (\"No es par\")"
   ]
  },
  {
   "cell_type": "code",
   "execution_count": 3,
   "metadata": {},
   "outputs": [
    {
     "name": "stdout",
     "output_type": "stream",
     "text": [
      "7\n"
     ]
    }
   ],
   "source": [
    "# EJERCICIO 3: Compare el mayor de tres números. Imprima el valor del número que sea mayor.\n",
    "X = 5\n",
    "Y = 7\n",
    "Z = 2\n",
    "\n",
    "# Escriba su código debajo de esta línea\n",
    "# Hay varias formas de resolver este problema, esta es la más básica usando un poco de lógica.\n",
    "# También se puede resolver usando Elifs o un orden diferente.\n",
    "if (X>Y):\n",
    "    if (X>Z):\n",
    "        print (X)\n",
    "    else:\n",
    "        print (Z)\n",
    "else:\n",
    "    if (Y>Z):\n",
    "        print (Y)\n",
    "    else:\n",
    "        print (Z)"
   ]
  },
  {
   "cell_type": "code",
   "execution_count": 4,
   "metadata": {},
   "outputs": [
    {
     "name": "stdout",
     "output_type": "stream",
     "text": [
      "impar\n"
     ]
    }
   ],
   "source": [
    "# EJERCICIO 4: Imprima \"Impar\" si la suma de los números X y Y es IMPAR, en caso de ser PAR, imprima el resultado de la suma.\n",
    "X = 4\n",
    "Y = 7\n",
    "\n",
    "# Escriba su código debajo de esta línea\n",
    "suma = X+Y\n",
    "if (suma%2 == 0):\n",
    "    print (suma)\n",
    "else:\n",
    "    print (\"impar\")\n",
    "    \n",
    "# Reto: Escriba el IF en una sola línea\n"
   ]
  },
  {
   "cell_type": "code",
   "execution_count": 5,
   "metadata": {},
   "outputs": [
    {
     "name": "stdout",
     "output_type": "stream",
     "text": [
      "0.5\n"
     ]
    }
   ],
   "source": [
    "# EJERCICIO 5: Imprima la parte decimal de la división de 5/2\n",
    "# Escriba su código debajo de esta línea\n",
    "print (5/2-5//2)"
   ]
  },
  {
   "cell_type": "code",
   "execution_count": 6,
   "metadata": {},
   "outputs": [
    {
     "name": "stdout",
     "output_type": "stream",
     "text": [
      "30.0\n"
     ]
    }
   ],
   "source": [
    "# EJERCICIO 6: Convierta temperaturas en grados Fahrenheit a grados Celsius\n",
    "# La fórmula de conversión es F° = C°*(9/5) + 32\n",
    "F = 86\n",
    "# C = ?\n",
    "# Escriba su código debajo de esta línea\n",
    "# Despeje la ecuación: C = (F-32)*(5/9)\n",
    "print ((F-32)*(5/9))\n"
   ]
  }
 ],
 "metadata": {
  "kernelspec": {
   "display_name": "Python 3",
   "language": "python",
   "name": "python3"
  },
  "language_info": {
   "codemirror_mode": {
    "name": "ipython",
    "version": 3
   },
   "file_extension": ".py",
   "mimetype": "text/x-python",
   "name": "python",
   "nbconvert_exporter": "python",
   "pygments_lexer": "ipython3",
   "version": "3.8.5"
  }
 },
 "nbformat": 4,
 "nbformat_minor": 4
}
