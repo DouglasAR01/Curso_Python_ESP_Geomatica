{
 "cells": [
  {
   "cell_type": "code",
   "execution_count": 1,
   "metadata": {},
   "outputs": [
    {
     "name": "stdout",
     "output_type": "stream",
     "text": [
      "omordnílaP\n"
     ]
    }
   ],
   "source": [
    "# PUNTO 1\n",
    "CADENA = \"Palíndromo\"\n",
    "print (CADENA[::-1])"
   ]
  },
  {
   "cell_type": "code",
   "execution_count": 2,
   "metadata": {},
   "outputs": [
    {
     "name": "stdout",
     "output_type": "stream",
     "text": [
      "[(7, 5), (7, 7), (7, 1), (7, 2), (7, 3), (1, 5), (1, 7), (1, 1), (1, 2), (1, 3), (4, 5), (4, 7), (4, 1), (4, 2), (4, 3), (2, 5), (2, 7), (2, 1), (2, 2), (2, 3), (9, 5), (9, 7), (9, 1), (9, 2), (9, 3)]\n"
     ]
    }
   ],
   "source": [
    "# PUNTO 2\n",
    "X = (7,1,4,2,9)\n",
    "Y = (5,7,1,2,3)\n",
    "res = []\n",
    "for i in X:\n",
    "    for j in Y:\n",
    "        res.append((i,j))\n",
    "print (res)"
   ]
  },
  {
   "cell_type": "code",
   "execution_count": 3,
   "metadata": {},
   "outputs": [
    {
     "name": "stdout",
     "output_type": "stream",
     "text": [
      "{'pera': 3, 'granada': 2, 'manzana': 4, 'sandía': 2, 'uva': 3, 'mandarina': 2, 'melocotón': 3, 'kiwi': 2, 'naranja': 1, 'limón': 1, 'fresa': 1}\n"
     ]
    }
   ],
   "source": [
    "# PUNTO 3\n",
    "frutas = [\"pera\", \"granada\", \"manzana\", \"sandía\", \"uva\", \"pera\", \"mandarina\", \"sandía\", \"manzana\", \"uva\", \"uva\", \"granada\", \"melocotón\", \"manzana\", \"kiwi\",\"pera\",\"melocotón\",\"mandarina\",\"naranja\",\"limón\",\"kiwi\",\"manzana\",\"fresa\",\"melocotón\"]\n",
    "conteo = {}\n",
    "for fruta in frutas:\n",
    "    if fruta in conteo:\n",
    "        conteo[fruta] += 1\n",
    "    else:\n",
    "        conteo[fruta] = 1\n",
    "print (conteo)"
   ]
  },
  {
   "cell_type": "code",
   "execution_count": 4,
   "metadata": {},
   "outputs": [
    {
     "name": "stdout",
     "output_type": "stream",
     "text": [
      "----------------------------\n",
      "Traidores estándar: 100\n",
      "Traidores especializados: 47\n",
      "Ingenieros: 260\n",
      "Civiles: 93\n",
      "Resultado de la misión: FRACASO\n",
      "---Motivo---\n",
      "Número de civiles < 40% de ingenieros \n",
      "\n",
      "----------------------------\n"
     ]
    }
   ],
   "source": [
    "# PUNTO 4\n",
    "SEMILLA = 9999\n",
    "NAVE = []\n",
    "\n",
    "### NO TOCAR\n",
    "import random\n",
    "random.seed(SEMILLA)\n",
    "for _ in range(500):\n",
    "    NAVE.append(random.randint(0,9))\n",
    "\n",
    "# Escriba su código debajo de esta línea\n",
    "tripulacion = {\n",
    "    \"traidores_estandar\": 0,\n",
    "    \"traidores_esp\": 0,\n",
    "    \"ingenieros\": 0,\n",
    "    \"civiles\": 0,\n",
    "}\n",
    "\n",
    "for tripulante in NAVE:\n",
    "    if (tripulante==1 or tripulante==9):\n",
    "        tripulacion[\"traidores_estandar\"] +=1\n",
    "    elif ((tripulante>=2) and (tripulante<=6)):\n",
    "        tripulacion[\"ingenieros\"] += 1\n",
    "    elif ((tripulante>=7) and (tripulante<=8)):\n",
    "        tripulacion[\"civiles\"] +=1\n",
    "    else:\n",
    "        tripulacion[\"traidores_esp\"] += 1\n",
    "\n",
    "EXITO = True\n",
    "MOTIVO = \"\"\n",
    "n_traidores = tripulacion[\"traidores_estandar\"]+tripulacion[\"traidores_esp\"]*2\n",
    "\n",
    "if ( (n_traidores/tripulacion[\"ingenieros\"]) >= 0.9 ):\n",
    "    EXITO = False\n",
    "    MOTIVO += \"Número de traidores >= 90% de ingenieros \\n\"\n",
    "if ( (tripulacion[\"civiles\"]/tripulacion[\"ingenieros\"]) < 0.4 ):\n",
    "    EXITO = False\n",
    "    MOTIVO += \"Número de civiles < 40% de ingenieros \\n\"\n",
    "if ( (tripulacion[\"traidores_esp\"]/tripulacion[\"civiles\"]) >= 0.55 ):\n",
    "    EXITO = False\n",
    "    MOTIVO += \"Número de traidores especializados >= 55% de civiles\"\n",
    "    \n",
    "print (\"----------------------------\")\n",
    "print (\"Traidores estándar:\", tripulacion[\"traidores_estandar\"])\n",
    "print (\"Traidores especializados:\", tripulacion[\"traidores_esp\"])\n",
    "print (\"Ingenieros:\", tripulacion[\"ingenieros\"])\n",
    "print (\"Civiles:\", tripulacion[\"civiles\"])\n",
    "print (\"Resultado de la misión:\", \"ÉXITO\" if EXITO else \"FRACASO\")\n",
    "print (\"---Motivo---\")\n",
    "print (\"Todo OK\" if EXITO else MOTIVO )\n",
    "print (\"----------------------------\")"
   ]
  }
 ],
 "metadata": {
  "kernelspec": {
   "display_name": "Python 3",
   "language": "python",
   "name": "python3"
  },
  "language_info": {
   "codemirror_mode": {
    "name": "ipython",
    "version": 3
   },
   "file_extension": ".py",
   "mimetype": "text/x-python",
   "name": "python",
   "nbconvert_exporter": "python",
   "pygments_lexer": "ipython3",
   "version": "3.8.5"
  }
 },
 "nbformat": 4,
 "nbformat_minor": 4
}
