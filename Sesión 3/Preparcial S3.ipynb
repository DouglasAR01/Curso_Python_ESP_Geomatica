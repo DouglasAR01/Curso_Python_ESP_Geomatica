{
 "cells": [
  {
   "cell_type": "markdown",
   "metadata": {},
   "source": [
    "# Preparcial sesión 3\n",
    "Este notebook contiene ejercicios de mayor dificultad con todos los conceptos aprendidos hasta la sesión 3. Sirve de preparación para el parcial que viene después de la sesión 4.\n",
    "\n",
    "El preparcial es una autoevaluación donde cada punto tiene un valor dado. Todas las respuestas deben ser __generalizadas__, es decir, las soluciones deben servir para cualquier cambio en las variables iniciales del problema. Por ejemplo, para un punto que mencione deletrear la cadena \"Prueba\", solo el válido un código que también sea capaz de deletrear cualquier otra cadena arbitraria.\n",
    "\n",
    "Para esto, todos los puntos van a tener unas variables iniciales, las cuales una vez que crean que hayan dado con la solución, pueden cambiar el valor de las variables iniciales y ejecutar neuvamente la celda. Si el código devuelve el comportamiento esperado por el problema planteado, entonces el código es válido."
   ]
  },
  {
   "cell_type": "markdown",
   "metadata": {},
   "source": [
    "## Primer punto: Cadena inversa\n",
    "### Valor: 0.5\n",
    "Escriba el código necesario para devolver el contenido de la variable CADENA de tipo String al revés. Es decir, si la variable CADENA contiene el string \"Hola\" el código debe devolver \"Aloh\". __NO__ debe ser letra por letra, sino la cadena completa, pero al revés. __NO__ está permitido usar palabras reservadas o funciones que no se hayan visto durante las tres primeras sesiones."
   ]
  },
  {
   "cell_type": "code",
   "execution_count": null,
   "metadata": {},
   "outputs": [],
   "source": [
    "### VARIABLES INICIALES\n",
    "CADENA = \"Palíndromo\"\n",
    "\n",
    "# Escriba su código debajo de esta línea"
   ]
  },
  {
   "cell_type": "markdown",
   "metadata": {},
   "source": [
    "## Segundo punto: Coordenadas\n",
    "### Valor: 1.0\n",
    "Son dadas dos variables iniciales, X e Y, ambas variables contienen una tupla de 5 números cada una. Escriba un código capaz de devolver una lista de que contenga tuplas (Xi, Yi) por cada uno de los Xi. Por ejemplo, para una tupla de 3 números debería devolverse lo siguiente:\n",
    "\n",
    "``X = (2,1,3)``\n",
    "\n",
    "``Y = (5,7,1)``\n",
    "\n",
    "``Resultado = [(2,5), (2,7), (2,1), (1,5), (1,7), (1,1), (3,5), (3,7), (3,1)]``"
   ]
  },
  {
   "cell_type": "code",
   "execution_count": null,
   "metadata": {},
   "outputs": [],
   "source": [
    "### VARIABLES INICIALES\n",
    "X = (7,1,4,2,9)\n",
    "Y = (5,7,1,2,3)\n",
    "\n",
    "# Escriba su código debajo de esta línea"
   ]
  },
  {
   "cell_type": "markdown",
   "metadata": {},
   "source": [
    "## Tercer punto: Conteo y categorización\n",
    "### Valor: 1.0\n",
    "Dada una lista que contiene nombres de frutas diferentes, escriba un código que cuente cuántas frutas de cada tipo hay y añada ese resultado a un diccionario, finalmente, imprima el diccionario. Por ejemplo, para la siguiente lista de frutas:\n",
    "\n",
    "``frutas = [\"pera\", \"manzana\", \"manzana, \"mandarina\"]``\n",
    "\n",
    "El resultado debería ser un diccionario similar al siguiente:\n",
    "\n",
    "``conteo = {\"pera\":1, \"manzana\":2, \"mandarina\":1}``\n"
   ]
  },
  {
   "cell_type": "code",
   "execution_count": null,
   "metadata": {},
   "outputs": [],
   "source": [
    "### VARIABLES INICIALES\n",
    "frutas = [\"pera\", \"granada\", \"manzana\", \"sandía\", \"uva\", \"pera\", \"mandarina\", \"sandía\", \"manzana\", \"uva\", \"uva\", \"granada\", \"melocotón\", \"manzana\", \"kiwi\",\"pera\",\"melocotón\",\"mandarina\",\"naranja\",\"limón\",\"kiwi\",\"manzana\",\"fresa\",\"melocotón\"]\n",
    "\n",
    "# Escriba su código debajo de esta línea"
   ]
  },
  {
   "cell_type": "markdown",
   "metadata": {},
   "source": [
    "## Cuarto punto: Supervivencia en la nave\n",
    "### Valor: 2.5\n",
    "Había una vez una tripulación de 500 números base 10 (es decir, que van del 0 al 9) en una lista llamada NAVE que viajarán a través de la memoria RAM de un computador. La misión de la tripulación es llegar de un extremo al otro en la inmensidad de los gigabytes disponibles de memoria. El problema es que dentro de la tripulación no todos los números están capacitados para controlar la nave, es más, ¡Hay números que tienen la misión de traicionar la tripulación! Lo que los tripulantes no saben es que usted, el comandante a cargo de supervisar la misión, es un hacker de sombrero blanco contratado para, según las características de los tripulantes, los identifique, y, finalmente, prediga el resultado de la misión antes de que esta se lleve a cabo.\n",
    "\n",
    "Las características de los tripulantes dados por el servicio de inteligencia son los siguientes:\n",
    "- Los números __1 y 9__ son traidores estándar contratados por la malvada organización \"Confederados para la Unificación (CPU)\".\n",
    "- Los números __2, 3, 4, 5 y 6__ son ingenieros altamente capacitados y que cumplirán la misión cueste lo que cueste.\n",
    "- Los números __7 y 8__ son civiles que no tienen la capacidad de pilotar la nave.\n",
    "- Los tipulantes cuyo número es __0__ son traidores altamente especializados que son capaces de hacer el __doble de sabotajes de un traidor normal, por lo tanto, valen por dos__.\n",
    "\n",
    "Su labor, comandante, es realizar un código que devuelva un informe, basado en el análisis de las siguientes caracteristicas:\n",
    "- Cuántos traidores estándar se encuentran en la tripulación.\n",
    "- Cuántos traidores especializados se encuentran en la tripulación.\n",
    "- Cuántos ingenieros se encuentran en la tripulación.\n",
    "- Cuántos civiles se encuentran en la tripulación.\n",
    "- La predicción del resultado de la misión con base en las siguientes condiciones:\n",
    "    - FRACASO si el número traidores __(estándar + especializados\\*2)__ es, __al menos__, de un 90% del número de ingenieros.\n",
    "    - FRACASO si el número de civiles es __menos__ del 40% del número de ingenieros.\n",
    "    - FRACASO si el número de traidores especializados (sin multiplicar por dos) es, __al menos__, el 55% del número de civiles.\n",
    "    - En caso de que ninguna de las condiciones anteriores se cumpla, la misión será EXITOSA.\n",
    "\n",
    "El informe debe ser similar al siguiente:\n",
    "\n",
    "`` ---------------------------- ``\n",
    "\n",
    "`` Traidores estándar: N ``\n",
    "\n",
    "`` Traidores especializados: N ``\n",
    "\n",
    "`` Ingenieros: N ``\n",
    "\n",
    "`` Civiles: N ``\n",
    "\n",
    "`` Resultado de la misión: ÉXITO/FRACASO``\n",
    "\n",
    "`` ---Motivo---``\n",
    "\n",
    "`` [Descripción de por qué éxito/fracaso]``\n",
    "\n",
    "`` ---------------------------- ``\n",
    "\n",
    "La descripción del motivo del informe debe acumular todos los motivos, es decir, si la misión está destinada a FRACASAR porque se incumplen 2 condiciones, deben mostrarse cuáles condiciones se incumplieron. Si la misión está destinada a ser un éxito, la descripción debe ser \"Todo OK\". \n",
    "\n",
    "__Ejemplo:__\n",
    "\n",
    "``----------------------------``\n",
    "\n",
    "``Traidores estándar: 112``\n",
    "\n",
    "``Traidores especializados: 54``\n",
    "\n",
    "``Ingenieros: 241``\n",
    "\n",
    "``Civiles: 93``\n",
    "\n",
    "``Resultado de la misión: FRACASO``\n",
    "\n",
    "``---Motivo---``\n",
    "\n",
    "``Número de traidores >= 90% de ingenieros``\n",
    "\n",
    "``Número de civiles < 40% de ingenieros``\n",
    "\n",
    "``Número de traidores especializados >= 55% de civiles``\n",
    "\n",
    "``----------------------------``\n"
   ]
  },
  {
   "cell_type": "code",
   "execution_count": null,
   "metadata": {},
   "outputs": [],
   "source": [
    "### VARIABLES INICIALES\n",
    "# Cuando se quiera cambiar la tripulación, cambie el valor de la semilla por cualquier otro número ENTERO.\n",
    "SEMILLA = 9999\n",
    "NAVE = []\n",
    "\n",
    "### NO TOCAR\n",
    "import random\n",
    "random.seed(SEMILLA)\n",
    "for _ in range(500):\n",
    "    NAVE.append(random.randint(0,9))\n",
    "\n",
    "# Escriba su código debajo de esta línea\n"
   ]
  }
 ],
 "metadata": {
  "kernelspec": {
   "display_name": "Python 3",
   "language": "python",
   "name": "python3"
  },
  "language_info": {
   "codemirror_mode": {
    "name": "ipython",
    "version": 3
   },
   "file_extension": ".py",
   "mimetype": "text/x-python",
   "name": "python",
   "nbconvert_exporter": "python",
   "pygments_lexer": "ipython3",
   "version": "3.8.5"
  }
 },
 "nbformat": 4,
 "nbformat_minor": 4
}
