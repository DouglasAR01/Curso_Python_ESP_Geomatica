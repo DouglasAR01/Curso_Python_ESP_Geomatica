{
 "cells": [
  {
   "cell_type": "markdown",
   "metadata": {},
   "source": [
    "![Geomática](../Recursos/img/geo_logo.jpg)\n",
    "# Introducción a Python\n",
    "\n",
    "**Sesión 3:** Operadores y estructuras de control de flujo."
   ]
  },
  {
   "cell_type": "markdown",
   "metadata": {},
   "source": [
    "### Operadores\n",
    "Python, al igual que todos los lenguajes de programación, permite realizar operaciones matemáticas de todo tipo, partiendo desde los operadores aritméticos más básicos. A su vez, también incluye (sin el uso de librerías o palabras reservadas) 3 operadores avanzados: la potenciación, el módulo y la división entera.\n",
    "\n",
    "Este curso __NO__ inclurirá los operadores binarios (que trabajan con números binarios, es decir, a nivel de bits) que Python incluye, debido a su impertinencia en el curso, no obstante, se informa al estudiante que Python los incluye usando los siguientes símbolos: __&, |, <<, >>, ~.__\n",
    "\n",
    "Generalmente, cuesta entender en qué consiste el módulo y la división entera, por lo tanto, aquí se adjuntan unos ejemplos:\n",
    "\n",
    "__Módulo__\n",
    "\n",
    "El módulo retorna el residuo de una división, como se puede ver en la imagen. El residuo está marcado con un cuadro color rojo.\n",
    "![Modulo](../Recursos/img/modulo.png)\n",
    "\n",
    "__División entera__\n",
    "\n",
    "La división entera funciona similar a una división convencional, no obstante, solo retorna la parte entera de una fracción.\n",
    "![Dentera](../Recursos/img/divi_entera.png)"
   ]
  },
  {
   "cell_type": "code",
   "execution_count": 1,
   "metadata": {},
   "outputs": [
    {
     "name": "stdout",
     "output_type": "stream",
     "text": [
      "Suma: 2 \n",
      "\n",
      "Resta: 0 \n",
      "\n",
      "Multiplicación: 4 \n",
      "\n",
      "División: 2.5 \n",
      "\n",
      "Potenciación: 8 \n",
      "\n",
      "Módulo: 1 \n",
      "\n",
      "División entera: 2 \n",
      "\n"
     ]
    }
   ],
   "source": [
    "# OPERADORES ARITMÉTICOS\n",
    "# Los operadores aritméticos no requieren mayor explicación.\n",
    "suma = 1+1 # 2\n",
    "resta = 1-1 # 0\n",
    "multip = 2*2 # 4\n",
    "divi = 5/2 # 2.5 (número flotante)\n",
    "\n",
    "# OPERADORES AVANZADOS\n",
    "# La potenciación consiste en multiplicar la base, a la izquierda (en el ejemplo es el 2) las veces que indique el\n",
    "# exponente, a la derecha (el 3). En este caso, sería lo mismo que decir 2*2*2.\n",
    "potencia = 2**3 # 8\n",
    "# El módulo es una operación que devuelve el residuo de una división,\n",
    "modulo = 3%2 # 1\n",
    "divi_entera = 5//2 # 2\n",
    "\n",
    "# Resultados\n",
    "print (\"Suma:\", suma, \"\\n\")\n",
    "print (\"Resta:\", resta, \"\\n\")\n",
    "print (\"Multiplicación:\", multip, \"\\n\")\n",
    "print (\"División:\", divi, \"\\n\")\n",
    "print (\"Potenciación:\", potencia, \"\\n\")\n",
    "print (\"Módulo:\", modulo, \"\\n\")\n",
    "print (\"División entera:\", divi_entera, \"\\n\")"
   ]
  },
  {
   "cell_type": "code",
   "execution_count": 2,
   "metadata": {},
   "outputs": [],
   "source": [
    "# FORMAS RESUMIDAS DE LOS OPERADORES\n",
    "# Python permite resumir las operaciones asignadas a variables de una forma muy sencilla y universal para las operaciones.\n",
    "x = 3\n",
    "x += 2 # Es lo mismo que decir x = x+2 SUMA\n",
    "x -= 2 # Es lo mismo que decir x = x-2 RESTA\n",
    "x *= 2 # Es lo mismo que decir x = x*2 MULTIPLICACIÓN\n",
    "x /= 2 # Es lo mismo que decir x = x/2 DIVISIÓN\n",
    "x **= 2 # Es lo mismo que decir x = x**2 POTENCIACIÓN\n",
    "x %= 2 # Es lo mismo que decir x = x%2 MÓDULO\n",
    "x //= 2 # Es lo mismo que decir x = x//2 DIVISIÓN ENTERA"
   ]
  },
  {
   "cell_type": "markdown",
   "metadata": {},
   "source": [
    "## Control de flujo, operadores de comparación y operadores lógicos\n",
    "En casi todas las situaciones de la vida real hay que tomar decisiones basadas en ciertas condiciones y, debido a ello, modificar el comportamiento o resultado de algo. En todos los lenguajes de programación esto mismo se puede hacer.\n",
    "\n",
    "Aunque uno quizá no se percate a simple vista, todas las decisiones que se toman en la vida real están basadas en operaciones de comparación o lógicos. Por ejemplo, se toma la decisión de comprar en la tienda X porque el precio del producto que nos interesa es menor al de la tienda Y. Se toma la decisión de adoptar un gato porque es bonito (bonito=True) __y__ (And) __NO__ es dependiente (dependiente=False).\n",
    "\n",
    "Entonces, para tomar esas decisiones es importante conocer los operadores de comparación y los operadores lógicos.\n",
    "\n",
    "__Operadores de comparación__\n",
    "\n",
    "Todos los operadores de comparación evalúan dos datos (pueden ser variables, objetos, números, etc.) y devolverán un dato de tipo Booleano (verdadero o falso) dependiendo de si se cumple el operador o no.\n",
    "\n",
    "|Operador|Nombre|Ejemplo|Equivalencia natural|\n",
    "|---|---|---|---|\n",
    "|==|Igualdad|x == y|¿Es X igual a Y?|\n",
    "|!=|Diferencia|x != y|¿Es X diferente a Y?|\n",
    "|>|Mayor que|x > y|¿Es X mayor que Y?|\n",
    "|<|Menor que|x < y|¿Es X menor que Y?|\n",
    "|>=|Mayor o igual|x >= y|¿Es X mayor __O__ igual que Y?|\n",
    "|<=|Menor o igual|x <= y|¿Es X menor __O__ igual que Y?|\n",
    "\n",
    "__Operadores lógicos__\n",
    "\n",
    "Los operadores lógicos se usan para concatenar otras declaraciones de comparación.\n",
    "\n",
    "|Operador|Descripción|Ejemplo|\n",
    "|---|---|---|\n",
    "|and|Devolverá __VERDADERO__ si __AMBOS__ datos son verdaderos|1<5 __and__ 2<10|\n",
    "|or|Devolverá __VERDADERO__ si __AL MENOS UNO__ de los datos es verdadero|6<5 __or__ 2<10|\n",
    "|not|__INVIERTE__ el valor booleano de la declaración posterior (a la derecha) de este operador|not(1<5 __and__ 2<10)|\n",
    "\n",
    "__Tablas de verdad__\n",
    "\n",
    "Tabla de verdad del operador __AND__\n",
    "\n",
    "|q|p|r|\n",
    "|---|---|---|\n",
    "|True|True|True|\n",
    "|True|False|False|\n",
    "|False|True|False|\n",
    "|False|False|False|\n",
    "\n",
    "Tabla de verdad del operador __OR__\n",
    "\n",
    "|q|p|r|\n",
    "|---|---|---|\n",
    "|True|True|True|\n",
    "|True|False|True|\n",
    "|False|True|True|\n",
    "|False|False|False|"
   ]
  },
  {
   "cell_type": "code",
   "execution_count": 3,
   "metadata": {},
   "outputs": [
    {
     "name": "stdout",
     "output_type": "stream",
     "text": [
      "¿Es X igual a Y? False \n",
      "\n",
      "¿Es X diferente a Y? True \n",
      "\n",
      "¿Es X mayor que Y? False \n",
      "\n",
      "¿Es X menor que Y? True \n",
      "\n",
      "¿Es X mayor o igual a Y? False \n",
      "\n",
      "¿Es X menor o igual a Y? True \n",
      "\n"
     ]
    }
   ],
   "source": [
    "#EJEMPLOS DE COMPARACIÓN\n",
    "X = 5\n",
    "Y = 6\n",
    "print (\"¿Es X igual a Y?\", X==Y, \"\\n\")\n",
    "print (\"¿Es X diferente a Y?\", X!=Y, \"\\n\")\n",
    "print (\"¿Es X mayor que Y?\", X>Y, \"\\n\")\n",
    "print (\"¿Es X menor que Y?\", X<Y, \"\\n\")\n",
    "print (\"¿Es X mayor o igual a Y?\", X>=Y, \"\\n\")\n",
    "print (\"¿Es X menor o igual a Y?\", X<=Y, \"\\n\")"
   ]
  },
  {
   "cell_type": "code",
   "execution_count": 4,
   "metadata": {},
   "outputs": [
    {
     "name": "stdout",
     "output_type": "stream",
     "text": [
      "1. False \n",
      "\n",
      "2. True \n",
      "\n",
      "3. True \n",
      "\n",
      "4. False \n",
      "\n",
      "5. True \n",
      "\n",
      "6. False \n",
      "\n",
      "7. True \n",
      "\n"
     ]
    }
   ],
   "source": [
    "# EJEMPLOS DE OPERADORES LÓGICOS\n",
    "X = True\n",
    "Y = False\n",
    "Z = False\n",
    "print (\"1.\", X and Y, \"\\n\")\n",
    "print (\"2.\", X and not Y, \"\\n\")\n",
    "print (\"3.\", X or Y, \"\\n\")\n",
    "print (\"4.\", not X or Y, \"\\n\")\n",
    "print (\"5.\", not Z and (X or Y), \"\\n\")\n",
    "print (\"6.\", not Z and not(X or Y), \"\\n\")\n",
    "print (\"7.\", not(not Z and not(X or Y)), \"\\n\")"
   ]
  },
  {
   "cell_type": "code",
   "execution_count": 5,
   "metadata": {},
   "outputs": [
    {
     "name": "stdout",
     "output_type": "stream",
     "text": [
      "Es bonito!\n"
     ]
    }
   ],
   "source": [
    "# IF: La palabra reservada de las decisiones. (Traduce a \"si\" en español.)\n",
    "# Ahora que se tienen las bases de la comparación, se pueden tomar decisiones basado en el resultado de ello.\n",
    "# La estructura de control IF solo ejecutará el código dentro de esta si la condición es verdadera (True)\n",
    "bonito = True\n",
    "if (bonito): # Es lo mismo que decir if (bonito == True).\n",
    "    print (\"Es bonito!\")\n",
    "# Lo que se ejecutará si no se cumple la condición. Los Else son opcionales, ya que hay situaciones en las que quizá\n",
    "# no se quiere hacer nada si la condición no se cumple. Los Else solo se pueden poner si hay una estructura IF declarada \n",
    "# anteriormente.\n",
    "else: \n",
    "    print (\"Es feo :(\")"
   ]
  },
  {
   "cell_type": "code",
   "execution_count": 6,
   "metadata": {},
   "outputs": [
    {
     "name": "stdout",
     "output_type": "stream",
     "text": [
      "X es mayor o igual que Y\n"
     ]
    }
   ],
   "source": [
    "# Elif: Para cuando se tienen múltiples condiciones\n",
    "# Los Elif deben de ir ANTES del Else.\n",
    "X = 3\n",
    "Y = 3\n",
    "if (X>Y):\n",
    "    print(\"X es mayor que Y\")\n",
    "elif (X>=Y):\n",
    "    print(\"X es mayor o igual que Y\")\n",
    "else:\n",
    "    print(\"No se cumplió ninguna condición\")"
   ]
  },
  {
   "cell_type": "code",
   "execution_count": 7,
   "metadata": {},
   "outputs": [
    {
     "name": "stdout",
     "output_type": "stream",
     "text": [
      "Wow!\n"
     ]
    }
   ],
   "source": [
    "# Es posible meter IFs dentro de otros IFs. A esto se le llama anidar. En este caso, sería un IF anidado.\n",
    "A = True\n",
    "B = False\n",
    "X = 3\n",
    "Y = 3\n",
    "# Nótese que no hay paréntesis. Esto se puede hacer con comparaciones simples. No obstante, es recomendado siempre ponerlos.\n",
    "if X<=Y: \n",
    "    if A or B:\n",
    "        print (\"Wow!\")\n",
    "# Nótese que no hay ningún Else, por lo tanto, si se cambia X o Y de tal forma que la condición no se cumpla, no se imprimirá\n",
    "# nada. Por ejemplo, pruebe cambiando el valor de X por un 4."
   ]
  },
  {
   "cell_type": "code",
   "execution_count": 8,
   "metadata": {},
   "outputs": [
    {
     "name": "stdout",
     "output_type": "stream",
     "text": [
      "Sí\n",
      "¿Qué pasó?\n"
     ]
    }
   ],
   "source": [
    "# Los IF se pueden escribir en una sola línea. Es recomendado si se va a usar en expresiones sencillas.\n",
    "X = 3\n",
    "Y = 3\n",
    "print (\"Sí\") if X == Y else print(\"No\") \n",
    "# Es como si en lenguaje natural se dijera \"Imprima sí si X es igual a Y, de lo contrario imprima No.\"\n",
    "# Nótese que no usa los \":\" y el orden importa.\n",
    "# También es posible concatenar condiciones, realizando IF anidados.\n",
    "print (\"Sí\") if X != Y else print(\"No\") if X>Y else print (\"¿Qué pasó?\")"
   ]
  },
  {
   "cell_type": "code",
   "execution_count": 9,
   "metadata": {},
   "outputs": [
    {
     "name": "stdout",
     "output_type": "stream",
     "text": [
      "Funciona!\n"
     ]
    }
   ],
   "source": [
    "# Dentro de la condición de un IF es posible concatenar otras condiciones con el uso de operadores lógicos.\n",
    "X = 5\n",
    "if ((X/2 > 3) or (X//2 == 2)):\n",
    "    print (\"Funciona!\")"
   ]
  },
  {
   "cell_type": "markdown",
   "metadata": {},
   "source": [
    "### ¡Hora de realizar los ejercicios!"
   ]
  }
 ],
 "metadata": {
  "kernelspec": {
   "display_name": "Python 3",
   "language": "python",
   "name": "python3"
  },
  "language_info": {
   "codemirror_mode": {
    "name": "ipython",
    "version": 3
   },
   "file_extension": ".py",
   "mimetype": "text/x-python",
   "name": "python",
   "nbconvert_exporter": "python",
   "pygments_lexer": "ipython3",
   "version": "3.8.5"
  }
 },
 "nbformat": 4,
 "nbformat_minor": 4
}
