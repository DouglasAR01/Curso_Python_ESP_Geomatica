{
 "cells": [
  {
   "cell_type": "code",
   "execution_count": null,
   "metadata": {},
   "outputs": [],
   "source": [
    "# EJERCICIO 1: Compare el mayor de dos números. Imprima el valor del número que sea mayor.\n",
    "X = 5\n",
    "Y = 0\n",
    "\n",
    "# Escriba su código debajo de esta línea\n"
   ]
  },
  {
   "cell_type": "code",
   "execution_count": null,
   "metadata": {},
   "outputs": [],
   "source": [
    "# EJERCICIO 2: Imprima si un número X es un número par\n",
    "X = 7\n",
    "\n",
    "# Escriba su código debajo de esta línea\n"
   ]
  },
  {
   "cell_type": "code",
   "execution_count": null,
   "metadata": {},
   "outputs": [],
   "source": [
    "# EJERCICIO 3: Compare el mayor de tres números. Imprima el valor del número que sea mayor.\n",
    "X = 5\n",
    "Y = 7\n",
    "Z = 2\n",
    "\n",
    "# Escriba su código debajo de esta línea\n"
   ]
  },
  {
   "cell_type": "code",
   "execution_count": null,
   "metadata": {},
   "outputs": [],
   "source": [
    "# EJERCICIO 4: Imprima \"Impar\" si la suma de los números X y Y es IMPAR, en caso de ser PAR, imprima el resultado de la suma.\n",
    "X = 4\n",
    "Y = 7\n",
    "\n",
    "# Escriba su código debajo de esta línea\n"
   ]
  },
  {
   "cell_type": "code",
   "execution_count": null,
   "metadata": {},
   "outputs": [],
   "source": [
    "# EJERCICIO 5: Imprima la parte decimal de la división de 5/2\n",
    "# Escriba su código debajo de esta línea"
   ]
  },
  {
   "cell_type": "code",
   "execution_count": null,
   "metadata": {},
   "outputs": [],
   "source": [
    "# EJERCICIO 6: Convierta temperaturas en grados Fahrenheit a grados Celsius\n",
    "# La fórmula de conversión es F° = C°*(9/5) +32\n",
    "F = 86\n",
    "# C = ?\n",
    "# Escriba su código debajo de esta línea\n"
   ]
  }
 ],
 "metadata": {
  "kernelspec": {
   "display_name": "Python 3",
   "language": "python",
   "name": "python3"
  },
  "language_info": {
   "codemirror_mode": {
    "name": "ipython",
    "version": 3
   },
   "file_extension": ".py",
   "mimetype": "text/x-python",
   "name": "python",
   "nbconvert_exporter": "python",
   "pygments_lexer": "ipython3",
   "version": "3.8.5"
  }
 },
 "nbformat": 4,
 "nbformat_minor": 4
}
