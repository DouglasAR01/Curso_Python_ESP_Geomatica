{
 "cells": [
  {
   "cell_type": "code",
   "execution_count": null,
   "metadata": {},
   "outputs": [],
   "source": [
    "# EJERCICIO 1: Compare el mayor de dos números. Imprima el valor del número que sea mayor.\n",
    "X = 5\n",
    "Y = 0\n",
    "\n",
    "# Escriba su código debajo de esta línea\n"
   ]
  },
  {
   "cell_type": "code",
   "execution_count": null,
   "metadata": {},
   "outputs": [],
   "source": [
    "# EJERCICIO 2: Imprima si un número X es un número par\n",
    "X = 7\n",
    "\n",
    "# Escriba su código debajo de esta línea\n"
   ]
  },
  {
   "cell_type": "code",
   "execution_count": null,
   "metadata": {},
   "outputs": [],
   "source": [
    "# EJERCICIO 3: Compare el mayor de tres números. Imprima el valor del número que sea mayor.\n",
    "X = 5\n",
    "Y = 7\n",
    "Z = 2\n",
    "\n",
    "# Escriba su código debajo de esta línea\n"
   ]
  },
  {
   "cell_type": "code",
   "execution_count": null,
   "metadata": {},
   "outputs": [],
   "source": [
    "# EJERCICIO 4: Imprima \"Impar\" si la suma de los números X y Y es IMPAR, en caso de ser PAR, imprima el resultado de la suma.\n",
    "X = 4\n",
    "Y = 7\n",
    "\n",
    "# Escriba su código debajo de esta línea\n"
   ]
  },
  {
   "cell_type": "code",
   "execution_count": null,
   "metadata": {},
   "outputs": [],
   "source": [
    "# EJERCICIO 5: Imprima la parte decimal de una división cualquiera, es decir, si la división da 2.5, debe imprimirse 0.5\n",
    "divisor = 3\n",
    "dividendo = 5\n",
    "# Escriba su código debajo de esta línea"
   ]
  },
  {
   "cell_type": "code",
   "execution_count": null,
   "metadata": {},
   "outputs": [],
   "source": [
    "# EJERCICIO 6: Convierta temperaturas en grados Fahrenheit a grados Celsius\n",
    "# La fórmula de conversión es F° = C°*(9/5) +32\n",
    "F = 86\n",
    "# C = ?\n",
    "# Escriba su código debajo de esta línea\n"
   ]
  },
  {
   "cell_type": "code",
   "execution_count": null,
   "metadata": {},
   "outputs": [],
   "source": [
    "# EJERCICIO 7: Imprima los números del 1 hasta el 100\n",
    "# Escriba su código debajo de esta línea"
   ]
  },
  {
   "cell_type": "code",
   "execution_count": null,
   "metadata": {},
   "outputs": [],
   "source": [
    "# EJERCICIO 8: Para los números del 1 hasta el 50, imprima solo los que son impares.\n",
    "# Escriba su código debajo de esta línea"
   ]
  },
  {
   "cell_type": "code",
   "execution_count": null,
   "metadata": {},
   "outputs": [],
   "source": [
    "# EJERCICIO 9: Imprima cada letra de cada palabra presente en la siguiente lista. Debe de haber un separador \"---\" entre cada\n",
    "# palabra.\n",
    "# Pista: Va a necesitar anidar ciclos.\n",
    "palabras = [\"Hola\", \"mundo\", \"gané\"]\n",
    "# Escriba su código debajo de esta línea"
   ]
  },
  {
   "cell_type": "code",
   "execution_count": null,
   "metadata": {},
   "outputs": [],
   "source": [
    "# EJERCICIO 10: Pídale al usuario introducir N número de palabras, dichas palabras deben ser almacenadas en una lista\n",
    "# y posteriormente ser mostradas en pantalla.\n",
    "# Pista: Para declarar una lista vacía, es posible declarar una variable de esta forma: lista = []\n",
    "palabras = []"
   ]
  },
  {
   "cell_type": "code",
   "execution_count": null,
   "metadata": {},
   "outputs": [],
   "source": [
    "# EJERCICIO 11: De la siguiente lista, extraiga los números del 57 al 298 e imprima solo los que el módulo 3 sea 1.\n",
    "lista = [i for i in range(500)]\n",
    "# Escriba su código debajo de esta línea"
   ]
  },
  {
   "cell_type": "code",
   "execution_count": null,
   "metadata": {},
   "outputs": [],
   "source": [
    "# EJERCICIO 12: De la siguiente lista, extraiga los números desde X hasta Y, guarde los números que sean múltiplos de 5,\n",
    "# imprima cuántos son, e imprima la lista.\n",
    "lista = [i for i in range(500)]\n",
    "X = 32\n",
    "Y = 187\n",
    "# Escriba su código debajo de esta línea"
   ]
  },
  {
   "cell_type": "code",
   "execution_count": null,
   "metadata": {},
   "outputs": [],
   "source": [
    "# EJERCICIO OVER 9000: Este ejercicio es un verdadero reto para los novatos.\n",
    "# Imprima los números del 1 hasta el 100. Pero cuando el número sea múltiplo de 3 debe decir \"Hola\",\n",
    "# cuando sea múltiplo de 5 debe decir \"Mundo\". Cuando sea múltiplo de ambos números, debe decir \"Hola mundo\".\n",
    "# Ejemplo:\n",
    "# 1\n",
    "# 2\n",
    "# Hola\n",
    "# 4\n",
    "# mundo\n",
    "# ...\n",
    "# 14\n",
    "# Hola mundo\n",
    "# Escriba su código debajo de esta línea"
   ]
  }
 ],
 "metadata": {
  "kernelspec": {
   "display_name": "Python 3",
   "language": "python",
   "name": "python3"
  },
  "language_info": {
   "codemirror_mode": {
    "name": "ipython",
    "version": 3
   },
   "file_extension": ".py",
   "mimetype": "text/x-python",
   "name": "python",
   "nbconvert_exporter": "python",
   "pygments_lexer": "ipython3",
   "version": "3.8.5"
  }
 },
 "nbformat": 4,
 "nbformat_minor": 4
}
