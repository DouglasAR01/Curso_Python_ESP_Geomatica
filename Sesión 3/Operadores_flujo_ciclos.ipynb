{
 "cells": [
  {
   "cell_type": "markdown",
   "metadata": {},
   "source": [
    "![Geomática](../Recursos/img/geo_logo.jpg)\n",
    "# Introducción a Python\n",
    "\n",
    "**Sesión 3:** Operadores y estructuras de control de flujo."
   ]
  },
  {
   "cell_type": "markdown",
   "metadata": {},
   "source": [
    "### Operadores\n",
    "Python, al igual que todos los lenguajes de programación, permite realizar operaciones matemáticas de todo tipo, partiendo desde los operadores aritméticos más básicos. A su vez, también incluye (sin el uso de librerías o palabras reservadas) 3 operadores avanzados: la potenciación, el módulo y la división entera.\n",
    "\n",
    "Este curso __NO__ inclurirá los operadores binarios (que trabajan con números binarios, es decir, a nivel de bits) que Python incluye, debido a su impertinencia en el curso, no obstante, se informa al estudiante que Python los incluye usando los siguientes símbolos: __&, |, <<, >>, ~.__\n",
    "\n",
    "Generalmente, cuesta entender en qué consiste el módulo y la división entera, por lo tanto, aquí se adjuntan unos ejemplos:\n",
    "\n",
    "__Módulo__\n",
    "\n",
    "El módulo retorna el residuo de una división, como se puede ver en la imagen. El residuo está marcado con un cuadro color rojo.\n",
    "![Modulo](../Recursos/img/modulo.png)\n",
    "\n",
    "__División entera__\n",
    "\n",
    "La división entera funciona similar a una división convencional, no obstante, solo retorna la parte entera de una fracción.\n",
    "![Dentera](../Recursos/img/divi_entera.png)"
   ]
  },
  {
   "cell_type": "code",
   "execution_count": 1,
   "metadata": {},
   "outputs": [
    {
     "name": "stdout",
     "output_type": "stream",
     "text": [
      "Suma: 2 \n",
      "\n",
      "Resta: 0 \n",
      "\n",
      "Multiplicación: 4 \n",
      "\n",
      "División: 2.5 \n",
      "\n",
      "Potenciación: 8 \n",
      "\n",
      "Módulo: 1 \n",
      "\n",
      "División entera: 2 \n",
      "\n"
     ]
    }
   ],
   "source": [
    "# OPERADORES ARITMÉTICOS\n",
    "# Los operadores aritméticos no requieren mayor explicación.\n",
    "suma = 1+1 # 2\n",
    "resta = 1-1 # 0\n",
    "multip = 2*2 # 4\n",
    "divi = 5/2 # 2.5 (número flotante)\n",
    "\n",
    "# OPERADORES AVANZADOS\n",
    "# La potenciación consiste en multiplicar la base, a la izquierda (en el ejemplo es el 2) las veces que indique el\n",
    "# exponente, a la derecha (el 3). En este caso, sería lo mismo que decir 2*2*2.\n",
    "potencia = 2**3 # 8\n",
    "# El módulo es una operación que devuelve el residuo de una división.\n",
    "modulo = 3%2 # 1\n",
    "divi_entera = 5//2 # 2\n",
    "\n",
    "# Resultados\n",
    "print (\"Suma:\", suma, \"\\n\")\n",
    "print (\"Resta:\", resta, \"\\n\")\n",
    "print (\"Multiplicación:\", multip, \"\\n\")\n",
    "print (\"División:\", divi, \"\\n\")\n",
    "print (\"Potenciación:\", potencia, \"\\n\")\n",
    "print (\"Módulo:\", modulo, \"\\n\")\n",
    "print (\"División entera:\", divi_entera, \"\\n\")"
   ]
  },
  {
   "cell_type": "code",
   "execution_count": 2,
   "metadata": {},
   "outputs": [],
   "source": [
    "# FORMAS RESUMIDAS DE LOS OPERADORES\n",
    "# Python permite resumir las operaciones asignadas a variables de una forma muy sencilla y universal para las operaciones.\n",
    "x = 3\n",
    "x += 2 # Es lo mismo que decir x = x+2 SUMA\n",
    "x -= 2 # Es lo mismo que decir x = x-2 RESTA\n",
    "x *= 2 # Es lo mismo que decir x = x*2 MULTIPLICACIÓN\n",
    "x /= 2 # Es lo mismo que decir x = x/2 DIVISIÓN\n",
    "x **= 2 # Es lo mismo que decir x = x**2 POTENCIACIÓN\n",
    "x %= 2 # Es lo mismo que decir x = x%2 MÓDULO\n",
    "x //= 2 # Es lo mismo que decir x = x//2 DIVISIÓN ENTERA"
   ]
  },
  {
   "cell_type": "markdown",
   "metadata": {},
   "source": [
    "## Control de flujo, operadores de comparación y operadores lógicos\n",
    "En casi todas las situaciones de la vida real hay que tomar decisiones basadas en ciertas condiciones y, debido a ello, modificar el comportamiento o resultado de algo. En todos los lenguajes de programación esto mismo se puede hacer.\n",
    "\n",
    "Aunque uno quizá no se percate a simple vista, todas las decisiones que se toman en la vida real están basadas en operaciones de comparación o lógicos. Por ejemplo, se toma la decisión de comprar en la tienda X porque el precio del producto que nos interesa es menor al de la tienda Y. Se toma la decisión de adoptar un gato porque es bonito (bonito=True) __y__ (And) __NO__ es dependiente (dependiente=False).\n",
    "\n",
    "Entonces, para tomar esas decisiones es importante conocer los operadores de comparación y los operadores lógicos.\n",
    "\n",
    "__Operadores de comparación__\n",
    "\n",
    "Todos los operadores de comparación evalúan dos datos (pueden ser variables, objetos, números, etc.) y devolverán un dato de tipo Booleano (verdadero o falso) dependiendo de si se cumple el operador o no.\n",
    "\n",
    "|Operador|Nombre|Ejemplo|Equivalencia natural|\n",
    "|---|---|---|---|\n",
    "|==|Igualdad|x == y|¿Es X igual a Y?|\n",
    "|!=|Diferencia|x != y|¿Es X diferente a Y?|\n",
    "|>|Mayor que|x > y|¿Es X mayor que Y?|\n",
    "|<|Menor que|x < y|¿Es X menor que Y?|\n",
    "|>=|Mayor o igual|x >= y|¿Es X mayor __O__ igual que Y?|\n",
    "|<=|Menor o igual|x <= y|¿Es X menor __O__ igual que Y?|\n",
    "\n",
    "__Operadores lógicos__\n",
    "\n",
    "Los operadores lógicos se usan para concatenar otras declaraciones de comparación.\n",
    "\n",
    "|Operador|Descripción|Ejemplo|\n",
    "|---|---|---|\n",
    "|and|Devolverá __VERDADERO__ si __AMBOS__ datos son verdaderos|1<5 __and__ 2<10|\n",
    "|or|Devolverá __VERDADERO__ si __AL MENOS UNO__ de los datos es verdadero|6<5 __or__ 2<10|\n",
    "|not|__INVIERTE__ el valor booleano de la declaración posterior (a la derecha) de este operador|not(1<5 __and__ 2<10)|\n",
    "\n",
    "__Tablas de verdad__\n",
    "\n",
    "Tabla de verdad del operador __AND__\n",
    "\n",
    "|q|p|r|\n",
    "|---|---|---|\n",
    "|True|True|True|\n",
    "|True|False|False|\n",
    "|False|True|False|\n",
    "|False|False|False|\n",
    "\n",
    "Tabla de verdad del operador __OR__\n",
    "\n",
    "|q|p|r|\n",
    "|---|---|---|\n",
    "|True|True|True|\n",
    "|True|False|True|\n",
    "|False|True|True|\n",
    "|False|False|False|"
   ]
  },
  {
   "cell_type": "code",
   "execution_count": 3,
   "metadata": {},
   "outputs": [
    {
     "name": "stdout",
     "output_type": "stream",
     "text": [
      "¿Es X igual a Y? False \n",
      "\n",
      "¿Es X diferente a Y? True \n",
      "\n",
      "¿Es X mayor que Y? False \n",
      "\n",
      "¿Es X menor que Y? True \n",
      "\n",
      "¿Es X mayor o igual a Y? False \n",
      "\n",
      "¿Es X menor o igual a Y? True \n",
      "\n"
     ]
    }
   ],
   "source": [
    "#EJEMPLOS DE COMPARACIÓN\n",
    "X = 5\n",
    "Y = 6\n",
    "print (\"¿Es X igual a Y?\", X==Y, \"\\n\")\n",
    "print (\"¿Es X diferente a Y?\", X!=Y, \"\\n\")\n",
    "print (\"¿Es X mayor que Y?\", X>Y, \"\\n\")\n",
    "print (\"¿Es X menor que Y?\", X<Y, \"\\n\")\n",
    "print (\"¿Es X mayor o igual a Y?\", X>=Y, \"\\n\")\n",
    "print (\"¿Es X menor o igual a Y?\", X<=Y, \"\\n\")"
   ]
  },
  {
   "cell_type": "code",
   "execution_count": 4,
   "metadata": {},
   "outputs": [
    {
     "name": "stdout",
     "output_type": "stream",
     "text": [
      "1. False \n",
      "\n",
      "2. True \n",
      "\n",
      "3. True \n",
      "\n",
      "4. False \n",
      "\n",
      "5. True \n",
      "\n",
      "6. False \n",
      "\n",
      "7. True \n",
      "\n"
     ]
    }
   ],
   "source": [
    "# EJEMPLOS DE OPERADORES LÓGICOS\n",
    "X = True\n",
    "Y = False\n",
    "Z = False\n",
    "print (\"1.\", X and Y, \"\\n\")\n",
    "print (\"2.\", X and not Y, \"\\n\")\n",
    "print (\"3.\", X or Y, \"\\n\")\n",
    "print (\"4.\", not X or Y, \"\\n\")\n",
    "print (\"5.\", not Z and (X or Y), \"\\n\")\n",
    "print (\"6.\", not Z and not(X or Y), \"\\n\")\n",
    "print (\"7.\", not(not Z and not(X or Y)), \"\\n\")"
   ]
  },
  {
   "cell_type": "code",
   "execution_count": 5,
   "metadata": {},
   "outputs": [
    {
     "name": "stdout",
     "output_type": "stream",
     "text": [
      "Es bonito!\n"
     ]
    }
   ],
   "source": [
    "# IF: La palabra reservada de las decisiones. (Traduce a \"si\" en español.)\n",
    "# Ahora que se tienen las bases de la comparación, se pueden tomar decisiones basado en el resultado de ello.\n",
    "# La estructura de control IF solo ejecutará el código dentro de esta si la condición es verdadera (True)\n",
    "bonito = True\n",
    "if (bonito): # Es lo mismo que decir if (bonito == True).\n",
    "    print (\"Es bonito!\")\n",
    "# Lo que se ejecutará si no se cumple la condición. Los Else son opcionales, ya que hay situaciones en las que quizá\n",
    "# no se quiere hacer nada si la condición no se cumple. Los Else solo se pueden poner si hay una estructura IF declarada \n",
    "# anteriormente.\n",
    "else: \n",
    "    print (\"Es feo :(\")"
   ]
  },
  {
   "cell_type": "code",
   "execution_count": 6,
   "metadata": {},
   "outputs": [
    {
     "name": "stdout",
     "output_type": "stream",
     "text": [
      "X es mayor o igual que Y\n"
     ]
    }
   ],
   "source": [
    "# Elif: Para cuando se tienen múltiples condiciones\n",
    "# Los Elif deben de ir ANTES del Else.\n",
    "X = 3\n",
    "Y = 3\n",
    "if (X>Y):\n",
    "    print(\"X es mayor que Y\")\n",
    "elif (X>=Y):\n",
    "    print(\"X es mayor o igual que Y\")\n",
    "else:\n",
    "    print(\"No se cumplió ninguna condición\")"
   ]
  },
  {
   "cell_type": "code",
   "execution_count": 7,
   "metadata": {},
   "outputs": [
    {
     "name": "stdout",
     "output_type": "stream",
     "text": [
      "Wow!\n"
     ]
    }
   ],
   "source": [
    "# Es posible meter IFs dentro de otros IFs. A esto se le llama anidar. En este caso, sería un IF anidado.\n",
    "A = True\n",
    "B = False\n",
    "X = 3\n",
    "Y = 3\n",
    "# Nótese que no hay paréntesis. Esto se puede hacer con comparaciones simples. No obstante, es recomendado siempre ponerlos.\n",
    "if X<=Y: \n",
    "    if A or B:\n",
    "        print (\"Wow!\")\n",
    "# Nótese que no hay ningún Else, por lo tanto, si se cambia X o Y de tal forma que la condición no se cumpla, no se imprimirá\n",
    "# nada. Por ejemplo, pruebe cambiando el valor de X por un 4."
   ]
  },
  {
   "cell_type": "code",
   "execution_count": 8,
   "metadata": {},
   "outputs": [
    {
     "name": "stdout",
     "output_type": "stream",
     "text": [
      "Sí\n",
      "¿Qué pasó?\n"
     ]
    }
   ],
   "source": [
    "# Los IF se pueden escribir en una sola línea. Es recomendado si se va a usar en expresiones sencillas.\n",
    "X = 3\n",
    "Y = 3\n",
    "print (\"Sí\") if X == Y else print(\"No\")\n",
    "# Es como si en lenguaje natural se dijera \"Imprima sí si X es igual a Y, de lo contrario imprima No.\"\n",
    "# Nótese que no usa los \":\" y el orden importa.\n",
    "# También es posible concatenar condiciones, realizando IF anidados.\n",
    "print (\"Sí\") if X != Y else print(\"No\") if X>Y else print (\"¿Qué pasó?\")"
   ]
  },
  {
   "cell_type": "code",
   "execution_count": 9,
   "metadata": {},
   "outputs": [
    {
     "name": "stdout",
     "output_type": "stream",
     "text": [
      "Funciona!\n"
     ]
    }
   ],
   "source": [
    "# Dentro de la condición de un IF es posible concatenar otras condiciones con el uso de operadores lógicos.\n",
    "X = 5\n",
    "if ((X/2 > 3) or (X//2 == 2)):\n",
    "    print (\"Funciona!\")"
   ]
  },
  {
   "cell_type": "markdown",
   "metadata": {},
   "source": [
    "## Ciclos\n",
    "Muchas veces se requieren hacer ciertas operaciones repetidas veces hasta que se cumpla cierta condición, otras veces hay que realizar operaciones similares sobre un conjunto de datos, ¡Incluso hay veces en las que es necesario un ciclo sin fin!\n",
    "\n",
    "### While (mientras) y For (para/por)\n",
    "Python tiene dos formas de hacer ciclos, estas son mediante el uso de las palabras reservadas For y While. Ambas tienen un objetivo similar: repetir, no obstante, tienen algunas diferencias importantes.\n",
    "\n",
    "#### For\n",
    "Los ciclos For, en Python, son usados para __iterar__ sobre una secuencia. Se denomina iteración a cada vez que se realiza una repetición. Las secuencias pueden ser una lista, una tupla, un diccionario, un set (lista sin orden), o una cadena (string).\n",
    "\n",
    "Es importante resaltar que los For en Python __NO__ son como los For en otros lenguajes de programación tales como C++, C#, Java, PHP, entre otros, debido a que en esos lenguajes de programación los For, al igual que como se verá en unos instantes con los While, repiten su contenido hasta que se cumple una condición. El verdadero simil del For de Python vendría siendo lo que en otros lenguajes de programación se denomina un __Foreach__.\n",
    "\n",
    "En resumen, los For en Python, repiten un mismo procedimiento u operación __*por* cada__ elemento presente en una secuencia. En el ejemplo de a continuación dicha secuencia es una lista.\n",
    "![For](../Recursos/img/for.png)\n",
    "\n",
    "#### While\n",
    "Los ciclos While en Python son similares a los While de otros lenguajes de programación. Ejecutan el contenido dentro de ellos siempre y cuando la condición que se les especifica sea verdadera. Es así de sencillo, no obstante, eso no significa que se deban de usar arbitrariamente, debido a que un mal uso de un ciclo While, puede hacer que el programa quede atascado en un ciclo sin fin.\n",
    "\n",
    "__La mejor forma de aprender a usar los ciclos es viéndolos en funcionamiento__"
   ]
  },
  {
   "cell_type": "code",
   "execution_count": 10,
   "metadata": {},
   "outputs": [
    {
     "name": "stdout",
     "output_type": "stream",
     "text": [
      "0\n",
      "1\n",
      "2\n",
      "3\n",
      "4\n",
      "5\n",
      "6\n",
      "7\n",
      "8\n",
      "9\n"
     ]
    }
   ],
   "source": [
    "### WHILE\n",
    "# En este ejemplo se usará un while para imprimir el valor de una variable repetidas veces.\n",
    "i=0\n",
    "while (i<=9): # Nótese que la condición para que el ciclo se repita es que la variable i sea menor o igual que 9.\n",
    "    print (i)\n",
    "    i+=1 # Nótese que se le suma 1 a la variable i después de ser mostrada en pantalla. Si esto no se hace, el ciclo NO termina."
   ]
  },
  {
   "cell_type": "code",
   "execution_count": 11,
   "metadata": {},
   "outputs": [
    {
     "name": "stdout",
     "output_type": "stream",
     "text": [
      "0\n",
      "1\n",
      "2\n",
      "3\n",
      "4\n",
      "5\n",
      "6\n",
      "7\n",
      "8\n",
      "9\n"
     ]
    }
   ],
   "source": [
    "### WHILE: ¿Qué pasa si quiero salir del ciclo a pesar de que la condición del While no se haya cumplido?\n",
    "# En algunas ocaciones, se desconoce cuando hay que terminar un ciclo, por lo tanto, hay que usar condiciones adicionales.\n",
    "i = 0\n",
    "while (True): # ¡Nótese que este ciclo se repetirá infinitas veces si nada lo detiene!\n",
    "    print (i)\n",
    "    i+=1\n",
    "    if (i>9):\n",
    "        break # ¡Esta palabra clave salvó el día!\n",
    "# La palabra clave break ROMPERÁ el ciclo una vez se le llame. Es muy útil llamarla junto con IFs cuando uno desconoce cuando\n",
    "# detenerse."
   ]
  },
  {
   "cell_type": "code",
   "execution_count": 12,
   "metadata": {},
   "outputs": [
    {
     "name": "stdout",
     "output_type": "stream",
     "text": [
      "Hola, se supone que soy infinito, ¿no?\n"
     ]
    }
   ],
   "source": [
    "### WHILE: El uso de break sin condiciones adicionales no tiene sentido.\n",
    "while (True): # ¡Otra vez un ciclo infinito!\n",
    "    print (\"Hola, se supone que soy infinito, ¿no?\")\n",
    "    break\n",
    "# Como se puede ver, solo se ejecutó la operación justo antes del break. Luego el ciclo se termina."
   ]
  },
  {
   "cell_type": "code",
   "execution_count": 13,
   "metadata": {},
   "outputs": [
    {
     "name": "stdout",
     "output_type": "stream",
     "text": [
      "3\n",
      "6\n",
      "9\n",
      "12\n",
      "15\n",
      "18\n",
      "21\n",
      "24\n",
      "27\n",
      "30\n"
     ]
    }
   ],
   "source": [
    "### WHILE: ¿Qué pasa si quiero detener una iteración, pero no romper el ciclo?\n",
    "# Python permite hacer eso mediante la palabra reservada continue.\n",
    "# En este ejemplo se imprimirán los números del 1 hasta el 30 que sean múltiplos de 3 nada más.\n",
    "i=0\n",
    "while (i<=30):\n",
    "    i += 1\n",
    "    if (i%3!=0):\n",
    "        continue\n",
    "    print (i)\n",
    "# Muchas veces lo que se puede hacer con el uso de un continue se puede lograr sin el uso de este, simplemente cambiando\n",
    "# la lógica con la que funciona el ciclo. Por ejemplo, el mismo resultado anterior se podría haber logrado incluso de forma\n",
    "# más sencilla de esta forma:\n",
    "# i = 0\n",
    "# while(i<=30):\n",
    "#     i += 1\n",
    "#     if (i%3==0):\n",
    "#         print (i)\n",
    "\n",
    " "
   ]
  },
  {
   "cell_type": "code",
   "execution_count": 14,
   "metadata": {},
   "outputs": [
    {
     "name": "stdout",
     "output_type": "stream",
     "text": [
      "Por favor, introduzca la letra A. En mayúscula: a\n",
      "Por favor, introduzca la letra A. En mayúscula: b\n",
      "Por favor, introduzca la letra A. En mayúscula: c\n",
      "Por favor, introduzca la letra A. En mayúscula: A\n"
     ]
    }
   ],
   "source": [
    "### WHILE\n",
    "# Algunas veces queremos que se ejecute un ciclo un número indefinido de veces hasta que, por fin, se cumpla la condición.\n",
    "# En este ejemplo, se le pedirá al usuario introducir un caracter. Si ese caracter no es la letra A (mayúscula, importante)\n",
    "# el ciclo no termina y seguirá pidiendo lo mismo.\n",
    "var = \"\"\n",
    "while (var!=\"A\"):\n",
    "    var = input(\"Por favor, introduzca la letra A. En mayúscula: \")\n",
    "# Algunas veces es necesario recibir números, en ese caso hay que CONVERTIR la cadena recibida en un número.\n",
    "# Eso se haría de la siguiente forma: var = int(input(\"Mensaje\"))"
   ]
  },
  {
   "cell_type": "code",
   "execution_count": 15,
   "metadata": {},
   "outputs": [
    {
     "name": "stdout",
     "output_type": "stream",
     "text": [
      "0\n",
      "1\n",
      "2\n",
      "3\n",
      "4\n",
      "5\n",
      "6\n",
      "7\n",
      "8\n",
      "9\n"
     ]
    }
   ],
   "source": [
    "### FOR\n",
    "# Dedibo a que los For trabajan con secuencias. Python tiene una palabra reservada\n",
    "# que devuelve una SECUENCIA de números, esta palabra se llama Range.\n",
    "# Range recibe como parámetro un número y devolverá una secuencia de números que, por defecto, empiezan en cero y va hasta n-1.\n",
    "# incrementando de a 1, también por defecto.\n",
    "for i in range(10): # Nótese la palabra reservara \"in\". Esta sirve para trabajar con colecciones.\n",
    "    print (i)"
   ]
  },
  {
   "cell_type": "code",
   "execution_count": 16,
   "metadata": {},
   "outputs": [
    {
     "name": "stdout",
     "output_type": "stream",
     "text": [
      "0\n",
      "3\n",
      "6\n",
      "9\n",
      "12\n",
      "15\n",
      "18\n",
      "21\n",
      "24\n",
      "27\n",
      "30\n"
     ]
    }
   ],
   "source": [
    "### FOR\n",
    "# La función Range es muy útil debido a que, si se le pasan parámetros adicionales, se puede modificar el comportamiento.\n",
    "# El primer parámetro que recibe Range es desde donde empieza. Si no se especifica, empieza siempre desde cero. El segundo es\n",
    "# el límite N. Ese siempre hay que especificarlo y siempre será devuelta una secuencia con N-1 números.\n",
    "# El tercer parámetro es el incremento. Por defecto, el incremento es de 1, pero puede ser modificado.\n",
    "# EJEMPLO: La tabla de multiplicar del 3\n",
    "for i in range(0,31,3): #Nótese que se empieza desde 0, hasta 31 (para que sea de 0 a 31-1), sumando de a 3 cada vez.\n",
    "    print(i)"
   ]
  },
  {
   "cell_type": "code",
   "execution_count": 17,
   "metadata": {},
   "outputs": [
    {
     "name": "stdout",
     "output_type": "stream",
     "text": [
      "carne\n",
      "frutas\n",
      "verduras\n"
     ]
    }
   ],
   "source": [
    "### FOR: Trabajando con otro tipo de secuencias.\n",
    "# En este ejemplo, se trabajará con, en lugar de una secuencia de números, una lista de cadenas.\n",
    "lista_compras = [\"carne\", \"frutas\", \"verduras\"]\n",
    "for compra in lista_compras:\n",
    "    print (compra)"
   ]
  },
  {
   "cell_type": "code",
   "execution_count": 18,
   "metadata": {},
   "outputs": [
    {
     "name": "stdout",
     "output_type": "stream",
     "text": [
      "manzana\n",
      "pera\n",
      "uva\n",
      "------------\n",
      "\n",
      "manzana\n",
      "pera\n",
      "uva\n",
      "sandía\n",
      "maracuyá\n"
     ]
    }
   ],
   "source": [
    "### FOR: break y continue también sirven para este tipo de ciclo.\n",
    "# En este ejemplo, se imprimirán todas las frutas de la lista, hasta que la fruta sea la granada. En dado caso, no se mostrará\n",
    "# y el ciclo terminará.\n",
    "lista_frutas = [\"manzana\", \"pera\", \"uva\", \"granada\", \"sandía\", \"maracuyá\"]\n",
    "for fruta in lista_frutas:\n",
    "    if (fruta==\"granada\"):\n",
    "        break\n",
    "    print (fruta)\n",
    "    \n",
    "print (\"------------\\n\")\n",
    "# En este otro ejemplo, solo se omitirá imprimir a la fruta granada.\n",
    "for fruta in lista_frutas:\n",
    "    if (fruta==\"granada\"):\n",
    "        continue\n",
    "    print (fruta)"
   ]
  },
  {
   "cell_type": "code",
   "execution_count": 19,
   "metadata": {},
   "outputs": [
    {
     "name": "stdout",
     "output_type": "stream",
     "text": [
      "H\n",
      "o\n",
      "l\n",
      "a\n"
     ]
    }
   ],
   "source": [
    "# FOR: ¿Recuerdan que las cadenas (strings) también son listas? ¡Pues, al ser la lista un tipo de secuencia, se pueden iterar!\n",
    "for letra in \"Hola\":\n",
    "    print (letra)"
   ]
  },
  {
   "cell_type": "code",
   "execution_count": 20,
   "metadata": {},
   "outputs": [
    {
     "name": "stdout",
     "output_type": "stream",
     "text": [
      "manzana\n",
      "pera\n",
      "uva\n",
      "granada\n",
      "sandía\n",
      "maracuyá\n",
      "¡Todas las frutas fueron mostradas!\n"
     ]
    }
   ],
   "source": [
    "# FOR: Los for también tienen un Else, como los IFs, estos solo se ejecutan cuando el ciclo For termina (de cualquier forma)\n",
    "lista_frutas = [\"manzana\", \"pera\", \"uva\", \"granada\", \"sandía\", \"maracuyá\"]\n",
    "for fruta in lista_frutas:\n",
    "    print (fruta)\n",
    "else:\n",
    "    print (\"¡Todas las frutas fueron mostradas!\")"
   ]
  },
  {
   "cell_type": "code",
   "execution_count": 21,
   "metadata": {},
   "outputs": [
    {
     "name": "stdout",
     "output_type": "stream",
     "text": [
      "Un perro feo\n",
      "Un gato feo\n",
      "Un humano feo\n",
      "Un perro bonito\n",
      "Un gato bonito\n",
      "Un humano bonito\n",
      "Un perro agresivo\n",
      "Un gato agresivo\n",
      "Un humano agresivo\n"
     ]
    }
   ],
   "source": [
    "# FOR y WHILE: Al igual que con los IFs, es posible anidar ciclos.\n",
    "# En este ejemplo, por cada adjetivo, se imprimirá un animal de la lista de animales\n",
    "adjetivo = [\"feo\", \"bonito\", \"agresivo\"]\n",
    "animal = [\"perro\", \"gato\", \"humano\"]\n",
    "for ad in adjetivo:\n",
    "    for ani in animal:\n",
    "        print (\"Un\", ani, ad)"
   ]
  },
  {
   "cell_type": "code",
   "execution_count": 22,
   "metadata": {},
   "outputs": [
    {
     "name": "stdout",
     "output_type": "stream",
     "text": [
      "6 1000\n"
     ]
    }
   ],
   "source": [
    "### FOR: Los ciclos for pueden ser escritos en una sola línea. Al igual que con los IFs solo es recomendado para cuando sean\n",
    "# operaciones básicas.\n",
    "lista_a = [1,2,3,4,5,6] # Esta sería una forma de declarar una lista que contenga los números del 1 al 6, sencillo, ¿no?\n",
    "# ¿Pero y qué pasa si quiero iniciar una lista con los números del 1 al 1000? ¡Qué pereza escribirlos del 1 al 1000!\n",
    "lista_b = [i for i in range(1,1001)]\n",
    "print (len(lista_a),len(lista_b))"
   ]
  },
  {
   "cell_type": "markdown",
   "metadata": {},
   "source": [
    "### Slicing\n",
    "Python, a diferencia de otros lenguajes de programación, permite \"navegar\" a través de las listas de una forma muy sencilla, sin el uso de ciclos For o ciclos While. Esto se entenderá mejor con los siguientes ejemplos."
   ]
  },
  {
   "cell_type": "code",
   "execution_count": 23,
   "metadata": {},
   "outputs": [
    {
     "name": "stdout",
     "output_type": "stream",
     "text": [
      "500\n",
      "501\n",
      "502\n",
      "503\n",
      "504\n",
      "505\n",
      "506\n",
      "507\n",
      "508\n",
      "509\n",
      "510\n",
      "511\n",
      "512\n",
      "513\n",
      "514\n",
      "515\n",
      "516\n",
      "517\n",
      "518\n",
      "519\n",
      "520\n",
      "521\n",
      "522\n",
      "523\n",
      "524\n",
      "525\n",
      "526\n",
      "527\n",
      "528\n",
      "529\n",
      "530\n",
      "531\n",
      "532\n",
      "533\n",
      "534\n",
      "535\n",
      "536\n",
      "537\n",
      "538\n",
      "539\n",
      "540\n",
      "541\n",
      "542\n",
      "543\n",
      "544\n",
      "545\n",
      "546\n",
      "547\n",
      "548\n",
      "549\n",
      "550\n",
      "551\n",
      "552\n",
      "553\n",
      "554\n",
      "555\n",
      "556\n",
      "557\n",
      "558\n",
      "559\n",
      "560\n",
      "561\n",
      "562\n",
      "563\n",
      "564\n",
      "565\n",
      "566\n",
      "567\n",
      "568\n",
      "569\n",
      "570\n",
      "571\n",
      "572\n",
      "573\n",
      "574\n",
      "575\n",
      "576\n",
      "577\n",
      "578\n",
      "579\n",
      "580\n",
      "581\n",
      "582\n",
      "583\n",
      "584\n",
      "585\n",
      "586\n",
      "587\n",
      "588\n",
      "589\n",
      "590\n",
      "591\n",
      "592\n",
      "593\n",
      "594\n",
      "595\n",
      "596\n",
      "597\n",
      "598\n",
      "599\n",
      "600\n",
      "601\n",
      "602\n",
      "603\n",
      "604\n",
      "605\n",
      "606\n",
      "607\n",
      "608\n",
      "609\n",
      "610\n",
      "611\n",
      "612\n",
      "613\n",
      "614\n",
      "615\n",
      "616\n",
      "617\n",
      "618\n",
      "619\n",
      "620\n",
      "621\n",
      "622\n",
      "623\n",
      "624\n",
      "625\n",
      "626\n",
      "627\n",
      "628\n",
      "629\n",
      "630\n",
      "631\n",
      "632\n",
      "633\n",
      "634\n",
      "635\n",
      "636\n",
      "637\n",
      "638\n",
      "639\n",
      "640\n",
      "641\n",
      "642\n",
      "643\n",
      "644\n",
      "645\n",
      "646\n",
      "647\n",
      "648\n",
      "649\n",
      "650\n",
      "651\n",
      "652\n",
      "653\n",
      "654\n",
      "655\n",
      "656\n",
      "657\n",
      "658\n",
      "659\n",
      "660\n",
      "661\n",
      "662\n",
      "663\n",
      "664\n",
      "665\n",
      "666\n",
      "667\n",
      "668\n",
      "669\n",
      "670\n",
      "671\n",
      "672\n",
      "673\n",
      "674\n",
      "675\n",
      "676\n",
      "677\n",
      "678\n",
      "679\n",
      "680\n",
      "681\n",
      "682\n",
      "683\n",
      "684\n",
      "685\n",
      "686\n",
      "687\n",
      "688\n",
      "689\n",
      "690\n",
      "691\n",
      "692\n",
      "693\n",
      "694\n",
      "695\n",
      "696\n",
      "697\n",
      "698\n",
      "699\n",
      "700\n",
      "701\n",
      "702\n",
      "703\n",
      "704\n",
      "705\n",
      "706\n",
      "707\n",
      "708\n",
      "709\n",
      "710\n",
      "711\n",
      "712\n",
      "713\n",
      "714\n",
      "715\n",
      "716\n",
      "717\n",
      "718\n",
      "719\n",
      "720\n",
      "721\n",
      "722\n",
      "723\n",
      "724\n",
      "725\n",
      "726\n",
      "727\n",
      "728\n",
      "729\n",
      "730\n",
      "731\n",
      "732\n",
      "733\n",
      "734\n",
      "735\n",
      "736\n",
      "737\n",
      "738\n",
      "739\n",
      "740\n",
      "741\n",
      "742\n",
      "743\n",
      "744\n",
      "745\n",
      "746\n",
      "747\n",
      "748\n",
      "749\n",
      "750\n",
      "751\n",
      "752\n",
      "753\n",
      "754\n",
      "755\n",
      "756\n",
      "757\n",
      "758\n",
      "759\n",
      "760\n",
      "761\n",
      "762\n",
      "763\n",
      "764\n",
      "765\n",
      "766\n",
      "767\n",
      "768\n",
      "769\n",
      "770\n",
      "771\n",
      "772\n",
      "773\n",
      "774\n",
      "775\n",
      "776\n",
      "777\n",
      "778\n",
      "779\n",
      "780\n",
      "781\n",
      "782\n",
      "783\n",
      "784\n",
      "785\n",
      "786\n",
      "787\n",
      "788\n",
      "789\n",
      "790\n",
      "791\n",
      "792\n",
      "793\n",
      "794\n",
      "795\n",
      "796\n",
      "797\n",
      "798\n",
      "799\n",
      "800\n",
      "801\n",
      "802\n",
      "803\n",
      "804\n",
      "805\n",
      "806\n",
      "807\n",
      "808\n",
      "809\n",
      "810\n",
      "811\n",
      "812\n",
      "813\n",
      "814\n",
      "815\n",
      "816\n",
      "817\n",
      "818\n",
      "819\n",
      "820\n",
      "821\n",
      "822\n",
      "823\n",
      "824\n",
      "825\n",
      "826\n",
      "827\n",
      "828\n",
      "829\n",
      "830\n",
      "831\n",
      "832\n",
      "833\n",
      "834\n",
      "835\n",
      "836\n",
      "837\n",
      "838\n",
      "839\n",
      "840\n",
      "841\n",
      "842\n",
      "843\n",
      "844\n",
      "845\n",
      "846\n",
      "847\n",
      "848\n",
      "849\n",
      "850\n",
      "851\n",
      "852\n",
      "853\n",
      "854\n",
      "855\n",
      "856\n",
      "857\n",
      "858\n",
      "859\n",
      "860\n",
      "861\n",
      "862\n",
      "863\n",
      "864\n",
      "865\n",
      "866\n",
      "867\n",
      "868\n",
      "869\n",
      "870\n",
      "871\n",
      "872\n",
      "873\n",
      "874\n",
      "875\n",
      "876\n",
      "877\n",
      "878\n",
      "879\n",
      "880\n",
      "881\n",
      "882\n",
      "883\n",
      "884\n",
      "885\n",
      "886\n",
      "887\n",
      "888\n",
      "889\n",
      "890\n",
      "891\n",
      "892\n",
      "893\n",
      "894\n",
      "895\n",
      "896\n",
      "897\n",
      "898\n",
      "899\n",
      "900\n",
      "901\n",
      "902\n",
      "903\n",
      "904\n",
      "905\n",
      "906\n",
      "907\n",
      "908\n",
      "909\n",
      "910\n",
      "911\n",
      "912\n",
      "913\n",
      "914\n",
      "915\n",
      "916\n",
      "917\n",
      "918\n",
      "919\n",
      "920\n",
      "921\n",
      "922\n",
      "923\n",
      "924\n",
      "925\n",
      "926\n",
      "927\n",
      "928\n",
      "929\n",
      "930\n",
      "931\n",
      "932\n",
      "933\n",
      "934\n",
      "935\n",
      "936\n",
      "937\n",
      "938\n",
      "939\n",
      "940\n",
      "941\n",
      "942\n",
      "943\n",
      "944\n",
      "945\n",
      "946\n",
      "947\n",
      "948\n",
      "949\n",
      "950\n",
      "951\n",
      "952\n",
      "953\n",
      "954\n",
      "955\n",
      "956\n",
      "957\n",
      "958\n",
      "959\n",
      "960\n",
      "961\n",
      "962\n",
      "963\n",
      "964\n",
      "965\n",
      "966\n",
      "967\n",
      "968\n",
      "969\n",
      "970\n",
      "971\n",
      "972\n",
      "973\n",
      "974\n",
      "975\n",
      "976\n",
      "977\n",
      "978\n",
      "979\n",
      "980\n",
      "981\n",
      "982\n",
      "983\n",
      "984\n",
      "985\n",
      "986\n",
      "987\n",
      "988\n",
      "989\n",
      "990\n",
      "991\n",
      "992\n",
      "993\n",
      "994\n",
      "995\n",
      "996\n",
      "997\n",
      "998\n",
      "999\n"
     ]
    }
   ],
   "source": [
    "lista = [i for i in range(1000)] # Una lista con 1000 números, desde el 0 hasta el 999\n",
    "# En otros lenguajes de programación, por ejemplo, c++, si yo quiero acceder a los números desde el 500 hasta el 999 habría que\n",
    "# usar un For donde el índice empiece en 500 y termine en 1000. Algo así:\n",
    "for i in range(500,1000):\n",
    "    print(lista[i])\n",
    "# Lo mismo si quisiera recorrer cualquier sección de la lista, por ejemplo los primeros 30 números, los números desde el 167\n",
    "# hasta el 200, etc. Esto es dispendioso. Python afortunadamente hace la vida más sencilla."
   ]
  },
  {
   "cell_type": "code",
   "execution_count": 24,
   "metadata": {},
   "outputs": [
    {
     "name": "stdout",
     "output_type": "stream",
     "text": [
      "[500, 501, 502, 503, 504, 505, 506, 507, 508, 509, 510, 511, 512, 513, 514, 515, 516, 517, 518, 519, 520, 521, 522, 523, 524, 525, 526, 527, 528, 529, 530, 531, 532, 533, 534, 535, 536, 537, 538, 539, 540, 541, 542, 543, 544, 545, 546, 547, 548, 549, 550, 551, 552, 553, 554, 555, 556, 557, 558, 559, 560, 561, 562, 563, 564, 565, 566, 567, 568, 569, 570, 571, 572, 573, 574, 575, 576, 577, 578, 579, 580, 581, 582, 583, 584, 585, 586, 587, 588, 589, 590, 591, 592, 593, 594, 595, 596, 597, 598, 599, 600, 601, 602, 603, 604, 605, 606, 607, 608, 609, 610, 611, 612, 613, 614, 615, 616, 617, 618, 619, 620, 621, 622, 623, 624, 625, 626, 627, 628, 629, 630, 631, 632, 633, 634, 635, 636, 637, 638, 639, 640, 641, 642, 643, 644, 645, 646, 647, 648, 649, 650, 651, 652, 653, 654, 655, 656, 657, 658, 659, 660, 661, 662, 663, 664, 665, 666, 667, 668, 669, 670, 671, 672, 673, 674, 675, 676, 677, 678, 679, 680, 681, 682, 683, 684, 685, 686, 687, 688, 689, 690, 691, 692, 693, 694, 695, 696, 697, 698, 699, 700, 701, 702, 703, 704, 705, 706, 707, 708, 709, 710, 711, 712, 713, 714, 715, 716, 717, 718, 719, 720, 721, 722, 723, 724, 725, 726, 727, 728, 729, 730, 731, 732, 733, 734, 735, 736, 737, 738, 739, 740, 741, 742, 743, 744, 745, 746, 747, 748, 749, 750, 751, 752, 753, 754, 755, 756, 757, 758, 759, 760, 761, 762, 763, 764, 765, 766, 767, 768, 769, 770, 771, 772, 773, 774, 775, 776, 777, 778, 779, 780, 781, 782, 783, 784, 785, 786, 787, 788, 789, 790, 791, 792, 793, 794, 795, 796, 797, 798, 799, 800, 801, 802, 803, 804, 805, 806, 807, 808, 809, 810, 811, 812, 813, 814, 815, 816, 817, 818, 819, 820, 821, 822, 823, 824, 825, 826, 827, 828, 829, 830, 831, 832, 833, 834, 835, 836, 837, 838, 839, 840, 841, 842, 843, 844, 845, 846, 847, 848, 849, 850, 851, 852, 853, 854, 855, 856, 857, 858, 859, 860, 861, 862, 863, 864, 865, 866, 867, 868, 869, 870, 871, 872, 873, 874, 875, 876, 877, 878, 879, 880, 881, 882, 883, 884, 885, 886, 887, 888, 889, 890, 891, 892, 893, 894, 895, 896, 897, 898, 899, 900, 901, 902, 903, 904, 905, 906, 907, 908, 909, 910, 911, 912, 913, 914, 915, 916, 917, 918, 919, 920, 921, 922, 923, 924, 925, 926, 927, 928, 929, 930, 931, 932, 933, 934, 935, 936, 937, 938, 939, 940, 941, 942, 943, 944, 945, 946, 947, 948, 949, 950, 951, 952, 953, 954, 955, 956, 957, 958, 959, 960, 961, 962, 963, 964, 965, 966, 967, 968, 969, 970, 971, 972, 973, 974, 975, 976, 977, 978, 979, 980, 981, 982, 983, 984, 985, 986, 987, 988, 989, 990, 991, 992, 993, 994, 995, 996, 997, 998, 999]\n"
     ]
    }
   ],
   "source": [
    "lista = [i for i in range(1000)]\n",
    "# En Python, basta con poner en la lista el índice de inicio, luego un : y finalmente el índice final.\n",
    "# Sea E el inicio, y L el límite, la sintaxis es la siguiente: lista[E:L]. Eso retornaría una sublista desde E hasta L.\n",
    "print (lista[500:]) # Nótese que no se definió a L. Esto le indica a Python que el límite sea el último elemento de la lista."
   ]
  },
  {
   "cell_type": "code",
   "execution_count": 25,
   "metadata": {},
   "outputs": [
    {
     "name": "stdout",
     "output_type": "stream",
     "text": [
      "[0, 1, 2, 3, 4, 5, 6, 7, 8, 9, 10, 11, 12, 13, 14, 15, 16, 17, 18, 19, 20, 21, 22, 23, 24, 25, 26, 27, 28, 29, 30, 31, 32, 33, 34, 35, 36, 37, 38, 39, 40, 41, 42, 43, 44, 45, 46, 47, 48, 49, 50, 51, 52, 53, 54, 55, 56, 57, 58, 59, 60, 61, 62, 63, 64, 65, 66, 67, 68, 69, 70, 71, 72, 73, 74, 75, 76, 77, 78, 79, 80, 81, 82, 83, 84, 85, 86, 87, 88, 89, 90, 91, 92, 93, 94, 95, 96, 97, 98, 99, 100, 101, 102, 103, 104, 105, 106, 107, 108, 109, 110, 111, 112, 113, 114, 115, 116, 117, 118, 119, 120, 121, 122, 123, 124, 125, 126, 127, 128, 129, 130, 131, 132, 133, 134, 135, 136, 137, 138, 139, 140, 141, 142, 143, 144, 145, 146, 147, 148, 149, 150, 151, 152, 153, 154, 155, 156, 157, 158, 159, 160, 161, 162, 163, 164, 165, 166, 167, 168, 169, 170, 171, 172, 173, 174, 175, 176, 177, 178, 179, 180, 181, 182, 183, 184, 185, 186, 187, 188, 189, 190, 191, 192, 193, 194, 195, 196, 197, 198, 199, 200, 201, 202, 203, 204, 205, 206, 207, 208, 209, 210, 211, 212, 213, 214, 215, 216, 217, 218, 219, 220, 221, 222, 223, 224, 225, 226, 227, 228, 229, 230, 231, 232, 233, 234, 235, 236, 237, 238, 239, 240, 241, 242, 243, 244, 245, 246, 247, 248, 249, 250, 251, 252, 253, 254, 255, 256, 257, 258, 259, 260, 261, 262, 263, 264, 265, 266, 267, 268, 269, 270, 271, 272, 273, 274, 275, 276, 277, 278, 279, 280, 281, 282, 283, 284, 285, 286, 287, 288, 289, 290, 291, 292, 293, 294, 295, 296, 297, 298, 299, 300, 301, 302, 303, 304, 305, 306, 307, 308, 309, 310, 311, 312, 313, 314, 315, 316, 317, 318, 319, 320, 321, 322, 323, 324, 325, 326, 327, 328, 329, 330, 331, 332, 333, 334, 335, 336, 337, 338, 339, 340, 341, 342, 343, 344, 345, 346, 347, 348, 349, 350, 351, 352, 353, 354, 355, 356, 357, 358, 359, 360, 361, 362, 363, 364, 365, 366, 367, 368, 369, 370, 371, 372, 373, 374, 375, 376, 377, 378, 379, 380, 381, 382, 383, 384, 385, 386, 387, 388, 389, 390, 391, 392, 393, 394, 395, 396, 397, 398, 399, 400, 401, 402, 403, 404, 405, 406, 407, 408, 409, 410, 411, 412, 413, 414, 415, 416, 417, 418, 419, 420, 421, 422, 423, 424, 425, 426, 427, 428, 429, 430, 431, 432, 433, 434, 435, 436, 437, 438, 439, 440, 441, 442, 443, 444, 445, 446, 447, 448, 449, 450, 451, 452, 453, 454, 455, 456, 457, 458, 459, 460, 461, 462, 463, 464, 465, 466, 467, 468, 469, 470, 471, 472, 473, 474, 475, 476, 477, 478, 479, 480, 481, 482, 483, 484, 485, 486, 487, 488, 489, 490, 491, 492, 493, 494, 495, 496, 497, 498, 499]\n"
     ]
    }
   ],
   "source": [
    "lista = [i for i in range(1000)]\n",
    "# Lo mismo del ejemplo anterior se puede hacer con los primeros 500 elementos.\n",
    "print (lista[:500]) # En este caso se dejó a E indefinido y a L definido. Si se hace esto se le está diciendo a Python que\n",
    "# E sea el primer elemento de la lista.\n",
    "# Lógicamente, si E y L se dejan sin definir, se le está indicando a Python que retorne desde el inicio hasta el final."
   ]
  },
  {
   "cell_type": "code",
   "execution_count": 26,
   "metadata": {},
   "outputs": [
    {
     "name": "stdout",
     "output_type": "stream",
     "text": [
      "[10, 11, 12, 13, 14]\n"
     ]
    }
   ],
   "source": [
    "lista = [i for i in range(20)]\n",
    "print (lista[10:15]) # Si se define a E y a L, se pueden extraer los segmentos que uno necesite."
   ]
  },
  {
   "cell_type": "code",
   "execution_count": 27,
   "metadata": {},
   "outputs": [
    {
     "name": "stdout",
     "output_type": "stream",
     "text": [
      "[0, 1, 2, 3, 4, 5, 6, 7, 8, 9, 10, 11, 12, 13, 14, 15, 16, 17, 18, 19]\n",
      "[0, 1, 2, 3, 4, 5, 6, 7, 8, 9]\n"
     ]
    }
   ],
   "source": [
    "# Las sublistas que se hagan a través del slicing pueden ser asignadas a otras variables.\n",
    "lista = [i for i in range(20)]\n",
    "sublista = lista[:10] # Sublista contiene los 10 primeros elementos de lista.\n",
    "print (lista)\n",
    "print (sublista)"
   ]
  },
  {
   "cell_type": "code",
   "execution_count": 28,
   "metadata": {},
   "outputs": [
    {
     "name": "stdout",
     "output_type": "stream",
     "text": [
      "sandía\n",
      "manzana\n"
     ]
    }
   ],
   "source": [
    "# Las listas permiten usar indices negativos, estos indican la posición de los elementos desde el último hasta el primero.\n",
    "# Es decir, el índice -1 es el último elemento, el -2 el penúltimo y así sucesivamente.\n",
    "lista_negativa = [\"banana\", \"pera\", \"manzana\", \"sandía\"]\n",
    "print (lista_negativa[-1])\n",
    "print (lista_negativa[-2])"
   ]
  },
  {
   "cell_type": "code",
   "execution_count": 29,
   "metadata": {},
   "outputs": [
    {
     "name": "stdout",
     "output_type": "stream",
     "text": [
      "[0, 2, 4, 6, 8, 10, 12, 14, 16, 18]\n"
     ]
    }
   ],
   "source": [
    "# Ahora compliquemos más las cosas, ya tenemos claro la siguiente sintaxis:\n",
    "# E: El inicio\n",
    "# L: El límite\n",
    "# Entonces [E:L] es el slice desde E hasta L.\n",
    "# Añadamos un parámetro I, que represente el incremento.\n",
    "# Quedaría [E:L:I], donde el incremento, por defecto es 1, pero puede ser modificado.\n",
    "lista = [i for i in range(20)] # Lista de 0 hasta 19.\n",
    "print (lista[::2]) # Slice de toda la lista, pero de a cada 2 posiciones. Es decir, el incremento es de 2."
   ]
  },
  {
   "cell_type": "code",
   "execution_count": 30,
   "metadata": {},
   "outputs": [
    {
     "name": "stdout",
     "output_type": "stream",
     "text": [
      "['sandía', 'manzana', 'pera', 'banana']\n"
     ]
    }
   ],
   "source": [
    "lista_negativa = [\"banana\", \"pera\", \"manzana\", \"sandía\"]\n",
    "# Ahora que sabemos cómo funciona el incremento, podemos hacer cosas interesantes como recorrer la lista\n",
    "# desde el último elemento hasta el primero.\n",
    "print(lista_negativa[::-1])"
   ]
  },
  {
   "cell_type": "code",
   "execution_count": 31,
   "metadata": {},
   "outputs": [
    {
     "name": "stdout",
     "output_type": "stream",
     "text": [
      "[19, 17, 15, 13, 11, 9, 7, 5, 3, 1]\n"
     ]
    }
   ],
   "source": [
    "lista = [i for i in range(20)] # Una lista del 0 al 19\n",
    "print (lista[::-2]) # Los elementos de a cada 2 posiciones, pero desde el último hasta el primero."
   ]
  },
  {
   "cell_type": "code",
   "execution_count": 32,
   "metadata": {},
   "outputs": [
    {
     "name": "stdout",
     "output_type": "stream",
     "text": [
      "[19, 18, 17, 16, 15, 14, 13, 12, 11, 10]\n"
     ]
    }
   ],
   "source": [
    "# Cuando se hacen slicing con indices negativos, es necesario que E y L también sean desde el último hasta el primero.\n",
    "lista = [i for i in range(20)] # Una lista del 0 al 19\n",
    "print (lista[-1:-11:-1]) # Los últimos 10 elementos.\n",
    "# No recomiendo usar este tipo de slicing a menos que sea estrictamente necesario."
   ]
  },
  {
   "cell_type": "markdown",
   "metadata": {},
   "source": [
    "## ¡Hora de los ejercicios!"
   ]
  }
 ],
 "metadata": {
  "kernelspec": {
   "display_name": "Python 3",
   "language": "python",
   "name": "python3"
  },
  "language_info": {
   "codemirror_mode": {
    "name": "ipython",
    "version": 3
   },
   "file_extension": ".py",
   "mimetype": "text/x-python",
   "name": "python",
   "nbconvert_exporter": "python",
   "pygments_lexer": "ipython3",
   "version": "3.8.5"
  }
 },
 "nbformat": 4,
 "nbformat_minor": 4
}
