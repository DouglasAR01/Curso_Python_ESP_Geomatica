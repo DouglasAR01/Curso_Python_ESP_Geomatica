{
 "cells": [
  {
   "cell_type": "markdown",
   "id": "9b45e317",
   "metadata": {},
   "source": [
    "![Geomática](../Recursos/img/geo_logo.jpg)\n",
    "# Introducción a Python\n",
    "\n",
    "**Sesión 5:** Librerías y módulos, testeo, excepciones y depuración."
   ]
  },
  {
   "cell_type": "markdown",
   "id": "389dcd83",
   "metadata": {},
   "source": [
    "## Librerías y módulos\n",
    "Python, al igual que la mayoría de lenguajes de programación, permite adoptar el concepto de librerías y módulos, aumentando y extendiendo la funcionalidad, además de permitir la reutilización del código. \n",
    "\n",
    "Entendamos y diferenciemos qué es un módulo y una librería, porque, aunque son esencialmente lo mismo, tienen un concepto que los separa y caracteriza.\n",
    "\n",
    "### Módulos\n",
    "Los módulos son simple y sencillamente un archivo de Python (es decir, que tiene una extensión .py y su sintaxis es válida) que contiene una colección de variables, funciones o clases que, generalmente, tienen algún tipo de relación entre ellos. Los módulos se pueden importar a través de las palabras reservadas __from__ e __import__. \n",
    "\n",
    "La palabra reservada __from__ sirve para decirle a Python específicamente el nombre del módulo, mientras que el __import__ para seleccionar la parte deseada. No obstante, es posible imporar absolutamente todo lo que haya en un módulo si no se usa el from. \n",
    "\n",
    "Veámos un ejemplo con el módulo de matemáticas que incluye Python por defecto. Para más información de este módulo, click [aquí](https://docs.python.org/3/library/math.html)"
   ]
  },
  {
   "cell_type": "code",
   "execution_count": 28,
   "id": "966112df",
   "metadata": {},
   "outputs": [
    {
     "name": "stdout",
     "output_type": "stream",
     "text": [
      "0.0\n"
     ]
    }
   ],
   "source": [
    "# El módulo Math de Python. Solo queremos importar la función seno.\n",
    "from math import sin\n",
    "print (sin(0))"
   ]
  },
  {
   "cell_type": "code",
   "execution_count": 33,
   "id": "e4dfa387",
   "metadata": {},
   "outputs": [
    {
     "name": "stdout",
     "output_type": "stream",
     "text": [
      "3.141592653589793\n",
      "-1.0\n"
     ]
    }
   ],
   "source": [
    "# Es posible importar varias funciones/clases/variables al mismo tiempo, del mismo módulo.\n",
    "from math import pi, cos\n",
    "print (pi)\n",
    "print (cos(pi))"
   ]
  },
  {
   "cell_type": "code",
   "execution_count": 34,
   "id": "3988dc75",
   "metadata": {},
   "outputs": [
    {
     "name": "stdout",
     "output_type": "stream",
     "text": [
      "2.718281828459045\n"
     ]
    }
   ],
   "source": [
    "# De esta forma se importa absolutamente todo lo que esté dentro del módulo, con la condición de que al usar\n",
    "# algo que esté dentro de él, toca usar el módulo como prefijo.\n",
    "import math\n",
    "print (math.e)"
   ]
  },
  {
   "cell_type": "markdown",
   "id": "d6b2d3ee",
   "metadata": {},
   "source": [
    "### Paquetes\n",
    "Los paquetes son simplemente una carpeta que puede contener de uno a más módulos. Este concepto es útil para agrupar muchos módulos con contenido relacionado en un mismo lugar. Eso sí, para que Python reconozca a una carpeta como un paquete, debe de haber un archivo especial llamado \\_\\_init\\_\\_.py en dicha carpeta. Por favor, preste atención a la explicación oral.\n",
    "\n",
    "### Librerías\n",
    "Las librerías son colecciones completas con funcionalidades altamente relacionadas y ligadas entre sí, que sirven para cumplir un propósito. Brindan la posibilidad de extender enormemente lo que Python por defecto ofrece. Esencialmente, las librerías son una colección de paquetes y módulos que pueden ser reutilizados en cualquier momento. Un ejemplo de librería es Numpy, cuyo propósito es brindar a Python un mejor manejo de los vectores y matrices. [Click aquí para información sobre Numpy](https://numpy.org/)\n",
    "\n",
    "Para importar una librería (o un módulo dentro de esta) se siguen las mismas reglas que con los módulos. Veamos un ejemplo:"
   ]
  },
  {
   "cell_type": "code",
   "execution_count": 35,
   "id": "bd85621a",
   "metadata": {},
   "outputs": [],
   "source": [
    "# Numpy es una librería que tenemos instalada (o, a estas alturas, ya debería de estarlo).\n",
    "# Importaremos, a modo de ejemplo, todo el paquete de aleatoriedad matemática que este incluye.\n",
    "from numpy import random\n",
    "# Dado que se está importando todo un paquete de Numpy, cuando vayamos a hacer referencia a un elemento de este,\n",
    "# tendremos que usar el prefijo random."
   ]
  },
  {
   "cell_type": "code",
   "execution_count": 39,
   "id": "292e9418",
   "metadata": {},
   "outputs": [
    {
     "name": "stdout",
     "output_type": "stream",
     "text": [
      "[0, 1, 2, 3, 4, 5, 6, 7, 8, 9, 10, 11, 12, 13, 14, 15, 16, 17, 18, 19]\n",
      "[9, 11, 17, 3, 0, 1, 14, 4, 12, 16, 10, 13, 15, 8, 5, 7, 19, 2, 18, 6]\n"
     ]
    }
   ],
   "source": [
    "lista = [i for i in range(20)]\n",
    "print (lista)\n",
    "random.shuffle(lista) # Shuffle es una función presente dentro del paquete random.\n",
    "print (lista)"
   ]
  },
  {
   "cell_type": "markdown",
   "id": "9a8b86e4",
   "metadata": {},
   "source": [
    "## Testeo, excepciones y depuración.\n",
    "En todo el mundo relacionado con el software siempre van a existir los errores, siempre va a existir la posibilidad de que algo salga mal, incluso si nosotros somos los mejores desarrolladores que puedan existir.\n",
    "\n",
    "> \"Si algo puede salir mal, saldrá mal\"\n",
    "> - Edward A. Murphy\n",
    "\n",
    "Es por esto que es de vital importancia prevenir los errores, y, evidentemente, actual en consecuencia si ocurre llega a ocurrir uno. En el mundo de la programación, a esto se le conoce como una __excepción__ aunque, es mucho más común llamarlo un error o un _bug_.\n",
    "\n",
    "### Excepciones\n",
    "Las excepciones, como se había mencionado anteriormente, es como se le conoce a un error. En este caso, dicho error tiene una particularidad muy importante: es un error conocido, es decir, es posible saber cuál es el error y, potencialmente, prevenirlo o solucionarlo.\n",
    "\n",
    "Todos los lenguajes de programación tienen alguna forma de gestionar esta clase de inconvenientes, a esto se le conoce como el manejo de errores o \"error handling\". Python, por supuesto, incluye una forma de gestionar los errores, pero primero veámos cuáles son las excepciones más importantes que Python ya incluye por defecto.\n",
    "\n",
    "#### Excepciones importantes de Python\n",
    "- __BaseException y Exception__: Estas excepciones son la base de las demás. Casi nunca las veremos, pero si llegan a surgir, significa que ocurrió un error \"controlado\" pero no hay mucha información al respecto sobre este.\n",
    "\n",
    "- __ArithmeticError__: Son las excepciones que pueden llegar a ocurrir cuando se esté realizando una operación matemática con los operadores básicos. Este tipo de excepción tiene, de hecho, dos subexcepciones más específicas:\n",
    "    - __OverflowError__: Un error que ocurre cuando una operación aritmética es demasiado grande para poder ser representada computacionalmente. Este error a día de hoy es casi imposible que surja.\n",
    "    - __ZeroDivisionError__: Este error, como su nombre indica, significa que se está tratando de dividir por cero.\n",
    "- __ImportError__: Este error ocurre cuando se intenta importar una librería (ej: Pandas, Numpy, etc.) y, por algún motivo (generalmente, porque está mal escrito el nombre), no se pudo encontrar/acceder. Este error tiene una subexcepción:\n",
    "    - __ModuleNotFoundError__: Este error ocurre cuando se importa una librería y, posteriormente, se intenta importar un módulo, pero este último presenta algún problema (por ejemplo, que no se pudo encontrar/acceder).\n",
    "- __IndexError__: Este error es muy común, ocurre cuando se intenta acceder a un índice de algún objeto ordenado (por ejemplo, las listas) que no exista.\n",
    "- __KeyError__: Este error ocurre cuando, usando un diccionario, se trata de acceder a un elemento por medio de una llave que aún no existe.\n",
    "- __NameError__: Este error es un poco similar al anterior, ocurre cuando se trata de llamar a una variable que no existe aún.\n",
    "- __SyntaxError__: Este es, quizá, el más común de todos. Ocurre cuando algo de lo que nosotros escribimos está mal escrito o identado.\n",
    "- __TypeError__: Este error también es común, ocurre cuando se trata de hacer alguna operación sobre un tipo de dato que es inapropiado, que no admite la operación o, que no es del mismo tipo. Por ejemplo, tratar de sumar una Cadena a un Entero.\n",
    "- __ValueError__: Este sigue una idea similar al error anterior, ocurre cuando una operación o función recibe como parámetro un objeto del tipo correcto, pero cuyo valor es inapropiado para poder hacer lo que se intentaba. Por ejemplo, convertir la cadena \"a\" en un entero.\n",
    "- __RecursionError__: Ocurre cuando, en una función recursiva, ya se llegó al fondo máximo permitido de recursiones. Esto generalmente ocurre cuando una función recursiva nunca llega a un caso base. Antes de la versión de Python 3.5 este error no existía y se consideraba como el error de a continuación.\n",
    "- __RuntimeError__: Seguramente este es el error más peligroso de todos, ocurre cuando surge un error pero no está controlado y no entra dentro de ninguna de las categorías aquí nombradas. Esta clase de errores son las que comúnmente se le denominan _bugs_.\n",
    "   \n",
    "Veamos algunos ejemplos de los errores aquí mostrados."
   ]
  },
  {
   "cell_type": "code",
   "execution_count": 4,
   "id": "d5d9e674",
   "metadata": {},
   "outputs": [
    {
     "ename": "SyntaxError",
     "evalue": "invalid syntax (<ipython-input-4-03fdc34b706b>, line 2)",
     "output_type": "error",
     "traceback": [
      "\u001b[1;36m  File \u001b[1;32m\"<ipython-input-4-03fdc34b706b>\"\u001b[1;36m, line \u001b[1;32m2\u001b[0m\n\u001b[1;33m    if True\u001b[0m\n\u001b[1;37m           ^\u001b[0m\n\u001b[1;31mSyntaxError\u001b[0m\u001b[1;31m:\u001b[0m invalid syntax\n"
     ]
    }
   ],
   "source": [
    "# SyntaxError: No se terminó de completar la sentencia del If\n",
    "if True"
   ]
  },
  {
   "cell_type": "code",
   "execution_count": 5,
   "id": "1693b105",
   "metadata": {},
   "outputs": [
    {
     "ename": "ZeroDivisionError",
     "evalue": "division by zero",
     "output_type": "error",
     "traceback": [
      "\u001b[1;31m---------------------------------------------------------------------------\u001b[0m",
      "\u001b[1;31mZeroDivisionError\u001b[0m                         Traceback (most recent call last)",
      "\u001b[1;32m<ipython-input-5-e3dfc0140ffb>\u001b[0m in \u001b[0;36m<module>\u001b[1;34m\u001b[0m\n\u001b[0;32m      1\u001b[0m \u001b[1;31m# ZeroDivisionError\u001b[0m\u001b[1;33m\u001b[0m\u001b[1;33m\u001b[0m\u001b[1;33m\u001b[0m\u001b[0m\n\u001b[1;32m----> 2\u001b[1;33m \u001b[0mprint\u001b[0m \u001b[1;33m(\u001b[0m\u001b[1;36m1\u001b[0m\u001b[1;33m/\u001b[0m\u001b[1;36m0\u001b[0m\u001b[1;33m)\u001b[0m\u001b[1;33m\u001b[0m\u001b[1;33m\u001b[0m\u001b[0m\n\u001b[0m",
      "\u001b[1;31mZeroDivisionError\u001b[0m: division by zero"
     ]
    }
   ],
   "source": [
    "# ZeroDivisionError\n",
    "print (1/0)"
   ]
  },
  {
   "cell_type": "code",
   "execution_count": 7,
   "id": "e9993951",
   "metadata": {},
   "outputs": [
    {
     "ename": "ValueError",
     "evalue": "invalid literal for int() with base 10: 'hola'",
     "output_type": "error",
     "traceback": [
      "\u001b[1;31m---------------------------------------------------------------------------\u001b[0m",
      "\u001b[1;31mValueError\u001b[0m                                Traceback (most recent call last)",
      "\u001b[1;32m<ipython-input-7-0117eb93ce4b>\u001b[0m in \u001b[0;36m<module>\u001b[1;34m\u001b[0m\n\u001b[0;32m      1\u001b[0m \u001b[1;31m# ValueError: Estamos tratando de convertir una cadena en un entero, pero dicha cadena no puede ser transformada.\u001b[0m\u001b[1;33m\u001b[0m\u001b[1;33m\u001b[0m\u001b[1;33m\u001b[0m\u001b[0m\n\u001b[0;32m      2\u001b[0m \u001b[0mcad\u001b[0m \u001b[1;33m=\u001b[0m \u001b[1;34m\"hola\"\u001b[0m\u001b[1;33m\u001b[0m\u001b[1;33m\u001b[0m\u001b[0m\n\u001b[1;32m----> 3\u001b[1;33m \u001b[0mnum\u001b[0m \u001b[1;33m=\u001b[0m \u001b[0mint\u001b[0m\u001b[1;33m(\u001b[0m\u001b[1;34m\"hola\"\u001b[0m\u001b[1;33m)\u001b[0m\u001b[1;33m\u001b[0m\u001b[1;33m\u001b[0m\u001b[0m\n\u001b[0m\u001b[0;32m      4\u001b[0m \u001b[0mnum\u001b[0m \u001b[1;33m=\u001b[0m \u001b[0mfloat\u001b[0m\u001b[1;33m(\u001b[0m\u001b[1;34m\"hola\"\u001b[0m\u001b[1;33m)\u001b[0m\u001b[1;33m\u001b[0m\u001b[1;33m\u001b[0m\u001b[0m\n",
      "\u001b[1;31mValueError\u001b[0m: invalid literal for int() with base 10: 'hola'"
     ]
    }
   ],
   "source": [
    "# ValueError: Estamos tratando de convertir una cadena en un entero, pero dicha cadena no puede ser transformada.\n",
    "cad = \"hola\"\n",
    "num = int(\"hola\")"
   ]
  },
  {
   "cell_type": "code",
   "execution_count": 11,
   "id": "564a5372",
   "metadata": {},
   "outputs": [
    {
     "ename": "ModuleNotFoundError",
     "evalue": "No module named 'MiSuperClaseMain'",
     "output_type": "error",
     "traceback": [
      "\u001b[1;31m---------------------------------------------------------------------------\u001b[0m",
      "\u001b[1;31mModuleNotFoundError\u001b[0m                       Traceback (most recent call last)",
      "\u001b[1;32m<ipython-input-11-7853ed1b679e>\u001b[0m in \u001b[0;36m<module>\u001b[1;34m\u001b[0m\n\u001b[1;32m----> 1\u001b[1;33m \u001b[1;32mimport\u001b[0m \u001b[0mMiSuperClaseMain\u001b[0m\u001b[1;33m\u001b[0m\u001b[1;33m\u001b[0m\u001b[0m\n\u001b[0m",
      "\u001b[1;31mModuleNotFoundError\u001b[0m: No module named 'MiSuperClaseMain'"
     ]
    }
   ],
   "source": [
    "# ModuleNotFound: Se está intentando importar un módulo que no existe\n",
    "import MiSuperClaseMain"
   ]
  },
  {
   "cell_type": "code",
   "execution_count": 12,
   "id": "200ab5d7",
   "metadata": {},
   "outputs": [
    {
     "ename": "ImportError",
     "evalue": "cannot import name 'MiSuperClaseMain' from 'numpy' (C:\\Users\\radou\\miniconda3\\envs\\PPython\\lib\\site-packages\\numpy\\__init__.py)",
     "output_type": "error",
     "traceback": [
      "\u001b[1;31m---------------------------------------------------------------------------\u001b[0m",
      "\u001b[1;31mImportError\u001b[0m                               Traceback (most recent call last)",
      "\u001b[1;32m<ipython-input-12-37171f0c5983>\u001b[0m in \u001b[0;36m<module>\u001b[1;34m\u001b[0m\n\u001b[1;32m----> 1\u001b[1;33m \u001b[1;32mfrom\u001b[0m \u001b[0mnumpy\u001b[0m \u001b[1;32mimport\u001b[0m \u001b[0mMiSuperClaseMain\u001b[0m\u001b[1;33m\u001b[0m\u001b[1;33m\u001b[0m\u001b[0m\n\u001b[0m",
      "\u001b[1;31mImportError\u001b[0m: cannot import name 'MiSuperClaseMain' from 'numpy' (C:\\Users\\radou\\miniconda3\\envs\\PPython\\lib\\site-packages\\numpy\\__init__.py)"
     ]
    }
   ],
   "source": [
    "# ImportError: Se está tratando importar un módulo que no existe de una librería que sí existe (y, de hecho, tenemos instalada)\n",
    "from numpy import MiSuperClaseMain"
   ]
  },
  {
   "cell_type": "code",
   "execution_count": 13,
   "id": "575d4891",
   "metadata": {},
   "outputs": [
    {
     "ename": "TypeError",
     "evalue": "can only concatenate str (not \"int\") to str",
     "output_type": "error",
     "traceback": [
      "\u001b[1;31m---------------------------------------------------------------------------\u001b[0m",
      "\u001b[1;31mTypeError\u001b[0m                                 Traceback (most recent call last)",
      "\u001b[1;32m<ipython-input-13-0ca26c1a0cc5>\u001b[0m in \u001b[0;36m<module>\u001b[1;34m\u001b[0m\n\u001b[1;32m----> 1\u001b[1;33m \u001b[0mprint\u001b[0m \u001b[1;33m(\u001b[0m\u001b[1;34m\"Hola, 2+2 es\"\u001b[0m \u001b[1;33m+\u001b[0m \u001b[1;36m4\u001b[0m\u001b[1;33m)\u001b[0m\u001b[1;33m\u001b[0m\u001b[1;33m\u001b[0m\u001b[0m\n\u001b[0m",
      "\u001b[1;31mTypeError\u001b[0m: can only concatenate str (not \"int\") to str"
     ]
    }
   ],
   "source": [
    "# No es posible realizar operaciones entre cadenas y strings de esta forma, puesto que Python es un lenguaje fuertemente tipado\n",
    "print (\"Hola, 2+2 es: \" + 4)"
   ]
  },
  {
   "cell_type": "markdown",
   "id": "7569be52",
   "metadata": {},
   "source": [
    "#### Manejo de excepciones en Python\n",
    "Ya hemos visto alguas de las excepciones que pueden ocurrir en Python, ahora debemos saber es cómo gestionarlas.\n",
    "\n",
    "La mayoría de los lenguajes de programación permiten manejar las excepciones de tal forma que, por ejemplo, no interrumpan el flujo del programa. Esto se logra a través de unas estructuras especiales que están diseñadas precisamente para esto. En Python, es la estructura __try-except__.\n",
    "\n",
    "Esta estructura permite hacer bloques de código con los cuales se puedan atrapar posibles errores que puedan surgir en tiempo de ejecución (es decir, esto no va permitir la ejecución de errores de sintaxis). En caso de que ocurra algún error, se ejecutará un código de contingencia que el desarrollador establece. Veamos cómo funciona:"
   ]
  },
  {
   "cell_type": "code",
   "execution_count": 43,
   "id": "66860671",
   "metadata": {},
   "outputs": [
    {
     "name": "stdout",
     "output_type": "stream",
     "text": [
      "Por favor, ingrese un número: 10\n",
      "El número convertido es:  10.0\n"
     ]
    }
   ],
   "source": [
    "# Este pequeño código lo que hace es solicitar al usuario que escriba un número. Si el usuario no escribe un número,\n",
    "# el programa, en lugar de terminar y mostrar un error, continuará y hará lo que se encuentra en el bloque del except.\n",
    "try:\n",
    "    entrada = input(\"Por favor, ingrese un número: \")\n",
    "    num = float(entrada) # Nótese que aquí se trata de realizar una conversión. Si esta no es posible, retornará el error\n",
    "    # ValueError, pero, en esta ocasión, estamos usando una estructura try-except.\n",
    "    print (\"El número convertido es: \", num)\n",
    "except:\n",
    "    print (\"Ese no es un número...\")"
   ]
  },
  {
   "cell_type": "markdown",
   "id": "cee788b2",
   "metadata": {},
   "source": [
    "Interesante, ¿verdad? Eso no es todo. Esta estructura ofrece algunas funciones más. \n",
    "- El bloque __else__, este bloque es OPCIONAL. Se puede agregar DESPUÉS de la estructura try-except. Lo que hace es ejecutar el código que esté dentro de él en caso de que no haya habido ningún error.\n",
    "- El bloque __finally__, este bloque se puede (o no) agregar a la estructura try-except para que ejecute un código pase lo que pase. Este bloque es totalmente opcional y va al final de toda la estructura try-except. Este bloque no tiene tanta utilidad.\n",
    "\n",
    "Veamos en acción estos bloques adicionales con el mismo ejemplo anterior:"
   ]
  },
  {
   "cell_type": "code",
   "execution_count": 45,
   "id": "7d34bb46",
   "metadata": {},
   "outputs": [
    {
     "name": "stdout",
     "output_type": "stream",
     "text": [
      "Por favor, ingrese un número: 10\n",
      "El número convertido es:  10.0\n",
      "Todo en orden.\n",
      "Terminó la estructura try-except.\n"
     ]
    }
   ],
   "source": [
    "try:\n",
    "    entrada = input(\"Por favor, ingrese un número: \")\n",
    "    num = float(entrada) # Nótese que aquí se trata de realizar una conversión. Si esta no es posible, retornará el error\n",
    "    # ValueError, pero, en esta ocasión, estamos usando una estructura try-except.\n",
    "    print (\"El número convertido es: \", num)\n",
    "except:\n",
    "    print (\"Ese no es un número...\")\n",
    "else:\n",
    "    print (\"Todo en orden.\") # Este bloque solo se ejecutará si no ocurrió ningún error.\n",
    "finally: \n",
    "    print (\"Terminó la estructura try-except.\") # Esto se mostrará pase lo que pase."
   ]
  },
  {
   "cell_type": "markdown",
   "id": "9736002a",
   "metadata": {},
   "source": [
    "#### Ejercicio práctico: Validación de una entrada por consola (10 mins)\n",
    "Con el conocimiento hasta el momento, ¿cómo podríamos obligar a un usuario a que escriba un número impar y que, si se equivoca, el software siga pidiendo la entrada? Tenga en cuenta que al usuario habría que pedirle que escriba dicho número, indeterminadamente, hasta que escriba uno que sí cumpla lo que queremos."
   ]
  },
  {
   "cell_type": "code",
   "execution_count": 49,
   "id": "71341f15",
   "metadata": {},
   "outputs": [
    {
     "name": "stdout",
     "output_type": "stream",
     "text": [
      "Escriba un número impar: 2\n",
      "Ese número es par\n",
      "Escriba un número impar: a\n",
      "Ese no es un número\n",
      "Escriba un número impar: a\n",
      "Ese no es un número\n",
      "Escriba un número impar: 3\n",
      "Bien hecho\n"
     ]
    }
   ],
   "source": [
    "# Cuando el usuario escriba un número que sí sirva, haz que el programa imprima \"Bien hecho\".\n",
    "# Cuando el usuario escriba un número par, haz que el programa imprima \"Ese número es par\".\n",
    "# Cuando el usuario escriba algo que NO sea un número, haz que el programa imprima \"Ese no es un número...\"\n",
    "# Escribe tu código aquí.\n",
    "while (True):    \n",
    "    try:\n",
    "        num = int(input(\"Escriba un número impar: \"))\n",
    "        if (num%2!=0):\n",
    "            print (\"Bien hecho\")\n",
    "            break\n",
    "        else:\n",
    "            print (\"Ese número es par\")\n",
    "    except:\n",
    "        print (\"Ese no es un número\")"
   ]
  },
  {
   "cell_type": "markdown",
   "id": "3b6f47ff",
   "metadata": {},
   "source": [
    "### Manejo de mútiples excepciones:\n",
    "Muchas veces se va a llegar a la situación en la que muchas cosas pueden salir mal en un mismo bloque de código (o estructura try-except). Es por esto que esta estructura permite que el desarrollador agregue varios bloques except, siempre y cuando los predecesores al último tengan un tipo de excepción específicado. \n",
    "Veamos un ejemplo:"
   ]
  },
  {
   "cell_type": "code",
   "execution_count": 51,
   "id": "243b1e21",
   "metadata": {},
   "outputs": [
    {
     "name": "stdout",
     "output_type": "stream",
     "text": [
      "Ingrese un número: a\n",
      "Eso no es un número...\n"
     ]
    }
   ],
   "source": [
    "# Este código va a tratar de dividir el número 50 entre un número que el usuario indique. Aquí hay peligro, debido a que\n",
    "# el usuario podría no escribir un número, o que escriba el número 0.\n",
    "# Este problema se puede resolver con un simple IF, pero veamos cómo se podría hacer con un multibloque except.\n",
    "try:\n",
    "    num = float(input(\"Ingrese un número: \"))\n",
    "    print (50/num) # Esta línea está desprotegida, aquí es posible intentar dividir entre cero.\n",
    "except ZeroDivisionError: # Nótese que se especificó un tipo de excepción.\n",
    "    print (\"Dividir entre cero no es muy buena idea, ¿sabes...?\")\n",
    "except:\n",
    "    print (\"Eso no es un número...\")"
   ]
  },
  {
   "cell_type": "markdown",
   "id": "2bcb7abb",
   "metadata": {},
   "source": [
    "### Retorno de excepciones \n",
    "Hay situaciones cuando uno está desarrollando en las que, a través de una estructura try-except, no es posible (o no se debería) aplicar un código de contingencia, sino que deberíamos devolver una excepción. Esto es particularmente útil cuando uno está desarrollando una librería o una clase.\n",
    "\n",
    "Este procedimiento se hace mediante la palabra reservada __raise__, seguido del tipo de excepción que se va a devolver, donde a esta última se le envía como parámetro un texto descriptivo (recomendado). \n",
    "\n",
    "Veamos un ejemplo:"
   ]
  },
  {
   "cell_type": "code",
   "execution_count": 57,
   "id": "fd7c2cfb",
   "metadata": {},
   "outputs": [
    {
     "ename": "TypeError",
     "evalue": "Solo se admiten números enteros",
     "output_type": "error",
     "traceback": [
      "\u001b[1;31m---------------------------------------------------------------------------\u001b[0m",
      "\u001b[1;31mTypeError\u001b[0m                                 Traceback (most recent call last)",
      "\u001b[1;32m<ipython-input-57-d4047b258531>\u001b[0m in \u001b[0;36m<module>\u001b[1;34m\u001b[0m\n\u001b[0;32m      5\u001b[0m         \u001b[1;32mraise\u001b[0m \u001b[0mTypeError\u001b[0m\u001b[1;33m(\u001b[0m\u001b[1;34m\"Solo se admiten números enteros\"\u001b[0m\u001b[1;33m)\u001b[0m\u001b[1;33m\u001b[0m\u001b[1;33m\u001b[0m\u001b[0m\n\u001b[0;32m      6\u001b[0m     \u001b[1;31m# ...\u001b[0m\u001b[1;33m\u001b[0m\u001b[1;33m\u001b[0m\u001b[1;33m\u001b[0m\u001b[0m\n\u001b[1;32m----> 7\u001b[1;33m \u001b[0mmi_func\u001b[0m\u001b[1;33m(\u001b[0m\u001b[1;36m4.5\u001b[0m\u001b[1;33m)\u001b[0m\u001b[1;33m\u001b[0m\u001b[1;33m\u001b[0m\u001b[0m\n\u001b[0m",
      "\u001b[1;32m<ipython-input-57-d4047b258531>\u001b[0m in \u001b[0;36mmi_func\u001b[1;34m(numero)\u001b[0m\n\u001b[0;32m      3\u001b[0m \u001b[1;32mdef\u001b[0m \u001b[0mmi_func\u001b[0m\u001b[1;33m(\u001b[0m\u001b[0mnumero\u001b[0m\u001b[1;33m)\u001b[0m\u001b[1;33m:\u001b[0m\u001b[1;33m\u001b[0m\u001b[1;33m\u001b[0m\u001b[0m\n\u001b[0;32m      4\u001b[0m     \u001b[1;32mif\u001b[0m \u001b[1;33m(\u001b[0m\u001b[1;32mnot\u001b[0m \u001b[0mtype\u001b[0m\u001b[1;33m(\u001b[0m\u001b[0mnumero\u001b[0m\u001b[1;33m)\u001b[0m \u001b[1;33m==\u001b[0m \u001b[0mint\u001b[0m\u001b[1;33m)\u001b[0m\u001b[1;33m:\u001b[0m \u001b[1;31m# Si el tipo de dato del parámetro no es de la clase int, devolverá una excepción.\u001b[0m\u001b[1;33m\u001b[0m\u001b[1;33m\u001b[0m\u001b[0m\n\u001b[1;32m----> 5\u001b[1;33m         \u001b[1;32mraise\u001b[0m \u001b[0mTypeError\u001b[0m\u001b[1;33m(\u001b[0m\u001b[1;34m\"Solo se admiten números enteros\"\u001b[0m\u001b[1;33m)\u001b[0m\u001b[1;33m\u001b[0m\u001b[1;33m\u001b[0m\u001b[0m\n\u001b[0m\u001b[0;32m      6\u001b[0m     \u001b[1;31m# ...\u001b[0m\u001b[1;33m\u001b[0m\u001b[1;33m\u001b[0m\u001b[1;33m\u001b[0m\u001b[0m\n\u001b[0;32m      7\u001b[0m \u001b[0mmi_func\u001b[0m\u001b[1;33m(\u001b[0m\u001b[1;36m4.5\u001b[0m\u001b[1;33m)\u001b[0m\u001b[1;33m\u001b[0m\u001b[1;33m\u001b[0m\u001b[0m\n",
      "\u001b[1;31mTypeError\u001b[0m: Solo se admiten números enteros"
     ]
    }
   ],
   "source": [
    "# Supongamos que estamos desarrollando una función, donde queremos devolver una excepción si nos envían como parámetro\n",
    "# cualquier cosa que no sea un número entero.\n",
    "def mi_func(numero):\n",
    "    if (not type(numero) == int): # Si el tipo de dato del parámetro no es de la clase int, devolverá una excepción TypeError.\n",
    "        raise TypeError(\"Solo se admiten números enteros\")\n",
    "    # ...\n",
    "mi_func(4.5)"
   ]
  },
  {
   "cell_type": "markdown",
   "id": "d372cb81",
   "metadata": {},
   "source": [
    "## Perfilado\n",
    "El perfilado (o \"profiling\", en inglés) es un proceso muy útil que se hace en ingeniería de software con el fin de determinar los procesos más pesados en términos de consumo de tiempo y CPU, como también para detectar cuellos de botella.\n",
    "\n",
    "Python ofrece, por defecto, dos módulos que permiten realizar esta tarea: cProfile y profile. Nosotros usaremos cProfile.\n",
    "\n",
    "Veamos cómo se usa y qué devuelve. Ponga mucha atención a la explicación oral."
   ]
  },
  {
   "cell_type": "code",
   "execution_count": 1,
   "id": "ff22ca59",
   "metadata": {},
   "outputs": [],
   "source": [
    "# Primero que todo, debemos tener algo que perfilar. Tiene que ser una función, por lo que, a continuación.\n",
    "# Se definen dos funciones, ambas calculan la factorial de un número, pero uno es mediante iteraciones y el otro recursivamente.\n",
    "\n",
    "def factorial(n):\n",
    "    res = 1\n",
    "    for i in range(1,n+1):\n",
    "        res *= i\n",
    "    return res\n",
    "\n",
    "def factorial_r(n):\n",
    "    while (n > 1):\n",
    "        return n*factorial_r(n-1)\n",
    "    return 1"
   ]
  },
  {
   "cell_type": "code",
   "execution_count": 2,
   "id": "56b07223",
   "metadata": {},
   "outputs": [
    {
     "name": "stdout",
     "output_type": "stream",
     "text": [
      "         4 function calls in 0.001 seconds\n",
      "\n",
      "   Ordered by: standard name\n",
      "\n",
      "   ncalls  tottime  percall  cumtime  percall filename:lineno(function)\n",
      "        1    0.001    0.001    0.001    0.001 <ipython-input-1-0f4640a18b9e>:4(factorial)\n",
      "        1    0.000    0.000    0.001    0.001 <string>:1(<module>)\n",
      "        1    0.000    0.000    0.001    0.001 {built-in method builtins.exec}\n",
      "        1    0.000    0.000    0.000    0.000 {method 'disable' of '_lsprof.Profiler' objects}\n",
      "\n",
      "\n",
      "         1603 function calls (4 primitive calls) in 0.004 seconds\n",
      "\n",
      "   Ordered by: standard name\n",
      "\n",
      "   ncalls  tottime  percall  cumtime  percall filename:lineno(function)\n",
      "   1600/1    0.004    0.000    0.004    0.004 <ipython-input-1-0f4640a18b9e>:10(factorial_r)\n",
      "        1    0.000    0.000    0.004    0.004 <string>:1(<module>)\n",
      "        1    0.000    0.000    0.004    0.004 {built-in method builtins.exec}\n",
      "        1    0.000    0.000    0.000    0.000 {method 'disable' of '_lsprof.Profiler' objects}\n",
      "\n",
      "\n"
     ]
    }
   ],
   "source": [
    "# Veamos cuánto tiempo le toma en calcular la factorial de 1600 a ambas funciones.\n",
    "# Aviso: Si usted lo desea, puede subirle el número a calcular la factorial, pero es posible que la función recursiva\n",
    "# haga que se reinicie el kernel de Jupyter.\n",
    "import cProfile # El módulo de perfilado\n",
    "iteraciones = 1600\n",
    "cProfile.run('factorial(iteraciones)')\n",
    "cProfile.run('factorial_r(iteraciones)')"
   ]
  },
  {
   "cell_type": "markdown",
   "id": "b0550e70",
   "metadata": {},
   "source": [
    "#### Interpretando los resultados\n",
    "Después de hacer un perfilado, siempre se van a obtener unas estadísticas. Estas son muy útiles para identificar e interpretar cada resultado.\n",
    "\n",
    "Vamos una por una:\n",
    "- __ncalls__: Es simplemente cuántas veces se llamó la función.\n",
    "- __tottime__: Tiempo total que se estuvo en esa función.\n",
    "- __percall__: Es el tiempo tottime dividido en el número de ejecuciones ncalls.\n",
    "- __cumtime__: Es el tiempo acumulado.\n",
    "- __percall (2)__: Es el tiempo cumtime dividido en el número de ejecuciones reales ncalls (también llamadas \"primitivas\").\n"
   ]
  }
 ],
 "metadata": {
  "kernelspec": {
   "display_name": "Python 3",
   "language": "python",
   "name": "python3"
  },
  "language_info": {
   "codemirror_mode": {
    "name": "ipython",
    "version": 3
   },
   "file_extension": ".py",
   "mimetype": "text/x-python",
   "name": "python",
   "nbconvert_exporter": "python",
   "pygments_lexer": "ipython3",
   "version": "3.9.6"
  }
 },
 "nbformat": 4,
 "nbformat_minor": 5
}
