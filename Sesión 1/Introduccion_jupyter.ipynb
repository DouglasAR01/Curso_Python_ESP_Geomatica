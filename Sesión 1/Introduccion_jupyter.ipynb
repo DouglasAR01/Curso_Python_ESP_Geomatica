{
 "cells": [
  {
   "cell_type": "markdown",
   "metadata": {},
   "source": [
    "![Geomática](../Recursos/img/geo_logo.jpg)\n",
    "# Introducción a Jupyter\n",
    "\n",
    "**Sesión 1:** Introducción a la computación científica"
   ]
  },
  {
   "cell_type": "markdown",
   "metadata": {},
   "source": [
    "# Tipos de celdas relevantes"
   ]
  },
  {
   "cell_type": "code",
   "execution_count": null,
   "metadata": {
    "scrolled": true
   },
   "outputs": [],
   "source": [
    "# Esta celda es de tipo código, y esta línea es un comentario. Los comentarios en Python 3.x Empiezan con \"#\".\n",
    "print(\"Esta línea es código y al ejecutarse será interpretada por Python.\")"
   ]
  },
  {
   "cell_type": "code",
   "execution_count": null,
   "metadata": {},
   "outputs": [],
   "source": [
    "# ¡Esta celda también es de tipo código!\n",
    "print (\"¡Hola mundo!\")"
   ]
  },
  {
   "cell_type": "markdown",
   "metadata": {},
   "source": [
    "# Markdown (Título 1)\n",
    "*Esta celda es de tipo Markdown, de esta forma se pueden hacer cosas interesantes como la siguiente:*\n",
    "## Título 2\n",
    "### Título 3\n",
    "#### Título 4\n",
    "##### Título 5\n",
    "###### Título 6\n",
    "\n",
    "- Hacer una lista\n",
    "- *Donde se mezclen formatos*\n",
    "- _Con las diferentes formas de formatear el texto_\n",
    "    - __Cuyos resultados son similares__\n",
    "    - **De una forma agradable**\n",
    "        - **_Y sin problema_**\n",
    "        - __*Como se puede ver en este ejemplo*__\n",
    "    - D*on*de se __requi__era\n",
    "- ¿Y qué pasa si quiero usar los \"\\*\\*\" sin que se formatee?\n",
    "\n",
    "¿Y si quiero hacer tablas? No hay problema\n",
    "\n",
    "**Ejemplo: Tabla de verdad AND**\n",
    "\n",
    "|p|q|r|\n",
    "|---|---|---|\n",
    "|1|1|1|\n",
    "|1|0|0|\n",
    "|0|1|0|\n",
    "|0|0|0|\n",
    "\n",
    "Para más información sobre las tablas en Markdown, click [aquí](https://docs.github.com/en/github/writing-on-github/organizing-information-with-tables)\n",
    "\n",
    "Incluso se pueden [poner enlaces](http://www.google.com) de forma muy cómoda, donde estos incluso pueden usarse para llamar \n",
    "a otros documentos presentes en la raíz de donde se está ejecutando este documento, [por ejemplo](./Comandos_iniciales.txt)\n",
    "\n",
    "¿Tengo que hacer ver como si de código se tratase? Se le tiene, mi rey.\n",
    "\n",
    "``print (\"¿Me recuerdan?\")``\n",
    "\n",
    "También, se puede referenciar usando Markdown. Para información más detallada, [click aquí][1]\n",
    "\n",
    "[1]: https://daringfireball.net/projects/markdown/syntax#:~:text=Code%20Blocks,-Pre%2Dformatted%20code&text=Rather%20than%20forming%20normal%20paragraphs,4%20spaces%20or%201%20tab. \"Markdown Documentation\""
   ]
  },
  {
   "cell_type": "markdown",
   "metadata": {},
   "source": [
    "# Fin de sesión 1"
   ]
  },
  {
   "cell_type": "code",
   "execution_count": null,
   "metadata": {},
   "outputs": [],
   "source": [
    "# ¡EJECÚTAME!\n",
    "import pandas as pd\n",
    "import numpy as np\n",
    "import matplotlib.pyplot as plt\n",
    "print (\"Si solo sale este texto al ejecutar esta línea es que todo salió bien.\")"
   ]
  }
 ],
 "metadata": {
  "kernelspec": {
   "display_name": "Python 3",
   "language": "python",
   "name": "python3"
  },
  "language_info": {
   "codemirror_mode": {
    "name": "ipython",
    "version": 3
   },
   "file_extension": ".py",
   "mimetype": "text/x-python",
   "name": "python",
   "nbconvert_exporter": "python",
   "pygments_lexer": "ipython3",
   "version": "3.9.6"
  }
 },
 "nbformat": 4,
 "nbformat_minor": 4
}
