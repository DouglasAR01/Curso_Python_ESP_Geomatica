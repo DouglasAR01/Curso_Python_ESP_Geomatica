{
 "cells": [
  {
   "cell_type": "markdown",
   "metadata": {},
   "source": [
    "![Geomática](../Recursos/img/geo_logo.jpg)\n",
    "# Introducción a Python\n",
    "\n",
    "**Sesión 2:** Tipos de datos y conceptos básicos"
   ]
  },
  {
   "cell_type": "markdown",
   "metadata": {},
   "source": [
    "## Variables\n",
    "En la mayoría de lenguajes de programación se trabaja con un concepto abstracto llamado __variable.__\n",
    "\n",
    "Las variables, consisten en \"espacios\" que se pueden rellenar con datos de algún __tipo.__\n",
    "\n",
    "Las variables pueden tener nombres que el desarrollador elija, siempre y cuando no contenga caracteres especiales (puntos, comas, operadores, etc.) ni espacios. Es una buena práctica nombrar a las variables de formas que sean descriptivas, y en caso de querer separar palabras, es posible hacerlo mediante el uso de \"raya-piso\" ( \\_ ).\n",
    "\n",
    "__Ejemplos:__\n",
    "\n",
    "``variable_entera``\n",
    "\n",
    "``numeros_sirven_1``\n",
    "\n",
    "``SePuedeHacerEsto``\n",
    "\n",
    "``Esto_Tambien_35``\n",
    "\n",
    "``no_funcionará``\n",
    "\n",
    "El proceso de nombrar una variable y asignarle un contenido se le denomina __declarar una variable.__\n",
    "\n",
    "_En Python, declarar una variable es sinómino a definir una variable, no obstante, en otros lenguajes de programación puede tener una denotación diferente._\n",
    "\n",
    "__NO__ es posible llamar a una variable que no haya sido declarada con anterioridad.\n",
    "\n",
    "### ¿Qué son los tipos de dato?\n",
    "Los tipos de dato (o simplemente __tipo__) es un atributo de una variable que indica al lenguaje de programación sobre la clase de datos que va a manejar. Esto incluye el tipo de operaciones permitidas, las formas de usarse, etc.\n",
    "\n",
    "Por ejemplo, los números enteros son un tipo de dato diferente a los números reales (llamados números de coma flotante, números de punto flotante, o simplemente flotantes, en el mundo de la informática).\n",
    "\n",
    "### Tipado dinámico vs tipado estático\n",
    "\n",
    "- El tipado dinámico consiste en que los tipos de datos de las variables se __asignan automáticamente__ y __pueden mutar__ durante la ejecución.\n",
    "- El tipado estático consiste en que los tipos de datos de las variables __deben ser declaradas__ y estos __NO__ pueden mutar durante la ejecución, a menos que se haga una conversión o eliminación de la variable.\n",
    "\n",
    "### Lenguajes fuertemente tipados vs debilmente tipados\n",
    "\n",
    "- Los lenguajes fuertemente tipados __NO__ permiten hacer operaciones entre variables de __distintos tipos__ sin hacer usos de conversiones u otros métodos.\n",
    "\n",
    "- Los lenguajes debilmente tipados son más flexibles al respecto, permitiendo realizar operaciones entre objetos con distintos tipos de dato bajo ciertas circunstancias.\n",
    "\n",
    "__Python es un lenguaje con tipado dinámico y fuertemente tipado__\n",
    "\n",
    "## Manos a la obra\n",
    "A continuación, se presentarán ejemplos de tipos de datos fundamentales y compuestos, junto con nuevas funciones y operaciones interesantes. Por favor, estén muy antentos a la explicación oral."
   ]
  },
  {
   "cell_type": "code",
   "execution_count": 1,
   "metadata": {},
   "outputs": [
    {
     "name": "stdout",
     "output_type": "stream",
     "text": [
      "10 20\n"
     ]
    }
   ],
   "source": [
    "# DECLARACIÓN DE VARIABLES\n",
    "# La forma de declarar una variable es sencilla:\n",
    "# uno escribe el nombre de la variable, seguido de un \"=\" y posteriormente el dato.\n",
    "mi_variable_1 = 10\n",
    "mi_variable_2 = 20\n",
    "\n",
    "print (mi_variable_1, mi_variable_2)"
   ]
  },
  {
   "cell_type": "code",
   "execution_count": 2,
   "metadata": {},
   "outputs": [
    {
     "ename": "NameError",
     "evalue": "name 'mi_variable_3' is not defined",
     "output_type": "error",
     "traceback": [
      "\u001b[1;31m---------------------------------------------------------------------------\u001b[0m",
      "\u001b[1;31mNameError\u001b[0m                                 Traceback (most recent call last)",
      "\u001b[1;32m<ipython-input-2-8a2a91eaf139>\u001b[0m in \u001b[0;36m<module>\u001b[1;34m\u001b[0m\n\u001b[0;32m      1\u001b[0m \u001b[1;31m# VARIABLE NO DECLARADA\u001b[0m\u001b[1;33m\u001b[0m\u001b[1;33m\u001b[0m\u001b[1;33m\u001b[0m\u001b[0m\n\u001b[1;32m----> 2\u001b[1;33m \u001b[0mprint\u001b[0m \u001b[1;33m(\u001b[0m\u001b[0mmi_variable_3\u001b[0m\u001b[1;33m)\u001b[0m\u001b[1;33m\u001b[0m\u001b[1;33m\u001b[0m\u001b[0m\n\u001b[0m",
      "\u001b[1;31mNameError\u001b[0m: name 'mi_variable_3' is not defined"
     ]
    }
   ],
   "source": [
    "# VARIABLE NO DECLARADA\n",
    "print (mi_variable_3)"
   ]
  },
  {
   "cell_type": "code",
   "execution_count": 4,
   "metadata": {},
   "outputs": [
    {
     "name": "stdout",
     "output_type": "stream",
     "text": [
      "<class 'int'> <class 'float'> <class 'bool'> <class 'complex'>\n"
     ]
    }
   ],
   "source": [
    "# TIPOS DE DATOS FUNDAMENTALES\n",
    "entero = 0 # Representa el conjunto de números enteros. Tiene un límite computacional.\n",
    "flotante = 1.5 # Representa todo el conjunto de números reales. Tiene un límite computacional.\n",
    "booleano = True # Representa dos valores: verdadero o falso.\n",
    "complejo = 5 + 3j #Representa el conjunto de números complejos. Sí, también tiene un límite computacional.\n",
    "print (type(entero), type(flotante), type(booleano), type(complejo))"
   ]
  },
  {
   "cell_type": "code",
   "execution_count": 5,
   "metadata": {},
   "outputs": [
    {
     "name": "stdout",
     "output_type": "stream",
     "text": [
      "<class 'float'> 1.5\n"
     ]
    }
   ],
   "source": [
    "# TIPOS DE DATOS FUNDAMENTALES: Enteros y flotantes y su relación intrinseca\n",
    "entero = entero + flotante\n",
    "print(type (entero), entero)"
   ]
  },
  {
   "cell_type": "code",
   "execution_count": 6,
   "metadata": {},
   "outputs": [
    {
     "name": "stdout",
     "output_type": "stream",
     "text": [
      "1 0 True False\n"
     ]
    }
   ],
   "source": [
    "# TIPOS DE DATOS FUNDAMENTALES: Tipos booleanos\n",
    "# Los tipos de datos booleanos también se pueden trabajar como enteros, representados por el cero y el uno\n",
    "booleano2 = False\n",
    "# Operaciones booleanas básicas: OR y AND\n",
    "# Las operaciones booleanas básicas serán retornadas como tipos de datos enteros\n",
    "print (booleano + booleano2, booleano * booleano2, booleano, booleano2)"
   ]
  },
  {
   "cell_type": "code",
   "execution_count": 7,
   "metadata": {},
   "outputs": [
    {
     "name": "stdout",
     "output_type": "stream",
     "text": [
      "<class 'list'> <class 'str'> <class 'tuple'> <class 'dict'> <class 'set'>\n"
     ]
    }
   ],
   "source": [
    "# TIPOS DE DATOS COMPUESTOS\n",
    "lista = ['1','2',3] # Las listas son increiblemente útiles y se verán en mayor profundidad en la sesión 6.\n",
    "# Las listas tienen un orden y su contenido puede ser modificado.\n",
    "\n",
    "cadena_string = \"Hola, soy un string\" # Los strings son cadenas de texto compuestas por caracteres.\n",
    "\n",
    "tupla = (1, 2, \"3\") # Las tuplas son colecciones de objetos ORDENADOS y NO MUTABLES, es decir, su contenido no puede modificarse\n",
    "# Las tuplas de UN SOLO ELEMENTO deben declararse con una coma luego del elemento, de otra forma, Python no entenderá.\n",
    "tuplita = (\"Estoy solo\", )\n",
    "\n",
    "diccionario = {\n",
    "    'uno' : 1,\n",
    "    'dos' : 2,\n",
    "    'tres': 3\n",
    "} # Los diccionarios son muy útiles para crear pares de llave=>contenido. Se verán con mayor detalle en la sesión 6.\n",
    "\n",
    "lista_sin_orden = {'1','2',3} # Los sets son listas SIN orden y su contenido puede ser modificado.\n",
    "\n",
    "print (type(lista), type(cadena_string), type(tupla), type(diccionario), type(lista_sin_orden))"
   ]
  },
  {
   "cell_type": "code",
   "execution_count": 8,
   "metadata": {},
   "outputs": [
    {
     "name": "stdout",
     "output_type": "stream",
     "text": [
      "['1', '2', 3, 9]\n",
      "Longitud de la lista: 4\n",
      "Primer elemento: 1\n",
      "Último elemento: 9\n",
      "Es posible cambiar el contenido de una lista\n",
      "['1', 9, 3, 9]\n",
      "También es posible agregar elementos al final de la lista\n",
      "['1', 9, 3, 9, '4']\n",
      "Es posible eliminar elementos de una lista, pero hay que tener cuidado con el método que se usa\n",
      "Así va la lista: ['1', 3, 9, '4']\n",
      "Así va la lista: ['1', 3, 9]\n",
      "Así va la lista: [3, 9]\n"
     ]
    }
   ],
   "source": [
    "# TIPOS DE DATOS COMPUESTOS: Listas\n",
    "lista = ['1','2',3, 9] # Nótese que se está reasignando el contenido de esta variable.\n",
    "# Las listas tienen la particularidad de ser ordenadas y cuyo contenido puede variar. Cada entrada en una lista puede ser de un\n",
    "# tipo de dato diferente.\n",
    "# En la sesión 6 se definirá mejor y en más detalle cómo funcionan, por ahora veámos lo más importante.\n",
    "\n",
    "# Las listas, al estar ordenadas, tienen un ÍNDICE que empieza DESDE CERO (0) y se puede usar para acceder a los elementos\n",
    "# presentes dentro de esta.\n",
    "print (lista)\n",
    "print (\"Longitud de la lista:\", len(lista))\n",
    "print (\"Primer elemento:\", lista[0]) \n",
    "# Como el índice empieza desde cero, para acceder al último enémiso elemento, se pondría el número n-1\n",
    "print (\"Último elemento:\", lista[3])\n",
    "\n",
    "print (\"Es posible cambiar el contenido de una lista\") \n",
    "lista[1] = 9\n",
    "print (lista)\n",
    "\n",
    "print (\"También es posible agregar elementos al final de la lista\")\n",
    "lista.append('4')\n",
    "print (lista)\n",
    "\n",
    "print (\"Es posible eliminar elementos de una lista, pero hay que tener cuidado con el método que se usa\")\n",
    "lista.remove(9) # El método remove elimina un elemento de la lista BASADO EN EL CONTENIDO del elemento.\n",
    "# Si hay dos elementos con el mismo contenido, elimina el primero que encuentre.\n",
    "print (\"Así va la lista:\", lista)\n",
    "lista.pop() # El método pop remueve el último elemento de la lista.\n",
    "print (\"Así va la lista:\", lista)\n",
    "lista.pop(0) #Si se le especifica al método pop un ÍNDICE, elimina el elemento presente en ESE índice.\n",
    "print (\"Así va la lista:\", lista)"
   ]
  },
  {
   "cell_type": "code",
   "execution_count": 9,
   "metadata": {},
   "outputs": [
    {
     "name": "stdout",
     "output_type": "stream",
     "text": [
      "H o 19 g\n",
      "Hola \n",
      "mundo!\n",
      "Quiero un slash invertido \\\n",
      "\r\n",
      "soy grande\n",
      "SOY PEQUEÑO\n",
      "oooooo\n"
     ]
    }
   ],
   "source": [
    "# TIPOS DE DATOS COMPUESTOS: Strings\n",
    "# Los strings son una lista de caracteres unidos.\n",
    "print(cadena_string[0], cadena_string[1], len(cadena_string), cadena_string[18])\n",
    "\n",
    "# Da igual si uno declara una variable string con comillas dobles (\"\") o comillas simples ('') siempre y cuando no se vayan a\n",
    "# usar \"caracteres de escape\". Los caracteres de escape son caracteres especiales que tienen distintos propósitos, por ejemplo,\n",
    "# añadir un símbolo o una nueva línea. Los caracteres de escape se señalan con un slash invertido (\\) seguido del caracter\n",
    "# a usar. A continuación, los más importantes:\n",
    "print (\"Hola \\nmundo!\")\n",
    "print (\"Quiero un slash invertido \\\\\")\n",
    "print (\"\\r\")\n",
    "# Los strings tienen muchos métodos útiles, tantos que queda a disposición del estudiante explorarlos todos. A continuación,\n",
    "# se presentan los 3 más importantes.\n",
    "\n",
    "TODO_EN_MAYUS = \"SOY GRANDE\"\n",
    "todo_en_minus = \"soy pequeño\"\n",
    "reemplazame = \"aaaaaa\"\n",
    "\n",
    "print(TODO_EN_MAYUS.lower())\n",
    "print(todo_en_minus.upper())\n",
    "print(reemplazame.replace('a','o'))"
   ]
  },
  {
   "cell_type": "code",
   "execution_count": 10,
   "metadata": {},
   "outputs": [
    {
     "name": "stdout",
     "output_type": "stream",
     "text": [
      "Contenido del diccionario:  {'uno': 1, 'dos': 2, 'tres': 3, 'cuatro': 4} \n",
      "\n",
      "1\n",
      "Esto es equivalente: 1 \n",
      "\n",
      "{'uno': 'Ahora soy una cadena', 'dos': 2, 'tres': 3, 'cuatro': 4} \n",
      "\n",
      "{'uno': 'Ahora soy una cadena', 'dos': 2, 'tres': 3, 'cuatro': 4, 'cinco': 5} \n",
      "\n",
      "{'dos': 2, 'tres': 3, 'cuatro': 4, 'cinco': 5} \n",
      "\n",
      "dict_keys(['dos', 'tres', 'cuatro', 'cinco']) \n",
      "\n",
      "{}\n"
     ]
    }
   ],
   "source": [
    "# TIPOS DE DATOS COMPUESTOS: Diccionarios\n",
    "diccionario = {\n",
    "    'uno' : 1,\n",
    "    'dos' : 2,\n",
    "    'tres': 3, # Nótese que hay una coma después de cada elemento\n",
    "    'cuatro' : 4 # Si es el último elemento, puede o no tener una coma.\n",
    "}\n",
    "print (\"Contenido del diccionario: \", diccionario, \"\\n\")\n",
    "# Para acceder al contenido de un diccionario, a diferencia de una lista, se requiere especificar la LLAVE\n",
    "print (diccionario['uno'])\n",
    "print (\"Esto es equivalente:\", diccionario.get('uno'), \"\\n\")\n",
    "\n",
    "# Es posible cambiar el valor de un diccionario de forma similar a como se haría en una lista, pero llamando al elemento\n",
    "# mediante la llave.\n",
    "diccionario['uno'] = \"Ahora soy una cadena\"\n",
    "print (diccionario, \"\\n\")\n",
    "\n",
    "# Para añadir elementos a un diccionario es tan secillo como escribir una nueva llave y asignarle el contenido\n",
    "diccionario['cinco'] = 5\n",
    "print (diccionario, \"\\n\")\n",
    "\n",
    "# Para eliminar elementos de un diccionario se utiliza el método pop, especificando la llave\n",
    "diccionario.pop('uno')\n",
    "print (diccionario, \"\\n\")\n",
    "\n",
    "# Para ver las llaves disponibles de un diccionario se utiliza el método keys.\n",
    "print (diccionario.keys(), \"\\n\")\n",
    "\n",
    "# El diccionario se puede limpiar por completo mediante el método clear\n",
    "diccionario.clear()\n",
    "print (diccionario)\n",
    "\n",
    "# Detalles mucho más avanzados serán explicados en la sesión 6."
   ]
  },
  {
   "cell_type": "code",
   "execution_count": null,
   "metadata": {},
   "outputs": [],
   "source": []
  }
 ],
 "metadata": {
  "kernelspec": {
   "display_name": "Python 3",
   "language": "python",
   "name": "python3"
  },
  "language_info": {
   "codemirror_mode": {
    "name": "ipython",
    "version": 3
   },
   "file_extension": ".py",
   "mimetype": "text/x-python",
   "name": "python",
   "nbconvert_exporter": "python",
   "pygments_lexer": "ipython3",
   "version": "3.8.5"
  }
 },
 "nbformat": 4,
 "nbformat_minor": 4
}
