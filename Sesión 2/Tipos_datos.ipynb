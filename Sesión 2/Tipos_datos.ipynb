{
 "cells": [
  {
   "cell_type": "markdown",
   "metadata": {},
   "source": [
    "![Geomática](../Recursos/img/geo_logo.jpg)\n",
    "# Introducción a Python\n",
    "\n",
    "**Sesión 2:** Tipos de datos y conceptos básicos"
   ]
  },
  {
   "cell_type": "markdown",
   "metadata": {},
   "source": [
    "## Variables\n",
    "En la mayoría de lenguajes de programación se trabaja con un concepto abstracto llamado __variable.__\n",
    "\n",
    "Las variables, consisten en \"espacios\" que se pueden rellenar con datos de algún __tipo.__\n",
    "\n",
    "Las variables pueden tener nombres que el desarrollador elija, siempre y cuando no contenga caracteres especiales (puntos, comas, operadores, etc.) ni espacios. Es una buena práctica nombrar a las variables de formas que sean descriptivas, y en caso de querer separar palabras, es posible hacerlo mediante el uso de \"raya-piso\" ( \\_ ).\n",
    "\n",
    "__Ejemplos:__\n",
    "\n",
    "``variable_entera``\n",
    "\n",
    "``numeros_sirven_1``\n",
    "\n",
    "``SePuedeHacerEsto``\n",
    "\n",
    "``Esto_Tambien_35``\n",
    "\n",
    "``no_funcionará``\n",
    "\n",
    "El proceso de nombrar una variable y asignarle un contenido se le denomina __declarar una variable.__\n",
    "\n",
    "_En Python, declarar una variable es sinómino a definir una variable, no obstante, en otros lenguajes de programación puede tener una denotación diferente._\n",
    "\n",
    "__NO__ es posible llamar a una variable que no haya sido declarada con anterioridad.\n",
    "\n",
    "### ¿Qué son los tipos de dato?\n",
    "Los tipos de dato (o simplemente __tipo__) es un atributo de una variable que indica el lenguaje de programación sobre la clase de datos que va a manejar. Esto incluye el tipo de operaciones permitidas, las formas de usarse, etc.\n",
    "\n",
    "Por ejemplo, los números enteros son un tipo de dato diferente a los números reales (llamados números de coma flotante, números de punto flotante, o simplemente flotantes, en el mundo de la informática).\n",
    "\n",
    "### Tipado dinámico vs tipado estático\n",
    "\n",
    "- El tipado dinámico consiste en que los tipos de datos de las variables se __asignan automáticamente__ y __pueden mutar__ durante la ejecución.\n",
    "- El tipado estático consiste en que los tipos de datos de las variables __deben ser declaradas__ y estos __NO__ pueden mutar durante la ejecución, a menos que se haga una conversión o eliminación de la variable.\n",
    "\n",
    "### Lenguajes fuertemente tipados vs debilmente tipados\n",
    "\n",
    "- Los lenguajes fuertemente tipados __NO__ permiten hacer operaciones entre variables de __distintos tipos__ sin hacer usos de conversiones u otros métodos.\n",
    "\n",
    "- Los lenguajes debilmente tipados son más flexibles al respecto, permitiendo realizar operaciones entre objetos con distintos tipos de dato bajo ciertas circunstancias.\n",
    "\n",
    "__Python es un lenguaje con tipado dinámico y fuertemente tipado__\n",
    "\n",
    "## Manos a la obra\n",
    "A continuación, se presentarán ejemplos de tipos de datos fundamentales y compuestos, junto con nuevas funciones y operaciones interesantes. Por favor, estén muy antentos a la explicación oral."
   ]
  },
  {
   "cell_type": "code",
   "execution_count": 6,
   "metadata": {},
   "outputs": [
    {
     "name": "stdout",
     "output_type": "stream",
     "text": [
      "10 20\n"
     ]
    }
   ],
   "source": [
    "# DECLARACIÓN DE VARIABLES\n",
    "# La forma de declarar una variable es sencilla:\n",
    "# uno escribe el nombre de la variable, seguido de un \"=\" y posteriormente el dato.\n",
    "mi_variable_1 = 10\n",
    "mi_variable_2 = 20\n",
    "\n",
    "print (mi_variable_1, mi_variable_2)"
   ]
  },
  {
   "cell_type": "code",
   "execution_count": 7,
   "metadata": {},
   "outputs": [
    {
     "ename": "NameError",
     "evalue": "name 'mi_variable_3' is not defined",
     "output_type": "error",
     "traceback": [
      "\u001b[1;31m---------------------------------------------------------------------------\u001b[0m",
      "\u001b[1;31mNameError\u001b[0m                                 Traceback (most recent call last)",
      "\u001b[1;32m<ipython-input-7-8a2a91eaf139>\u001b[0m in \u001b[0;36m<module>\u001b[1;34m\u001b[0m\n\u001b[0;32m      1\u001b[0m \u001b[1;31m# VARIABLE NO DECLARADA\u001b[0m\u001b[1;33m\u001b[0m\u001b[1;33m\u001b[0m\u001b[1;33m\u001b[0m\u001b[0m\n\u001b[1;32m----> 2\u001b[1;33m \u001b[0mprint\u001b[0m \u001b[1;33m(\u001b[0m\u001b[0mmi_variable_3\u001b[0m\u001b[1;33m)\u001b[0m\u001b[1;33m\u001b[0m\u001b[1;33m\u001b[0m\u001b[0m\n\u001b[0m",
      "\u001b[1;31mNameError\u001b[0m: name 'mi_variable_3' is not defined"
     ]
    }
   ],
   "source": [
    "# VARIABLE NO DECLARADA\n",
    "print (mi_variable_3)"
   ]
  },
  {
   "cell_type": "code",
   "execution_count": 22,
   "metadata": {},
   "outputs": [
    {
     "name": "stdout",
     "output_type": "stream",
     "text": [
      "<class 'int'> <class 'float'> <class 'bool'> <class 'complex'>\n"
     ]
    }
   ],
   "source": [
    "# TIPOS DE DATOS FUNDAMENTALES\n",
    "entero = 0 # Representa el conjunto de números enteros. Tiene un límite computacional.\n",
    "flotante = 1.5 # Representa todo el conjunto de números reales. Tiene un límite computacional.\n",
    "booleano = True # Representa dos valores: verdadero o falso.\n",
    "complejo = 5 + 3j #Representa el conjunto de números complejos. Sí, también tiene un límite computacional.\n",
    "print (type(entero), type(flotante), type(booleano), type(complejo))"
   ]
  },
  {
   "cell_type": "code",
   "execution_count": 24,
   "metadata": {},
   "outputs": [
    {
     "name": "stdout",
     "output_type": "stream",
     "text": [
      "<class 'float'> 1.5\n"
     ]
    }
   ],
   "source": [
    "# TIPOS DE DATOS FUNDAMENTALES: Enteros y flotantes y su relación intrinseca\n",
    "entero = entero + flotante\n",
    "print(type (entero), entero)"
   ]
  },
  {
   "cell_type": "code",
   "execution_count": 23,
   "metadata": {},
   "outputs": [
    {
     "name": "stdout",
     "output_type": "stream",
     "text": [
      "1 0 True False\n"
     ]
    }
   ],
   "source": [
    "# TIPOS DE DATOS FUNDAMENTALES: Tipos booleanos\n",
    "# Los tipos de datos booleanos también se pueden trabajar como enteros, representados por el cero y el uno\n",
    "booleano2 = False\n",
    "# Operaicones booleanas básicas: OR y AND\n",
    "# Las operaciones booleanas básicas serán retornadas como tipos de datos enteros\n",
    "print (booleano + booleano2, booleano * booleano2, booleano, booleano2)"
   ]
  },
  {
   "cell_type": "code",
   "execution_count": null,
   "metadata": {},
   "outputs": [],
   "source": []
  }
 ],
 "metadata": {
  "kernelspec": {
   "display_name": "Python 3",
   "language": "python",
   "name": "python3"
  },
  "language_info": {
   "codemirror_mode": {
    "name": "ipython",
    "version": 3
   },
   "file_extension": ".py",
   "mimetype": "text/x-python",
   "name": "python",
   "nbconvert_exporter": "python",
   "pygments_lexer": "ipython3",
   "version": "3.8.5"
  }
 },
 "nbformat": 4,
 "nbformat_minor": 4
}
