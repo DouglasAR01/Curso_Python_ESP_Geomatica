{
 "cells": [
  {
   "cell_type": "code",
   "execution_count": 1,
   "id": "a9d01d31",
   "metadata": {},
   "outputs": [],
   "source": [
    "import matplotlib.pyplot as plt\n",
    "%matplotlib inline"
   ]
  },
  {
   "cell_type": "code",
   "execution_count": null,
   "id": "0fcb4dd8",
   "metadata": {},
   "outputs": [],
   "source": [
    "doge2021 = doge[doge.Date > \"2021/04/01\"]\n",
    "plt.plot(doge2021.Date, doge2021.Price);\n",
    "plt.xticks(rotation=45);"
   ]
  },
  {
   "cell_type": "code",
   "execution_count": null,
   "id": "105f0206",
   "metadata": {},
   "outputs": [],
   "source": [
    "fig, ax = plt.subplots(figsize=(10,5));\n",
    "barras = ax.barh(sexos, cantidad);\n",
    "ax.set_title(\"Número de estudiantes por sexo\")\n",
    "ax.set_xlabel(\"Estudiantes\")\n",
    "for barra in barras:\n",
    "    alto = barra.get_height()\n",
    "    ancho = barra.get_width()\n",
    "    x = ancho*1.005\n",
    "    y = barra.get_y() + alto/2\n",
    "    ax.text(x,y, ancho)\n",
    "barras[0].set_color(\"green\")"
   ]
  }
 ],
 "metadata": {
  "kernelspec": {
   "display_name": "Python 3",
   "language": "python",
   "name": "python3"
  },
  "language_info": {
   "codemirror_mode": {
    "name": "ipython",
    "version": 3
   },
   "file_extension": ".py",
   "mimetype": "text/x-python",
   "name": "python",
   "nbconvert_exporter": "python",
   "pygments_lexer": "ipython3",
   "version": "3.9.6"
  }
 },
 "nbformat": 4,
 "nbformat_minor": 5
}
