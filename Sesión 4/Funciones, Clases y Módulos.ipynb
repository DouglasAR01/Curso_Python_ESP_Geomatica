{
 "cells": [
  {
   "cell_type": "markdown",
   "metadata": {},
   "source": [
    "![Geomática](../Recursos/img/geo_logo.jpg)\n",
    "# Introducción a Python\n",
    "\n",
    "**Sesión 3:** Funciones, clases y módulos."
   ]
  },
  {
   "cell_type": "markdown",
   "metadata": {},
   "source": [
    "## Funciones\n",
    "Python, al igual que la mayoría de lenguajes de programación, permite escribir bloques de código que pueden contener cualquiera de las funcionalidades vistas en las sesiones anteriores. Estos bloques de código tienen la capacidad de ser llamados y reutilizados múltiples veces, donde es posible que se **retorne** un resultado o simplemente ejecute una rutina.\n",
    "\n",
    "Estos bloques de código tienen un nombre propio, se les denomina **funciones**. Las funciones tienen características únicas que se detallarán a continuación."
   ]
  },
  {
   "cell_type": "code",
   "execution_count": 3,
   "metadata": {},
   "outputs": [],
   "source": [
    "### DEFINICIÓN DE UNA FUNCIÓN\n",
    "# En Python, la forma en la que se declara una función es mediante la palabra clave def.\n",
    "# El contenido del bloque de código de una función se declara al igual que en las estructuras de control, mediante un :\n",
    "def mi_funcion():\n",
    "    print (\"Hola mundo, esta es mi primera función.\")\n",
    "# Nótese que la identación es relevante.\n",
    "# Esta función solo ejecuta una rutina, es decir no RETORNA nada. La rutina es ejecutar la función Print que SÍ devuelve algo."
   ]
  },
  {
   "cell_type": "code",
   "execution_count": 4,
   "metadata": {},
   "outputs": [
    {
     "name": "stdout",
     "output_type": "stream",
     "text": [
      "Hola mundo, esta es mi primera función.\n"
     ]
    }
   ],
   "source": [
    "### LLAMADO DE UNA FUNCIÓN\n",
    "# Una vez declarada una función, es posible llamarla en cualquier momento (siempre y cuando ya haya sido declarada).\n",
    "# La forma de llamar a una función es muy sencilla, basta con escribir el nombre de esta.\n",
    "mi_funcion()"
   ]
  },
  {
   "cell_type": "markdown",
   "metadata": {},
   "source": [
    "### Parámetros o argumentos\n",
    "En Python, uno puede enviar información a las funciones. La forma en la que se le envía dicha información es a través de lo que se denomina **argumentos** o, su sinónimo, **parámetros**. Cualquiera de las dos formas de decirlo es válido y entendido por la comunidad.\n",
    "\n",
    "Los parámetros se definen dentro de los paréntesis a la hora de declarar la función, uno puede especificar cuantos parámetros sean necesarios, siempre y cuando se separen con una coma. En el ejemplo de a continuación se presenta una función con dos parámetros, por favor, prestar mucha atención a la explicación."
   ]
  },
  {
   "cell_type": "code",
   "execution_count": 5,
   "metadata": {},
   "outputs": [],
   "source": [
    "### DECLARACIÓN DE UNA FUNCIÓN CON PARÁMETROS\n",
    "def mi_nombre(nombre, apellido):\n",
    "    return nombre + \" \"+ apellido\n",
    "# Esta función tiene dos parámetros, uno llamado nombre y otro llamado apellido. El orden en el que se envían los parámetros\n",
    "# importa, por lo tanto, a la hora de llamar la función, es necesario introducirlos en el orden correcto.\n",
    "# En este caso, la función SÍ retorna algo, en específico, retorna una cadena que une el nombre y el apellido.\n",
    "# La forma de especificar que se retornará algo es mediante la palabra reservada return.\n",
    "# Una vez una función llega a un return, intentará retornar lo especificado y terminará la ejecución del bloque de código.\n",
    "# Nótese que para esa función, se está trabajando con cadenas (strings), por lo tanto, enviar como parámetro algo cuyo tipo\n",
    "# de dato no sea una cadena potencialmente producirá un error."
   ]
  },
  {
   "cell_type": "code",
   "execution_count": 10,
   "metadata": {},
   "outputs": [
    {
     "name": "stdout",
     "output_type": "stream",
     "text": [
      "Douglas Ramírez\n",
      "Ramírez Douglas\n",
      "Cristian Ramírez\n"
     ]
    }
   ],
   "source": [
    "# Nótese que para el envío de los parámetros también hay que separar con una coma.\n",
    "nombre_completo = mi_nombre(\"Douglas\", \"Ramírez\")\n",
    "orden_importa = mi_nombre(\"Ramírez\",\"Douglas\")\n",
    "\n",
    "print(nombre_completo)\n",
    "print (orden_importa)\n",
    "# El parámetro de una función puede ser directamente la información retornada por otra función, por ejemplo, el parámetro de \n",
    "# este print es el dato que retorna la función mi_nombre\n",
    "print (mi_nombre(\"Cristian\", \"Ramírez\"))"
   ]
  },
  {
   "cell_type": "code",
   "execution_count": 11,
   "metadata": {},
   "outputs": [
    {
     "name": "stdout",
     "output_type": "stream",
     "text": [
      "X Y\n"
     ]
    }
   ],
   "source": [
    "# Los parámetros pueden ser variables (siempre y cuando contengan el tipo de dato correcto).\n",
    "# Pruebe ejecutando esta celda cambiando los valores de estas dos variables.\n",
    "nombre_arbitrario = \"X\"\n",
    "apellido_arbitrario = \"Y\"\n",
    "print (mi_nombre(nombre_arbitrario,apellido_arbitrario))"
   ]
  },
  {
   "cell_type": "markdown",
   "metadata": {},
   "source": [
    "#### Argumentos de palabras clave"
   ]
  },
  {
   "cell_type": "code",
   "execution_count": 13,
   "metadata": {},
   "outputs": [
    {
     "name": "stdout",
     "output_type": "stream",
     "text": [
      "Duvan Sanabria\n",
      "Edgar Rangel\n"
     ]
    }
   ],
   "source": [
    "### ENVÍO EN DESORDEN DE LOS PARÁMETROS\n",
    "# Python, a diferencia de otros lenguajes de programación, permite enviar los parámetros en desorden SI Y SOLO SI se conoce\n",
    "# el nombre del parámetro de la función y esta se envía junto con un =, como si de una declaración de variable se tratase.\n",
    "# A esto se le denomina argumentos de palabras clave. (Keyword arguments)\n",
    "nombre_arbitrario = \"Duvan\"\n",
    "apellido_arbitrario = \"Sanabria\"\n",
    "\n",
    "# Nótese que primero se envió el apellido y luego se envió el nombre, pero el resultado está en el orden correcto.\n",
    "# Esto es debido a que se enviaron los parámetros especificando a quién le correspondía cada dato.\n",
    "resultado = mi_nombre(apellido = apellido_arbitrario, nombre = nombre_arbitrario)\n",
    "print (resultado)\n",
    "# Lo mismo se puede lograr de esta forma\n",
    "print (mi_nombre(apellido = \"Rangel\", nombre = \"Edgar\"))"
   ]
  },
  {
   "cell_type": "markdown",
   "metadata": {},
   "source": [
    "### Número indefinido de parámetros\n",
    "Hay veces en el que se desconoce el número de parámetros que serán enviados en el tiempo de ejecución. Python, para solucionar este problema, permite, durante la declaración de una función, especificar que se desconoce el número de argumentos.\n",
    "\n",
    "Hay dos formas de hacer esto, pero primero se mostrará una forma y luego otra, debido a que puede dar lugar a confusión.\n",
    "\n",
    "En los lenguajes de programación donde esto no se puede hacer, por ejemplo Java, este problema se soluciona fácilmente usando listas u alguna otra estructura de datos. En Python este tipo de soluciones **también** es válida."
   ]
  },
  {
   "cell_type": "code",
   "execution_count": 19,
   "metadata": {},
   "outputs": [
    {
     "name": "stdout",
     "output_type": "stream",
     "text": [
      "<class 'tuple'> (6, 1, 2, 4, 5.5, 99, 3, 500.2, 200, -1, 5)\n"
     ]
    },
    {
     "data": {
      "text/plain": [
       "500.2"
      ]
     },
     "execution_count": 19,
     "metadata": {},
     "output_type": "execute_result"
    }
   ],
   "source": [
    "### ENCONTRAR EL MAYOR DE N NÚMEROS\n",
    "# Para este problema, se desconoce cuántos parámetros son necesarios para determinar el mayor de un conjunto de números.\n",
    "# Para declarar en Python que se va a trabajar con un número indefinido de parámetros, se especifica el nombre del parámetro\n",
    "# indefinido con el prefijo de un *. De esta forma, Python creará una TUPLA (recordando: conjunto de elementos ORDENADOS e\n",
    "# INMUTABLES) la cual se puede manipular de cualquiera de las formas que se aprendieron anteriormente. Por ejemplo, con un for.\n",
    "def mayor_numeros(*numeros):\n",
    "    print (type(numeros), numeros) #Nótese que se está llamando una función dentro de otra función.\n",
    "    mayor = 0\n",
    "    for numero in numeros:\n",
    "        if (numero > mayor):\n",
    "            mayor = numero\n",
    "    return mayor\n",
    "mayor_numeros(6,1,2,4,5.5,99,3,500.2,200,-1,5)"
   ]
  },
  {
   "cell_type": "code",
   "execution_count": null,
   "metadata": {},
   "outputs": [],
   "source": [
    "### EJERCICIO PROPUESTO: Encuentre el menor de n números\n",
    "# Escriba su código debajo de esta línea"
   ]
  },
  {
   "cell_type": "code",
   "execution_count": 26,
   "metadata": {},
   "outputs": [
    {
     "name": "stdout",
     "output_type": "stream",
     "text": [
      "Número 1 Terminado\n",
      "Número 2 Terminado\n",
      "Número 3 Terminado\n",
      "Número 77 Terminado\n",
      "Número -1 Terminado\n"
     ]
    }
   ],
   "source": [
    "### PARÁMETROS DEFINIDOS E INDEFINIDOS\n",
    "# Python permite trabajar con ambos tipos de argumentos, no obstante, el ORDEN en el que se envían y declaran los argumentos\n",
    "# se vuelve CRUCIAL. En este ejemplo los argumentos definidos se declaran primero que el indefinido, este es el caso base.\n",
    "def decir_numeros(prefijo, sufijo, *numeros):\n",
    "    for numero in numeros:\n",
    "        print (prefijo, numero, sufijo)\n",
    "decir_numeros(\"Número\", \"Terminado\", 1, 2, 3, 77, -1)"
   ]
  },
  {
   "cell_type": "code",
   "execution_count": 38,
   "metadata": {},
   "outputs": [
    {
     "name": "stdout",
     "output_type": "stream",
     "text": [
      "Número 1 Terminado\n",
      "Número 3 Terminado\n",
      "Número 4 Terminado\n",
      "Número 5 Terminado\n",
      "Número 6 Terminado\n"
     ]
    }
   ],
   "source": [
    "# En este caso, el parámetro indefinido está en medio de los parametros definidos. Para poder usar esta función, al momento de\n",
    "# llamarse, se podrá definir mediante el orden los argumentos anteriores al argumento indefinido. Los argumentos que vengan\n",
    "# después de este, en este caso el parámetro \"sufijo\" tendrá que ser declarado explícitamente mediante un =, debido a que se\n",
    "# desconocerá el orden en el que viene después.\n",
    "def decir_numeros_2 (prefijo,*numeros, sufijo):\n",
    "    for numero in numeros:\n",
    "        print (prefijo, numero, sufijo)\n",
    "decir_numeros_2(\"Número\", 1,3,4,5,6, sufijo=\"Terminado\")"
   ]
  },
  {
   "cell_type": "code",
   "execution_count": 39,
   "metadata": {},
   "outputs": [
    {
     "name": "stdout",
     "output_type": "stream",
     "text": [
      "Número 1 Terminado\n",
      "Número 22 Terminado\n",
      "Número 3 Terminado\n",
      "Número 47 Terminado\n",
      "Número 58 Terminado\n",
      "Número 6 Terminado\n"
     ]
    }
   ],
   "source": [
    "# En este caso, el parámetro indefinido es el primero, por lo tanto, como se desconocerá el orden en tiempo de ejecución,\n",
    "# será necesario declarar explícitamente todos los demás parámetros. Esto tiene sus ventajas en aplicaciones de ingeniería de\n",
    "# software.\n",
    "# Muchas veces, en especial en el uso de librerías para cómputo científico, se encontrarán con funciones con estructuras así.\n",
    "def decir_numeros_3 (*numeros, prefijo, sufijo):\n",
    "    for numero in numeros:\n",
    "        print (prefijo, numero, sufijo)\n",
    "decir_numeros_3 (1,22,3,47,58,6, prefijo = \"Número\", sufijo = \"Terminado\")"
   ]
  },
  {
   "cell_type": "markdown",
   "metadata": {},
   "source": [
    "#### Número de parámetros indefinidos: palabras clave arbitrarias\n",
    "Como se había mencionado anteriormente, hay dos formas de trabajar con un número de parámetros indefinidos. Ya se vio la primera forma, donde se define un argumento que contendrá en una tupla todos los datos que se le envíen, donde el orden en el que se envíen y definan los argumentos es crucial.\n",
    "\n",
    "A continuación, se presenta la segunda forma de lidiar con parámetros indefinidos: declarando parámetros de palabras clave arbitrarios e indefinidos. Esta forma consiste en que se desconoce cuántos parámetros de palabras clave serán enviados a la función, por lo tanto, Python convierte estos parámetros en un diccionario y se trabaja con estos argumentos como tal. Por favor, prestar mucha atención a la explicación oral."
   ]
  },
  {
   "cell_type": "code",
   "execution_count": 1,
   "metadata": {},
   "outputs": [
    {
     "name": "stdout",
     "output_type": "stream",
     "text": [
      "<class 'dict'> 2 dict_keys(['p1', 'p2'])\n"
     ]
    }
   ],
   "source": [
    "### DECLARACIÓN DE UNA FUNCIÓN CON PALABRAS CLAVE ARBITRARIAS\n",
    "# Nótese que el argumento de longitud indefinida en este caso se declara con dos asteriscos en lugar de uno.\n",
    "# Esta función imprime el tipo de dato que es el argumento kwargs, su tamaño y las llaves del diccionario.\n",
    "def mi_otra_funcion(**kwargs):\n",
    "    print (type(kwargs),len(kwargs),kwargs.keys())\n",
    "mi_otra_funcion(p1=\"hola\", p2=\"mundo\")"
   ]
  },
  {
   "cell_type": "code",
   "execution_count": 5,
   "metadata": {},
   "outputs": [
    {
     "name": "stdout",
     "output_type": "stream",
     "text": [
      "hola\n",
      "mundo\n",
      "['una', 'lista', 'de', 'palabras']\n"
     ]
    }
   ],
   "source": [
    "### ITERACIÓN SOBRE EL DICCIONARIO DE ARGUMENTOS GENERADO\n",
    "# Al ser un diccionario, es posible iterar sobre este de las diversas formas posibles que Python permite, en este ejemplo\n",
    "# se realiza la iteración de la forma más básica y clara: iterando mediante las llaves del diccionario.\n",
    "# La función en este caso imprime el contenido que se encuentre en cada llave.\n",
    "def mi_otra_funcion(**info):\n",
    "    llaves = info.keys()\n",
    "    for llave in llaves:\n",
    "        print(info[llave])\n",
    "# Nótese que se puede enviar cualquier tipo de dato como argumento. El argumento p3 en lugar de ser una cadena, es una lista\n",
    "# de cadenas. Comprobar que el tipo de dato sea el correcto o impedir discordancias en la ejecución por un mal envío de la\n",
    "# información es trabajo del desarrollador.\n",
    "mi_otra_funcion(p1=\"hola\", p2=\"mundo\", p3 = [\"una\",\"lista\",\"de\", \"palabras\"])"
   ]
  },
  {
   "cell_type": "markdown",
   "metadata": {},
   "source": [
    "### Parámetros por defecto\n",
    "Cuando se tienen funciones complejas, donde se requiere gran cantidad de parámetros, muchas veces se dará la situación de enviar todos y cada uno de los argumentos se vuelve una tarea tediosa o incluso redundante. Por esto, Python permite al desarrollador, al momento de declarar la función, establecer valores por defecto a los parámetros de la función. De esta forma, al usar la función, no es necesario escribir todos los parámetros, ya que estos tendrán un valor previamente asignado.\n",
    "\n",
    "Esto es muy útil en la ingeniería de software, especialmente en la construcción de funciones que hagan uso de los argumentos indefinidos de la primera forma, es decir, la forma que genera una tupla. ¿Por qué? Porque si se declara el parámetro indefinido al principio de la función, es necesario definir explícitamente todos y cada uno de los parámetros restantes, pero si ya están previamente definidos, esto no es necesario. Veámos un ejemplo."
   ]
  },
  {
   "cell_type": "code",
   "execution_count": 12,
   "metadata": {},
   "outputs": [
    {
     "name": "stdout",
     "output_type": "stream",
     "text": [
      "Usuario anónimo\n",
      "Douglas Ramírez\n",
      "Ramírez anónimo\n",
      "Usuario Ramírez\n",
      "Douglas anónimo\n"
     ]
    }
   ],
   "source": [
    "# Empecemos por lo básico: definir el valor por defecto de los argumentos\n",
    "# Volvemos a usar la función mi_nombre, pero en este caso, a pesar de que la función pida dos argumentos (nombre y apellido),\n",
    "# no se le enviará nada.\n",
    "# Nótese que ahora los parámetros declarados en la función se les está asignando algo, en este caso, unas cadenas.\n",
    "def mi_nombre(nombre=\"Usuario\", apellido=\"anónimo\"):\n",
    "    return nombre + \" \"+ apellido\n",
    "print (mi_nombre())\n",
    "\n",
    "# Nótese que en este caso, se le está especificando el contenido de todos los argumentos que la función exige.\n",
    "print (mi_nombre(\"Douglas\", \"Ramírez\"))\n",
    "\n",
    "# Ahora se envía solo el apellido pero... ¿Funcionará?\n",
    "print (mi_nombre(\"Ramírez\"))\n",
    "\n",
    "# ¿Entonces...?\n",
    "print (mi_nombre(apellido=\"Ramírez\"))\n",
    "\n",
    "# Entiendo... el orden de los parámetros sigue siendo el mismo y puedo aprovechar las técnicas que vi anteriormente.\n",
    "print (mi_nombre(\"Douglas\"))"
   ]
  },
  {
   "cell_type": "code",
   "execution_count": 19,
   "metadata": {},
   "outputs": [
    {
     "name": "stdout",
     "output_type": "stream",
     "text": [
      "{'suma': 91}\n",
      "{'suma': 8.382332347441762, 'tam': 5}\n"
     ]
    }
   ],
   "source": [
    "### COMBINANDO LO APRENDIDO\n",
    "# Este ejemplo muestra la potencia de combinar el número de parámetros indefinidos junto con los parámetros con valores por\n",
    "# defecto y sin valores por defecto.\n",
    "# El primer argumento, el de tamaño indefinido, se encargará de recoger en una tupla todos los números que se envíen.\n",
    "# El segundo argumento, el que no tiene valor por defecto y por lo tanto es obligatorio definirlo al momento\n",
    "# de llamar la función, se encarga de recibir el exponente al cual se multiplicarán las bases (que están en la tupla numeros)\n",
    "# El tercer parámetro está declarado por defecto como falso. Este permitirá al usuario de la función decidir si quiere o no\n",
    "# recibir el número de ítems de la tupla.\n",
    "# El resultado se retornará en forma de diccionario, donde si el parámetro conteo es falso, solo se contiene la suma, en caso\n",
    "# contrario, se retornará un diccionario donde una llave contiene la suma y otra el número de ítems sumados.\n",
    "def suma_de_potencias(*numeros, exponente, conteo=False):\n",
    "    resultado = 0\n",
    "    # Itera sobre la tupla de números y eleva la base al exponente para, posteriormente, sumarlo.\n",
    "    for numero in numeros:\n",
    "        resultado += numero**exponente\n",
    "    # Crea el diccionario, donde el resultado de la suma se almacena en la palabra clave \"suma\"\n",
    "    retorno = { \"suma\": resultado}\n",
    "    # Si conteo es verdadero, se añade una llave adicional al diccionario, llamada \"tam\" que almacena el tamaño de la tupla\n",
    "    if (conteo):\n",
    "        retorno[\"tam\"] = len(numeros)\n",
    "    return retorno\n",
    "\n",
    "# Probemos con la suma de cuadrados de los 6 primeros números enteros positivos sin querer el conteo.\n",
    "print (suma_de_potencias(1,2,3,4,5,6, exponente=2))\n",
    "\n",
    "# Ahora probemos con la suma ármonica de los primeros cinco números enteros positivos. Ahora sí queremos el conteo.\n",
    "print (suma_de_potencias(1,2,3,4,5, exponente=0.5, conteo=True))"
   ]
  },
  {
   "cell_type": "markdown",
   "metadata": {},
   "source": [
    "### Funciones recursivas\n",
    "Python, al igual que la mayoría de lenguajes de programación, acepta el concepto de la recursión, este consiste en que una función se puede llamar a sí misma.\n",
    "\n",
    "La recursión es un concepto matemático que, en este caso, se llevó al mundo de la programación. Este concepto es un arma de doble filo, debido a que a pesar de ser muy poderoso, el desarrollador debe de tener **extremo** cuidado con lo que está haciendo, debido a que no establecer bien un caso base o una condición de salida puede hacer que la función nunca termine o consuma cantidades excesivas de memoria o procesamiento.\n",
    "\n",
    "Algunas veces, ciertos problemas se pueden resolver recurriendo a resultados iterables de sí mismo. Esto es complejo de entender en un principio, por lo tanto, es más sencillo de explicar con un ejemplo: la operación factorial.\n",
    "\n",
    "La operación factorial en matemáticas **para los números enteros positivos**, denotada con el símbolo **!**, consiste en la multiplicación del número base, por todos los números **enteros positivos** previos a este hasta llegar a 1. Por ejemplo, la operación factorial de 6 sería lo siguiente:\n",
    "\n",
    "**6!** = 6x5x4x3x2x1 = 720 = 1x2x3x4x5x6\n",
    "\n",
    "O, definido formalmente:\n",
    "![Factorial](../Recursos/img/factorial.svg)\n",
    "\n",
    "Para los desarrolladores de software, es más fácil verlo en su definición por inducción:\n",
    "![Induccion](../Recursos/img/fact_induccion.svg)\n",
    "\n",
    "Es importante conocer que **0!** es igual a 1."
   ]
  },
  {
   "cell_type": "code",
   "execution_count": 1,
   "metadata": {},
   "outputs": [
    {
     "name": "stdout",
     "output_type": "stream",
     "text": [
      "120\n",
      "1\n"
     ]
    }
   ],
   "source": [
    "# Suponga que le encargan a desarrollar en Python el operador factorial. Hay dos formas de hacerlo, iterando de forma clásica\n",
    "# o mediante una función recursiva y elegante.\n",
    "# Empecemos por la forma clásica.\n",
    "def factorial(n):\n",
    "    res = 1\n",
    "    # Recordar que la función range por defecto empieza en 0 y va hasta n-1, por lo tanto, se le envía como parámetro que \n",
    "    # empiece en 1 y termine en n-1+1, es decir, en n.\n",
    "    # Lo mismo se puede hacer con un ciclo While cambiando la lógica.\n",
    "    for i in range(1,n+1):\n",
    "        res *= i\n",
    "    return res\n",
    "\n",
    "print(factorial(5))\n",
    "print (factorial(0))"
   ]
  },
  {
   "cell_type": "code",
   "execution_count": 2,
   "metadata": {},
   "outputs": [
    {
     "name": "stdout",
     "output_type": "stream",
     "text": [
      "120\n",
      "1\n"
     ]
    }
   ],
   "source": [
    "# Ahora, el mismo problema resuelto de forma recursiva, elegante y robusta:\n",
    "def factorial_r(n):\n",
    "    while(n>0): # Nótese que el while es la condición de salida, con esto se evita que la función siga hasta el infinito.\n",
    "        return n*factorial_r(n-1) # Se multiplica el valor del argumento por lo que retorne la función nuevamente con n-1.\n",
    "    return 1 # Esto solo se alcanza si n<=0\n",
    "\n",
    "print(factorial_r(5))\n",
    "print(factorial_r(0))"
   ]
  },
  {
   "cell_type": "markdown",
   "metadata": {},
   "source": [
    "### ¿Cómo funciona por dentro?\n",
    "Una imagen vale más que mil palabras.\n",
    "![Factorial](../Recursos/img/rec.png)\n",
    "En nuestro caso, el caso base viene siendo el factorial de cero."
   ]
  },
  {
   "cell_type": "code",
   "execution_count": null,
   "metadata": {},
   "outputs": [],
   "source": []
  },
  {
   "cell_type": "code",
   "execution_count": null,
   "metadata": {},
   "outputs": [],
   "source": []
  },
  {
   "cell_type": "code",
   "execution_count": null,
   "metadata": {},
   "outputs": [],
   "source": []
  }
 ],
 "metadata": {
  "kernelspec": {
   "display_name": "Python 3",
   "language": "python",
   "name": "python3"
  },
  "language_info": {
   "codemirror_mode": {
    "name": "ipython",
    "version": 3
   },
   "file_extension": ".py",
   "mimetype": "text/x-python",
   "name": "python",
   "nbconvert_exporter": "python",
   "pygments_lexer": "ipython3",
   "version": "3.8.5"
  }
 },
 "nbformat": 4,
 "nbformat_minor": 4
}
