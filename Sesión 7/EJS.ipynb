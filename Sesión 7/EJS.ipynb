{
 "cells": [
  {
   "cell_type": "markdown",
   "id": "0f4c2537",
   "metadata": {},
   "source": [
    "# EJ1"
   ]
  },
  {
   "cell_type": "code",
   "execution_count": 2,
   "id": "48db6372",
   "metadata": {},
   "outputs": [],
   "source": [
    "import numpy as np\n",
    "# Nuestra nueva matriz de pruebas, una bidimensional de 5x5\n",
    "MATRIZ = np.array([\n",
    "    [4,3,4,3,4],\n",
    "    [9,8,7,6,5],\n",
    "    [1,2,3,4,5],\n",
    "    [7,6,5,6,7],\n",
    "    [5,4,3,2,1]\n",
    "])"
   ]
  },
  {
   "cell_type": "code",
   "execution_count": 3,
   "id": "6469aa9f",
   "metadata": {},
   "outputs": [
    {
     "name": "stdout",
     "output_type": "stream",
     "text": [
      "Primero\n",
      "[4 6 2 8 3]\n",
      "Segundo\n",
      "[7 3 5 3]\n",
      "Tercero\n",
      "[[3 4]\n",
      " [8 7]]\n",
      "Cuarto\n",
      "[[9 8 7 6 5]\n",
      " [1 2 3 4 5]]\n",
      "Quinto\n",
      "[[4 3]\n",
      " [6 5]\n",
      " [2 3]\n",
      " [8 7]\n",
      " [3 4]]\n"
     ]
    }
   ],
   "source": [
    "print (\"Primero\")\n",
    "print (MATRIZ[:,1][::-1])\n",
    "print (\"Segundo\")\n",
    "print (MATRIZ[1:,2])\n",
    "print (\"Tercero\")\n",
    "print (MATRIZ[:2, 1:3])\n",
    "print (\"Cuarto\")\n",
    "print (MATRIZ[1:3, :])\n",
    "print (\"Quinto\")\n",
    "print (MATRIZ[:, 1:3][::-1])"
   ]
  },
  {
   "cell_type": "code",
   "execution_count": null,
   "id": "3f05aefa",
   "metadata": {},
   "outputs": [],
   "source": []
  },
  {
   "cell_type": "code",
   "execution_count": null,
   "id": "5db92388",
   "metadata": {},
   "outputs": [],
   "source": []
  }
 ],
 "metadata": {
  "kernelspec": {
   "display_name": "Python 3",
   "language": "python",
   "name": "python3"
  },
  "language_info": {
   "codemirror_mode": {
    "name": "ipython",
    "version": 3
   },
   "file_extension": ".py",
   "mimetype": "text/x-python",
   "name": "python",
   "nbconvert_exporter": "python",
   "pygments_lexer": "ipython3",
   "version": "3.9.6"
  }
 },
 "nbformat": 4,
 "nbformat_minor": 5
}
