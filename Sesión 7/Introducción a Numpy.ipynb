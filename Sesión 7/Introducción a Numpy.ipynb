{
 "cells": [
  {
   "cell_type": "markdown",
   "id": "7abbf58d",
   "metadata": {},
   "source": [
    "![Geomática](../Recursos/img/geo_logo.jpg)\n",
    "# Introducción a Numpy\n",
    "\n",
    "**Sesión 7:** Numpy, un enfoque práctico."
   ]
  },
  {
   "cell_type": "markdown",
   "id": "522b594b",
   "metadata": {},
   "source": [
    "# ¿Qué es Numpy?\n",
    "NumPy es una libería cuyo propósito principal es dar un excelente soporte de vectores y matrices en Python. Tiene la ventaja de estar específicamente diseñada con dicho motivo, el cual hace que esta librería destaque en rendimiento y facilidad de uso.\n",
    "\n",
    "Numpy, además de ofrecer un excelente soporte matricial en Python, incluye módulos adicionales relacionados con áreas de las matemáticas, brindando herramientas increiblemente útiles, en especial cuando se combinan con otras librerías.\n",
    "\n",
    "## Caracterísiticas de Numpy\n",
    "- Uso de matrices N-dimensionales de forma eficiente y rápida.\n",
    "- Transformadas, pseudoaleatoriedad, álgebra líneal, entre otras funciones matemáticas.\n",
    "- Interoperabilidad.\n",
    "- Eficiencia dada gracias a sus raices programadas en C. Código compilado y optimizado.\n",
    "- Sencillez.\n",
    "- Open Source.\n",
    "\n",
    "# Introducción a Numpy\n",
    "Empecemos por lo básico. La importación y su consenso:"
   ]
  },
  {
   "cell_type": "code",
   "execution_count": 1,
   "id": "63b8f702",
   "metadata": {},
   "outputs": [],
   "source": [
    "# La forma de importar toda la librería de Numpy es similar a como ya conocemos.\n",
    "# La única diferencia es que se tiene un consenso entre los desarrolladores de asignarle el alias \"np\"\n",
    "import numpy as np\n",
    "# Tenga en cuenta que aquí se está importando absolutamente toda la librería de Numpy. Esto significa\n",
    "# que si se requiere algún módulo en específico de esta librería habría que nombrarlo. Esto se verá más adelante."
   ]
  },
  {
   "cell_type": "markdown",
   "id": "0ff03c27",
   "metadata": {},
   "source": [
    "## Arreglos y matrices (arreglos n-dimensionales)\n",
    "\n",
    "### Vectores en las matemáticas\n",
    "Lo primero y más importante de Numpy es comprender el manejo de los arreglos. Para esto debemos entender el concepto de arreglo y su relación con una matriz.\n",
    "\n",
    "En el álgebra líneal se tiene que un vector, en palabras cortas y sencillas, es una tupla de números reales o complejos (generalmente reales) que componen un conjunto, el cual puede tener diversas utilidades. Matemáticamente se representa de la siguiente forma:\n",
    "\n",
    "$$v = (c_{1},c_{2},c_{3}, ..., c_{n})$$\n",
    "\n",
    "En este caso, los n elementos corresponderían a la dimensionalidad del vector. Esto quiere decir que un vector con 3 elementos, algebráicamente representaría 3 dimensiones o componentes en un espacio tridimensional.\n",
    "\n",
    "### Vectores en la computación\n",
    "Es importante conocer el origen abstracto de los vectores en las matemáticas, puesto que en la computación se maneja ligeramente diferente. \n",
    "\n",
    "Lo primero y más importante a tener en cuenta es que, en computación, un vector también es llamado como arreglo (array, en inglés). Estos pueden tener más de un elemento y no necesariamente representar una dimensionalidad mayor, dado que el uso que se les da es generalmente distinto. Esta es la principal diferencia que se tiene respecto a la definición matemática. No obstante, esto __no__ significa que no se puedan trabajar los arreglos como si se tratasen de uno explícitamente matemático.\n",
    "\n",
    "#### Arreglos n-dimensionales\n",
    "En la computación, cuando hablamos de un arreglo n-dimensional estamos hablando de un arreglo principal, que contiene otros n arreglos por dentro, de tal forma que se genere un hipercubo. Matemáticamente, para un arreglo bidimensional se podría ver de la siguiente forma:\n",
    "$$a_{1} = (ca_{1}, ca_{2}, ca_{3}, ..., ca_{n} )$$\n",
    "$$a_{2} = (ca_{1}, ca_{2}, ca_{3}, ..., ca_{n} )$$\n",
    "$$a_{3} = (ca_{1}, ca_{2}, ca_{3}, ..., ca_{n} )$$\n",
    "$$a_{...} = (ca_{1}, ca_{2}, ca_{3}, ..., ca_{n} )$$\n",
    "$$a_{n} = (ca_{1}, ca_{2}, ca_{3}, ..., ca_{n} )$$\n",
    "\n",
    "$$ \n",
    "\\begin{align}\n",
    "v = (a_{1}, \\\\\n",
    "a_{2}, \\\\\n",
    "a_{3}, \\\\\n",
    "a_{...}, \\\\\n",
    "a_{n}) \\\\\n",
    "\\end{align}\n",
    "$$\n",
    "\n",
    "El vector __*v*__ se estaría comportando como el contenedor de las filas, mientras que cada elemento ca_n como una columna.\n",
    "Al final, un arreglo n-dimensional es una matriz.\n",
    "\n",
    "\n",
    "\n",
    "Esto suena complicado, ¿verdad? Con un ejemplo se entiende mucho mejor. Primero veamos cómo se crea un arreglo usando Numpy."
   ]
  },
  {
   "cell_type": "code",
   "execution_count": 2,
   "id": "bda1269b",
   "metadata": {},
   "outputs": [
    {
     "name": "stdout",
     "output_type": "stream",
     "text": [
      "[1 2 3 4 5 6]\n"
     ]
    }
   ],
   "source": [
    "# Para crear un arreglo usando Numpy, creamos un objeto a través del método array()\n",
    "# Este método toma como parámetro una o más listas (también puede tomar otros elementos, pero por ahora usaremos listas)\n",
    "# En este caso estamos usando una sola lista (arreglo), por lo tanto, computacionalmente, \n",
    "# este es un areglo de una sola dimensión.\n",
    "arreglo = np.array([1,2,3,4,5,6])\n",
    "print (arreglo)"
   ]
  },
  {
   "cell_type": "code",
   "execution_count": 3,
   "id": "5036aa8b",
   "metadata": {},
   "outputs": [
    {
     "name": "stdout",
     "output_type": "stream",
     "text": [
      "[[1 2 3]\n",
      " [4 5 6]\n",
      " [7 8 9]]\n"
     ]
    }
   ],
   "source": [
    "# Veamos ahora un arreglo bidimensional 3x3\n",
    "arreglo2d = np.array([ # Nótese que es una lista, con otras listas adentro. Es decir, un arreglo que contiene otros arreglos.\n",
    "    [1,2,3],\n",
    "    [4,5,6],\n",
    "    [7,8,9]\n",
    "])\n",
    "print (arreglo2d)"
   ]
  },
  {
   "cell_type": "markdown",
   "id": "15a43b68",
   "metadata": {},
   "source": [
    "El arreglo bidimensional del ejemplo anterior representaría, matemáticamente, a una matriz como la siguiente:\n",
    "$$\n",
    "\\begin{pmatrix}\n",
    "1 & 2 & 3\\\\\n",
    "4 & 5 & 6\\\\\n",
    "7 & 8 & 9\n",
    "\\end{pmatrix}\n",
    "$$"
   ]
  },
  {
   "cell_type": "code",
   "execution_count": 4,
   "id": "4151d316",
   "metadata": {},
   "outputs": [
    {
     "name": "stdout",
     "output_type": "stream",
     "text": [
      "[[[ 1  2  3]\n",
      "  [ 4  5  6]\n",
      "  [ 7  8  9]]\n",
      "\n",
      " [[10 11 12]\n",
      "  [13 14 15]\n",
      "  [16 17 18]]\n",
      "\n",
      " [[19 20 21]\n",
      "  [22 23 24]\n",
      "  [25 26 27]]]\n"
     ]
    }
   ],
   "source": [
    "# Veamos un arreglo 3d\n",
    "# Este sería un arreglo tridimensional 3x3x3\n",
    "arreglo3d = np.array([ # Primer arreglo que contendrá las filas\n",
    "    [ # El segundo arreglo tiene, a su vez, otros arreglos\n",
    "        [1,2,3],\n",
    "        [4,5,6],\n",
    "        [7,8,9]\n",
    "    ],\n",
    "    [\n",
    "        [10,11,12],\n",
    "        [13,14,15],\n",
    "        [16,17,18]\n",
    "    ],\n",
    "    [\n",
    "        [19,20,21],\n",
    "        [22,23,24],\n",
    "        [25,26,27]\n",
    "    ],    \n",
    "])\n",
    "print (arreglo3d)"
   ]
  },
  {
   "cell_type": "markdown",
   "id": "e17aacf2",
   "metadata": {},
   "source": [
    "Interesante, ¿verdad? Este mismo patrón se seguiría para matrices de dimensiones superiores."
   ]
  },
  {
   "cell_type": "markdown",
   "id": "a59b506d",
   "metadata": {},
   "source": [
    "### Los arreglos en Numpy\n",
    "Ya hemos visto algunos ejemplos de como crear arreglos ndimensionales en Numpy, lo que haremos ahora será indagar un poco en algunos aspectos interesantes y sus funciones.\n",
    "\n",
    "Los arreglos en Numpy suelen ser de un solo tipo de dato, por ejemplo, numeros enteros, reales o complejos. Esto es muy útil cuando uno va a trabajar con tipos de datos similares, no obstante, en la ingeniería de datos, se suele trabajar con arreglos cuyos datos varían entre sí. Esto no es problema para Numpy, pero debemos explorar el siguiente concepto.\n",
    "\n",
    "### Atributo dtype\n",
    "El atributo __dtype__ viene siendo el tipo de datos con la que la matriz está trabajando. Se puede forzar a un tipo de dato particular, no obstante, debemos tener en cuenta que, si vamos a hacer eso, todos los datos presentes dentro de la matriz deben poder ser transformados a dicho tipo de dato, de lo contrario nos saldría un error. Veamos un ejemplo.\n"
   ]
  },
  {
   "cell_type": "code",
   "execution_count": 5,
   "id": "ee6697e1",
   "metadata": {},
   "outputs": [
    {
     "name": "stdout",
     "output_type": "stream",
     "text": [
      "int32\n"
     ]
    }
   ],
   "source": [
    "# Veamos el tipo de dato de la matriz bidimensional\n",
    "# Para hacer eso accedemos al atributo dtype\n",
    "print (arreglo2d.dtype)"
   ]
  },
  {
   "cell_type": "markdown",
   "id": "0fafd059",
   "metadata": {},
   "source": [
    "Vemos que el tipo de dato es int32, esto es equivalente a entero de 32 bits. El tema de los bits no es muy relevante para este curso, no obstante, preste mucha atención a la explicación oral.\n",
    "\n",
    "Numpy por defecto tiene varios tipos de datos incluídos y soportados, [aquí](https://numpy.org/devdocs/reference/arrays.dtypes.html) está la lista completa con los tipos de datos disponibles y documentados.\n",
    "\n",
    "Veamos un ejemplo de cambio de tipo de dato en la matriz bidimensional."
   ]
  },
  {
   "cell_type": "code",
   "execution_count": 6,
   "id": "c8430362",
   "metadata": {},
   "outputs": [
    {
     "name": "stdout",
     "output_type": "stream",
     "text": [
      "[[1.4e-45 2.8e-45 4.2e-45]\n",
      " [5.6e-45 7.0e-45 8.4e-45]\n",
      " [9.8e-45 1.1e-44 1.3e-44]]\n"
     ]
    }
   ],
   "source": [
    "arreglo2d.dtype = np.float32\n",
    "print (arreglo2d) # Veamos cómo cambió el contenido dentro de la matriz.\n",
    "# Nótese que sigue siendo 1,2,3, ..., pero ahora tiene una parte decimal muy, muy pequeña."
   ]
  },
  {
   "cell_type": "markdown",
   "id": "f89b8061",
   "metadata": {},
   "source": [
    "¿Muy bien, pero y qué pasa si yo no quiero una matriz con datos numéricos? En ese caso se usa el tipo de dato **object**. Este puede ser definido como parámetro en el método *array* de Numpy, al momento de crear la matriz.\n",
    "\n",
    "Es importante tener en cuenta que no siempre será posible transformar el tipo de dato de una matriz a otro, por lo tanto, debe tenerse bien definido cuál será desde un principio.\n",
    "\n",
    "Veamos un ejemplo de una matriz con valores __NO__ numéricos."
   ]
  },
  {
   "cell_type": "code",
   "execution_count": 7,
   "id": "79799809",
   "metadata": {},
   "outputs": [
    {
     "name": "stdout",
     "output_type": "stream",
     "text": [
      "[['hola' 'no' 'tengo' 'números']\n",
      " ['soy' 'buenísimo' 'en' 'esto']]\n",
      "object\n"
     ]
    }
   ],
   "source": [
    "matriz2d = np.array([\n",
    "    [\"hola\",\"no\", \"tengo\", \"números\"],\n",
    "    [\"soy\", \"buenísimo\", \"en\", \"esto\"]\n",
    "], dtype=\"O\") # Se está usando notación por cadena, sería equivalente decir dtype=object\n",
    "print (matriz2d)\n",
    "print (matriz2d.dtype)"
   ]
  },
  {
   "cell_type": "code",
   "execution_count": 8,
   "id": "0400e7ed",
   "metadata": {},
   "outputs": [
    {
     "name": "stdout",
     "output_type": "stream",
     "text": [
      "[list(['a', 'b', 'c']) list(['d', 'e', 'f']) list(['g'])]\n",
      "object\n"
     ]
    }
   ],
   "source": [
    "# Que podamos hacer matrices con objetos no significa que siempre vaya a funcionar. Para que efectivamente sea un array\n",
    "# n-dimencional lo que se genere, es necesario que se cumplan el mismo número de columnas en todas las filas.\n",
    "# Veamos que pasa si no hacemos caso.\n",
    "matrizMala = np.array([\n",
    "    [\"a\",\"b\",\"c\"],\n",
    "    [\"d\",\"e\",\"f\"],\n",
    "    [\"g\"]\n",
    "], dtype=object)\n",
    "print (matrizMala) # Nótese que el resultado fue un simple array de una dimensión, cuyos elementos son listas.\n",
    "print (matrizMala.dtype)"
   ]
  },
  {
   "cell_type": "markdown",
   "id": "6d698996",
   "metadata": {},
   "source": [
    "### El atributo shape\n",
    "Este es quizá de los atributos informativos más útiles. Este nos devuelve una tupla indicando la dimensionalidad de nuestro array. Por ejemplo, para una matriz bidimensional, devolvería una tupla con dos elementos: filas, columnas. Veamoslo en acción."
   ]
  },
  {
   "cell_type": "code",
   "execution_count": 9,
   "id": "099e8a13",
   "metadata": {},
   "outputs": [
    {
     "name": "stdout",
     "output_type": "stream",
     "text": [
      "[[1.4e-45 2.8e-45 4.2e-45]\n",
      " [5.6e-45 7.0e-45 8.4e-45]\n",
      " [9.8e-45 1.1e-44 1.3e-44]]\n",
      "Shape: (3, 3)\n",
      "Solo las filas:  3\n"
     ]
    }
   ],
   "source": [
    "# ¿Recuerdan nuestra primera matriz bidimensional?\n",
    "print (arreglo2d)\n",
    "print (\"Shape:\", arreglo2d.shape) # Al ser una tupla, podemos tomar elementos de ahí\n",
    "print (\"Solo las filas: \", arreglo2d.shape[0])"
   ]
  },
  {
   "cell_type": "code",
   "execution_count": 10,
   "id": "aae0503a",
   "metadata": {},
   "outputs": [
    {
     "name": "stdout",
     "output_type": "stream",
     "text": [
      "[[[ 1  2  3]\n",
      "  [ 4  5  6]\n",
      "  [ 7  8  9]]\n",
      "\n",
      " [[10 11 12]\n",
      "  [13 14 15]\n",
      "  [16 17 18]]\n",
      "\n",
      " [[19 20 21]\n",
      "  [22 23 24]\n",
      "  [25 26 27]]]\n",
      "(3, 3, 3)\n"
     ]
    }
   ],
   "source": [
    "# Probémoslo en la matriz 3x3x3\n",
    "# En este caso la tupla sería (filas, columnas, profundidad)\n",
    "print (arreglo3d)\n",
    "print (arreglo3d.shape)"
   ]
  },
  {
   "cell_type": "markdown",
   "id": "caeb266e",
   "metadata": {},
   "source": [
    "### Accediendo y manipulando las matrices\n",
    "Hasta este punto ya sabemos hacer matrices, conocer su dimensionalidad y tipo de dato. ¿Pero... Cómo las usamos...?\n",
    "\n",
    "Acceder a los datos de una matriz es muy fácil, se hace de forma similar a como se accederían a elementos de una lista: a través del índice, la única diferencia es cuando hay más de una dimensión, en dado caso se hace como cuando se trabajan matrices en álgebra líneal. Veamos un ejemplo."
   ]
  },
  {
   "cell_type": "code",
   "execution_count": 11,
   "id": "8ba41717",
   "metadata": {},
   "outputs": [
    {
     "name": "stdout",
     "output_type": "stream",
     "text": [
      "Arreglo completo: [1 2 3 4 5 6]\n",
      "2\n"
     ]
    }
   ],
   "source": [
    "# Vamos a acceder al segundo valor del arreglo unidimensional\n",
    "print (\"Arreglo completo:\", arreglo)\n",
    "print (arreglo[1]) #Se hace similar a como si de una lista se tratase"
   ]
  },
  {
   "cell_type": "code",
   "execution_count": 12,
   "id": "1da27406",
   "metadata": {},
   "outputs": [
    {
     "name": "stdout",
     "output_type": "stream",
     "text": [
      "[[1.4e-45 2.8e-45 4.2e-45]\n",
      " [5.6e-45 7.0e-45 8.4e-45]\n",
      " [9.8e-45 1.1e-44 1.3e-44]]\n",
      "1.1e-44\n"
     ]
    }
   ],
   "source": [
    "# Ahora veamos para el arreglo bidimensional, accedamos al segundo elemento de la tercera fila\n",
    "# Recordemos que, para hacer esto matemáticamente, consideramos una tupla (i,j) donde i sea la fila y j la columna\n",
    "# aquí es igua, pero recordemos que nuestros indices empiezan desde cero.\n",
    "print (arreglo2d)\n",
    "print (arreglo2d[2,1])"
   ]
  },
  {
   "cell_type": "code",
   "execution_count": 13,
   "id": "a28e1dc9",
   "metadata": {},
   "outputs": [
    {
     "name": "stdout",
     "output_type": "stream",
     "text": [
      "[[[ 1  2  3]\n",
      "  [ 4  5  6]\n",
      "  [ 7  8  9]]\n",
      "\n",
      " [[10 11 12]\n",
      "  [13 14 15]\n",
      "  [16 17 18]]\n",
      "\n",
      " [[19 20 21]\n",
      "  [22 23 24]\n",
      "  [25 26 27]]]\n",
      "14\n"
     ]
    }
   ],
   "source": [
    "# ¿Y para una matriz tridimensional? Es lo mismo. Veamos el elemento de la segunda fila,\n",
    "# segunda columna, en segunda profundidad\n",
    "print (arreglo3d)\n",
    "print (arreglo3d[1,1,1])"
   ]
  },
  {
   "cell_type": "markdown",
   "id": "13c92f32",
   "metadata": {},
   "source": [
    "### Slicing en matrices de Numpy\n",
    "El slicing que se le puede aplicar a los conjuntos de Python también se le puede aplicar a las matrices en Numpy de forma sencilla. Es más, es de la misma forma que ya conocemos. Veamos un ejemplo con una matriz nueva, bidimensional, y más grande."
   ]
  },
  {
   "cell_type": "code",
   "execution_count": 14,
   "id": "11cfd992",
   "metadata": {},
   "outputs": [],
   "source": [
    "# Nuestra nueva matriz de pruebas, una bidimensional de 5x5\n",
    "MATRIZ = np.array([\n",
    "    [4,3,4,3,4],\n",
    "    [9,8,7,6,5],\n",
    "    [1,2,3,4,5],\n",
    "    [7,6,5,6,7],\n",
    "    [5,4,3,2,1]\n",
    "])"
   ]
  },
  {
   "cell_type": "code",
   "execution_count": 15,
   "id": "e7bfc634",
   "metadata": {},
   "outputs": [
    {
     "name": "stdout",
     "output_type": "stream",
     "text": [
      "[4 3 4 3 4]\n"
     ]
    }
   ],
   "source": [
    "# Vamos a tomar toda la primera fila\n",
    "print (MATRIZ[0])"
   ]
  },
  {
   "cell_type": "code",
   "execution_count": 16,
   "id": "07d120e0",
   "metadata": {},
   "outputs": [
    {
     "name": "stdout",
     "output_type": "stream",
     "text": [
      "[3 4 3 4]\n"
     ]
    }
   ],
   "source": [
    "# Ahora, de la primera fila, todas las columnas partiendo de la segunda\n",
    "print (MATRIZ[0,1:]) # Recuerden la notación del slicing"
   ]
  },
  {
   "cell_type": "code",
   "execution_count": 17,
   "id": "343975e5",
   "metadata": {},
   "outputs": [
    {
     "name": "stdout",
     "output_type": "stream",
     "text": [
      "[1 2 3 4 5]\n"
     ]
    }
   ],
   "source": [
    "# Ahora, de la última fila, todas las columnas, en reversa\n",
    "print (MATRIZ[-1, ::-1])"
   ]
  },
  {
   "cell_type": "code",
   "execution_count": 18,
   "id": "c0cb2b3b",
   "metadata": {},
   "outputs": [
    {
     "name": "stdout",
     "output_type": "stream",
     "text": [
      "[4 9 1 7 5]\n"
     ]
    }
   ],
   "source": [
    "# Dejemos de trabajar solo con filas, ahora trabajemos con las columnas.\n",
    "# Saquemos toda la primera columna, de todas las filas\n",
    "print (MATRIZ[:,0])"
   ]
  },
  {
   "cell_type": "markdown",
   "id": "234a8c99",
   "metadata": {},
   "source": [
    "No nos dejemos engañar por la forma en la que Numpy lo retorna, nótese que el conjunto (4,9,1,7,5) es, efectivamente, todos los elementos de la primera columna."
   ]
  },
  {
   "cell_type": "code",
   "execution_count": 19,
   "id": "2bc69fd9",
   "metadata": {},
   "outputs": [
    {
     "name": "stdout",
     "output_type": "stream",
     "text": [
      "Al derecho [3 8 2 6 4]\n",
      "Al revés [4 6 2 8 3]\n"
     ]
    }
   ],
   "source": [
    "# Todo lo anterior funciona porque lo que retorna el slicing es un subconjunto, una submatriz\n",
    "# que, a su vez, se le puede hacer slicing. Esto es particularmente útil cuando la notación se pone complicada.\n",
    "# Veamos el siguiente ejemplo:\n",
    "sub = MATRIZ[:,1] # Vamos a sacar toda la segunda columna de todas las filas\n",
    "print (\"Al derecho\",sub)\n",
    "# Ahora haremos que la muestre al revés\n",
    "print (\"Al revés\", sub[::-1])"
   ]
  },
  {
   "attachments": {
    "image.png": {
     "image/png": "[encoded data removed]"
    }
   },
   "cell_type": "markdown",
   "id": "ab9c2f75",
   "metadata": {},
   "source": [
    "#### Ejercicio: Slicing a matrices (15 mins)\n",
    "Obtenga los siguientes subconjuntos a partir de la matriz anterior:\n",
    "- 1. Toda la segunda columna, en reversa.\n",
    "- 2. La tercera columna, de la segunda fila en adelante.\n",
    "- 3. De las primeras dos filas, solo la segunda y tercera columna.\n",
    "- 4. Todos los elementos de solo la segunda y tercera fila.\n",
    "- 5. Todos los elementos de solo la segunda y tercera columna, en reversa.\n",
    "\n",
    "__Nota__: Tenga en cuenta cómo funcionan los límites de los slicing. Las respuestas deberían verse similar a esto:\n",
    "![image.png](attachment:image.png)"
   ]
  },
  {
   "cell_type": "code",
   "execution_count": 20,
   "id": "da8fb179",
   "metadata": {},
   "outputs": [
    {
     "name": "stdout",
     "output_type": "stream",
     "text": [
      "[[4 3 4 3 4]\n",
      " [9 8 7 6 5]\n",
      " [1 2 3 4 5]\n",
      " [7 6 5 6 7]\n",
      " [5 4 3 2 1]]\n"
     ]
    }
   ],
   "source": [
    "print (MATRIZ)"
   ]
  },
  {
   "cell_type": "code",
   "execution_count": 21,
   "id": "f0c97854",
   "metadata": {},
   "outputs": [],
   "source": [
    "# Tu código aquí"
   ]
  },
  {
   "cell_type": "markdown",
   "id": "ca38d426",
   "metadata": {},
   "source": [
    "Ya hemos visto cómo ver/tomar datos de un array, veamos cómo cambiarlos"
   ]
  },
  {
   "cell_type": "code",
   "execution_count": 23,
   "id": "7cce69a0",
   "metadata": {},
   "outputs": [],
   "source": [
    "# Un arreglo nuevo\n",
    "arreglo = np.array([1,2,3])"
   ]
  },
  {
   "cell_type": "code",
   "execution_count": 24,
   "id": "f14d0d5f",
   "metadata": {},
   "outputs": [
    {
     "name": "stdout",
     "output_type": "stream",
     "text": [
      "[8 2 3]\n"
     ]
    }
   ],
   "source": [
    "# Este es un arreglo unidimensional, uno simple. La forma de cambiar un dato de él es muy sencilla, se hace\n",
    "# similar a como si de una lista se tratase.\n",
    "arreglo[0] = 8\n",
    "print (arreglo)"
   ]
  },
  {
   "cell_type": "code",
   "execution_count": 30,
   "id": "0d513ed3",
   "metadata": {},
   "outputs": [
    {
     "name": "stdout",
     "output_type": "stream",
     "text": [
      "[[1 2 3]\n",
      " [4 0 6]\n",
      " [7 8 9]]\n"
     ]
    }
   ],
   "source": [
    "# Probemos ahora con un arreglo bidimensional\n",
    "arreglo = np.array([\n",
    "    [1,2,3],\n",
    "    [4,5,6],\n",
    "    [7,8,9]\n",
    "])\n",
    "# Cambiaremos el valor ubicado en la segunda fila, segunda columna\n",
    "arreglo[1,1] = 0\n",
    "print (arreglo)"
   ]
  },
  {
   "cell_type": "markdown",
   "id": "c80e389e",
   "metadata": {},
   "source": [
    "### Duplicación de los arreglos\n",
    "Este subtema no va tan de la mano con Numpy, de hecho es un tema de programación orientada a objetos, pero en estos momentos se puede entender de forma visual y práctica.\n",
    "\n",
    "¿Por qué es importante, cuando queremos hacer una copia a un objeto, usar el método designado para ello? Bueno, veamos la siguiente situación:"
   ]
  },
  {
   "cell_type": "code",
   "execution_count": 32,
   "id": "d7f1c76a",
   "metadata": {},
   "outputs": [
    {
     "name": "stdout",
     "output_type": "stream",
     "text": [
      "[[1 2 3]\n",
      " [4 0 6]\n",
      " [7 8 9]]\n",
      "[[1 2 3]\n",
      " [4 0 6]\n",
      " [7 8 9]]\n"
     ]
    }
   ],
   "source": [
    "# Queremos hacer una copia del arreglo del ejemplo anterior porque haremos modificaciones sin querer alterar al original\n",
    "# Lo más intuitivo es hacer lo siguiente:\n",
    "arreglo2 = arreglo\n",
    "print (arreglo)\n",
    "print (arreglo2) # Confirmamos que son exactamente el mismo arreglo, todo en orden... por ahora..."
   ]
  },
  {
   "cell_type": "code",
   "execution_count": 33,
   "id": "b3708d56",
   "metadata": {},
   "outputs": [
    {
     "name": "stdout",
     "output_type": "stream",
     "text": [
      "[[   1   -1    3]\n",
      " [   4    0    6]\n",
      " [   7    8 1000]]\n"
     ]
    }
   ],
   "source": [
    "# Bien, nosotros inocentemente pensamos que tenemos en la variable \"arreglo2\" una copia exacta del original\n",
    "# por lo que procedemos a hacer los cambios necesarios, con la confianza de tener una copia de seguridad en otra variable...\n",
    "arreglo2[0,1] = -1\n",
    "arreglo2[-1,-1] = 1000\n",
    "print (arreglo2)"
   ]
  },
  {
   "cell_type": "code",
   "execution_count": 34,
   "id": "9791e55c",
   "metadata": {},
   "outputs": [
    {
     "name": "stdout",
     "output_type": "stream",
     "text": [
      "[[   1   -1    3]\n",
      " [   4    0    6]\n",
      " [   7    8 1000]]\n"
     ]
    }
   ],
   "source": [
    "# Pero más adelante nos dimos cuenta que cometimos un grave error y necesitamos recurrir a la matriz original, \n",
    "# la que está almacenada en la variable \"arreglo\"...\n",
    "print (arreglo) # Ay... \n",
    "# Si yo fuese su jefe, lo despido."
   ]
  },
  {
   "attachments": {
    "image-2.png": {
     "image/png": "[encoded data removed]"
    },
    "image.png": {
     "image/png": "[encoded data removed]"
    }
   },
   "cell_type": "markdown",
   "id": "fa2e131a",
   "metadata": {},
   "source": [
    "¿Por qué pasa esto? Porque cuando se están trabajando con objetos, las variables actúan como una referencia hacia ellos. Estos objetos están almacenados en la memoria RAM del computador y las variables lo que hacen es llevarnos hacia ellos. Véamos la siguiente imagen:\n",
    "![image.png](attachment:image.png)\n",
    "Por esto es que existen los métodos de duplicación, estos nos devuelven una copia exacta del objeto, de tal forma que sea otro diferente, pero con los mismos atributos.\n",
    "![image-2.png](attachment:image-2.png)\n",
    "\n",
    "__Nota:__ No todos los objetos tendrán un método para copiarse, además, estos pueden variar entre lenguajes de programación en términos de funcionamiento, uso, nombre, etc."
   ]
  },
  {
   "cell_type": "markdown",
   "id": "722e1827",
   "metadata": {},
   "source": [
    "### Slicing y modificación de arreglos, al mismo tiempo\n",
    "El slicing no solo es útil para ver datos o tomar subconjuntos, también lo es para modificar trozos rápidamente. Veamos algunos ejemplos de su uso."
   ]
  },
  {
   "cell_type": "code",
   "execution_count": 35,
   "id": "d988f3c1",
   "metadata": {},
   "outputs": [],
   "source": [
    "# Crearemos nuevamente el arreglo, este será nuestro arreglo original con el cual compararemos.\n",
    "arreglo = np.array([\n",
    "    [1,2,3],\n",
    "    [4,5,6],\n",
    "    [7,8,9]\n",
    "])\n",
    "arreglo2 = arreglo.copy() # Vamos a copiar el arreglo anterior. Ya sabemos por qué."
   ]
  },
  {
   "cell_type": "code",
   "execution_count": 38,
   "id": "7361f6fc",
   "metadata": {},
   "outputs": [
    {
     "name": "stdout",
     "output_type": "stream",
     "text": [
      "[[0 0 0]\n",
      " [4 5 6]\n",
      " [7 8 9]]\n"
     ]
    }
   ],
   "source": [
    "# Vamos a modificar toda la primera fila, de tal forma que ahora solo sean ceros.\n",
    "arreglo2[0, :] = 0 # También funciona simplemente poniendo arreglo2[0] porque este es un arreglo bidimiensional, es lo mismo.\n",
    "print (arreglo2)"
   ]
  },
  {
   "cell_type": "code",
   "execution_count": 39,
   "id": "7cf5ae91",
   "metadata": {},
   "outputs": [
    {
     "name": "stdout",
     "output_type": "stream",
     "text": [
      "[[0 0 0]\n",
      " [4 5 6]\n",
      " [4 5 6]]\n"
     ]
    }
   ],
   "source": [
    "# Vamos a cambiar la última fila de tal forma que sea igual a la penúltima.\n",
    "arreglo2[-1] = arreglo2[-2]\n",
    "print (arreglo2)"
   ]
  },
  {
   "cell_type": "code",
   "execution_count": 40,
   "id": "f37d337f",
   "metadata": {},
   "outputs": [
    {
     "name": "stdout",
     "output_type": "stream",
     "text": [
      "[[0 1 0]\n",
      " [4 1 6]\n",
      " [4 5 6]]\n"
     ]
    }
   ],
   "source": [
    "# Vamos a cambiar solo los 2 primeros elementos de la segunda columna por unos.\n",
    "arreglo2[:2, 1] = 1\n",
    "print (arreglo2)"
   ]
  },
  {
   "cell_type": "code",
   "execution_count": 41,
   "id": "c1fdcce3",
   "metadata": {},
   "outputs": [
    {
     "name": "stdout",
     "output_type": "stream",
     "text": [
      "[[0 1 0]\n",
      " [4 1 6]\n",
      " [1 2 3]]\n"
     ]
    }
   ],
   "source": [
    "# Vamos a cambiar toma la última fila por una nueva fila definida por nosotros.\n",
    "arreglo2[-1] = [1,2,3]\n",
    "print (arreglo2)"
   ]
  },
  {
   "cell_type": "code",
   "execution_count": 42,
   "id": "6027bf34",
   "metadata": {},
   "outputs": [
    {
     "name": "stdout",
     "output_type": "stream",
     "text": [
      "[[1 2 3]\n",
      " [4 5 6]\n",
      " [7 8 9]]\n",
      "[[0 1 0]\n",
      " [4 1 6]\n",
      " [1 2 3]]\n"
     ]
    }
   ],
   "source": [
    "# Veámos como se veía la original y la actual.\n",
    "print (arreglo)\n",
    "print (arreglo2)"
   ]
  },
  {
   "cell_type": "markdown",
   "id": "04f98da4",
   "metadata": {},
   "source": [
    "### Álgebra lineal\n",
    "Ya sabemos crear y manipular matrices, ahora hagamos operaciones con ellas y estudiemos algunas propiedades. Veremos:\n",
    "- Suma\n",
    "- Resta\n",
    "- Multiplicación (Por escalar, por una matriz y producto cruz)\n",
    "- División\n",
    "- Potenciación\n",
    "- Matriz identidad\n",
    "- Transpuesta\n",
    "- Matriz inversa"
   ]
  },
  {
   "cell_type": "code",
   "execution_count": 47,
   "id": "f21a41ac",
   "metadata": {},
   "outputs": [
    {
     "name": "stdout",
     "output_type": "stream",
     "text": [
      "[[ 1  3  3]\n",
      " [ 8  6 12]\n",
      " [ 8 10 12]]\n",
      "[[ 1  3  3]\n",
      " [ 8  6 12]\n",
      " [ 8 10 12]]\n"
     ]
    }
   ],
   "source": [
    "# Para sumar una matriz con otra, podemos hacer el uso del método indicado o aprovechar los métodos mágicos de Python.\n",
    "# Esto mismo aplicará para las demás operaciones aritméticas.\n",
    "print (arreglo + arreglo2)\n",
    "print (np.add(arreglo, arreglo2))"
   ]
  },
  {
   "cell_type": "code",
   "execution_count": 50,
   "id": "f732b34d",
   "metadata": {},
   "outputs": [
    {
     "name": "stdout",
     "output_type": "stream",
     "text": [
      "[[1 1 3]\n",
      " [0 4 0]\n",
      " [6 6 6]]\n",
      "[[1 1 3]\n",
      " [0 4 0]\n",
      " [6 6 6]]\n"
     ]
    }
   ],
   "source": [
    "# Resta\n",
    "print (arreglo - arreglo2)\n",
    "print (np.subtract(arreglo, arreglo2))"
   ]
  },
  {
   "cell_type": "code",
   "execution_count": 55,
   "id": "55700545",
   "metadata": {},
   "outputs": [
    {
     "name": "stdout",
     "output_type": "stream",
     "text": [
      "[[ 2  4  6]\n",
      " [ 8 10 12]\n",
      " [14 16 18]]\n",
      "[[ 2  4  6]\n",
      " [ 8 10 12]\n",
      " [14 16 18]]\n"
     ]
    }
   ],
   "source": [
    "# Multiplicación con un escalar\n",
    "print (arreglo * 2)\n",
    "print (np.multiply(arreglo, 2))"
   ]
  },
  {
   "cell_type": "code",
   "execution_count": 56,
   "id": "57c4e188",
   "metadata": {},
   "outputs": [
    {
     "name": "stdout",
     "output_type": "stream",
     "text": [
      "[[ 0  2  0]\n",
      " [16  5 36]\n",
      " [ 7 16 27]]\n",
      "[[ 0  2  0]\n",
      " [16  5 36]\n",
      " [ 7 16 27]]\n"
     ]
    }
   ],
   "source": [
    "# Multiplicación por una matriz\n",
    "print (arreglo * arreglo2)\n",
    "print (np.multiply(arreglo, arreglo2))"
   ]
  },
  {
   "cell_type": "code",
   "execution_count": 57,
   "id": "11f4004b",
   "metadata": {},
   "outputs": [
    {
     "name": "stdout",
     "output_type": "stream",
     "text": [
      "[[ -3   0   1]\n",
      " [ 24   0 -16]\n",
      " [  6 -12   6]]\n"
     ]
    }
   ],
   "source": [
    "# Multiplicación vectorial (producto cruz)\n",
    "# El producto cruz no tiene método mágico, lamentablente\n",
    "print (np.cross(arreglo, arreglo2))"
   ]
  },
  {
   "cell_type": "code",
   "execution_count": 63,
   "id": "761a5693",
   "metadata": {},
   "outputs": [
    {
     "name": "stdout",
     "output_type": "stream",
     "text": [
      "[[1.         1.         3.        ]\n",
      " [0.8        2.5        0.85714286]\n",
      " [3.5        2.66666667 2.25      ]]\n",
      "[[1.         1.         3.        ]\n",
      " [0.8        2.5        0.85714286]\n",
      " [3.5        2.66666667 2.25      ]]\n"
     ]
    }
   ],
   "source": [
    "# División\n",
    "# Le sumaremos el escalar 1 a la matriz del denominador para asegurarnos no dividir entre cero puesto que ningún valor de\n",
    "# arreglo2 es negativo. Esto es con fines demostrativos.\n",
    "print (arreglo / (arreglo2+1)) \n",
    "print (np.divide(arreglo, arreglo2+1))"
   ]
  },
  {
   "cell_type": "code",
   "execution_count": 64,
   "id": "d66e67e3",
   "metadata": {},
   "outputs": [
    {
     "name": "stdout",
     "output_type": "stream",
     "text": [
      "[[ 1  4  9]\n",
      " [16 25 36]\n",
      " [49 64 81]]\n",
      "[[ 1  4  9]\n",
      " [16 25 36]\n",
      " [49 64 81]]\n"
     ]
    }
   ],
   "source": [
    "# Potenciación\n",
    "print (arreglo**2)\n",
    "print (np.power(arreglo, 2))"
   ]
  },
  {
   "cell_type": "code",
   "execution_count": 66,
   "id": "cfc9644c",
   "metadata": {},
   "outputs": [
    {
     "name": "stdout",
     "output_type": "stream",
     "text": [
      "[[    1     2     1]\n",
      " [  256     5 46656]\n",
      " [    7    64   729]]\n",
      "[[    1     2     1]\n",
      " [  256     5 46656]\n",
      " [    7    64   729]]\n"
     ]
    }
   ],
   "source": [
    "# Potenciación más hardcore\n",
    "print (arreglo ** arreglo2)\n",
    "print (np.power(arreglo, arreglo2))"
   ]
  },
  {
   "cell_type": "code",
   "execution_count": 70,
   "id": "7aa38154",
   "metadata": {},
   "outputs": [
    {
     "name": "stdout",
     "output_type": "stream",
     "text": [
      "[[1. 0. 0.]\n",
      " [0. 1. 0.]\n",
      " [0. 0. 1.]]\n"
     ]
    }
   ],
   "source": [
    "# Para una matriz identidad se usa el método \"eye\", este toma como parámetro el tamaño de la matriz.\n",
    "print (np.eye(3)) "
   ]
  },
  {
   "cell_type": "code",
   "execution_count": 72,
   "id": "bbc58957",
   "metadata": {},
   "outputs": [
    {
     "name": "stdout",
     "output_type": "stream",
     "text": [
      "[[1 4 7]\n",
      " [2 5 8]\n",
      " [3 6 9]]\n"
     ]
    }
   ],
   "source": [
    "# Transpuesta\n",
    "print (arreglo.T)"
   ]
  },
  {
   "cell_type": "code",
   "execution_count": 77,
   "id": "3d1fa16a",
   "metadata": {},
   "outputs": [
    {
     "name": "stdout",
     "output_type": "stream",
     "text": [
      "[[-1.   0.   1. ]\n",
      " [ 2.   1.  -2. ]\n",
      " [ 3.5  1.  -3. ]]\n"
     ]
    }
   ],
   "source": [
    "# Matriz inversa (si es posible, de lo contrario retornará valores errados)\n",
    "test = np.array([\n",
    "    [2, -2, 2],\n",
    "    [2, 1, 0],\n",
    "    [3, -2, 2]\n",
    "])\n",
    "print (np.linalg.inv(test))"
   ]
  },
  {
   "cell_type": "markdown",
   "id": "eccb1f24",
   "metadata": {},
   "source": [
    "### Generadores de matrices\n",
    "Ya conocemos todo lo básico relacionado a matrices. Ahora veremos formas sencillas de generar matrices rápidamente."
   ]
  },
  {
   "cell_type": "code",
   "execution_count": 80,
   "id": "a75f6e5d",
   "metadata": {},
   "outputs": [
    {
     "name": "stdout",
     "output_type": "stream",
     "text": [
      "[[0. 0.]\n",
      " [0. 0.]]\n",
      "---\n",
      "[[[0. 0.]\n",
      "  [0. 0.]]\n",
      "\n",
      " [[0. 0.]\n",
      "  [0. 0.]]]\n"
     ]
    }
   ],
   "source": [
    "# Una matriz llena de ceros. Tenemos que enviar como parámetro una tupla con la dimensión del arreglo que queremos:\n",
    "ceros2d = np.zeros((2,2)) # 2x2\n",
    "ceros3d = np.zeros((2,2,2)) #2x2x2\n",
    "print (ceros2d)\n",
    "print (\"---\")\n",
    "print (ceros3d)"
   ]
  },
  {
   "cell_type": "code",
   "execution_count": 81,
   "id": "818773c2",
   "metadata": {},
   "outputs": [
    {
     "name": "stdout",
     "output_type": "stream",
     "text": [
      "[[1. 1. 1.]\n",
      " [1. 1. 1.]\n",
      " [1. 1. 1.]]\n"
     ]
    }
   ],
   "source": [
    "# Una matriz llena de unos. Los parámetros son similares al método anterior\n",
    "print (np.ones((3,3)))"
   ]
  },
  {
   "cell_type": "code",
   "execution_count": 82,
   "id": "9cd4a52a",
   "metadata": {},
   "outputs": [
    {
     "name": "stdout",
     "output_type": "stream",
     "text": [
      "[[7 7 7]\n",
      " [7 7 7]\n",
      " [7 7 7]]\n"
     ]
    }
   ],
   "source": [
    "# Una matriz con un número constante (Lo mismo que una de unos multiplicada por un escalar)\n",
    "# Toma como parámetro una tupla con su dimensionalidad y el escalar, respectivamente.\n",
    "print (np.full((3,3), 7))"
   ]
  },
  {
   "cell_type": "code",
   "execution_count": 84,
   "id": "eb18e3c0",
   "metadata": {},
   "outputs": [
    {
     "name": "stdout",
     "output_type": "stream",
     "text": [
      "[0 1 2 3 4 5 6 7 8 9]\n",
      "[ 1  2  3  4  5  6  7  8  9 10 11 12 13 14 15 16 17 18 19]\n",
      "[ 0  2  4  6  8 10 12 14 16 18]\n"
     ]
    }
   ],
   "source": [
    "# Un vector inicializado con un rango\n",
    "print (np.arange(10)) # Rango de 10 elementos\n",
    "print (np.arange(1,20))\n",
    "print (np.arange(0,20,2)) #Rango con incremento"
   ]
  },
  {
   "cell_type": "code",
   "execution_count": 85,
   "id": "02cce027",
   "metadata": {},
   "outputs": [
    {
     "name": "stdout",
     "output_type": "stream",
     "text": [
      "[ 0.          0.1010101   0.2020202   0.3030303   0.4040404   0.50505051\n",
      "  0.60606061  0.70707071  0.80808081  0.90909091  1.01010101  1.11111111\n",
      "  1.21212121  1.31313131  1.41414141  1.51515152  1.61616162  1.71717172\n",
      "  1.81818182  1.91919192  2.02020202  2.12121212  2.22222222  2.32323232\n",
      "  2.42424242  2.52525253  2.62626263  2.72727273  2.82828283  2.92929293\n",
      "  3.03030303  3.13131313  3.23232323  3.33333333  3.43434343  3.53535354\n",
      "  3.63636364  3.73737374  3.83838384  3.93939394  4.04040404  4.14141414\n",
      "  4.24242424  4.34343434  4.44444444  4.54545455  4.64646465  4.74747475\n",
      "  4.84848485  4.94949495  5.05050505  5.15151515  5.25252525  5.35353535\n",
      "  5.45454545  5.55555556  5.65656566  5.75757576  5.85858586  5.95959596\n",
      "  6.06060606  6.16161616  6.26262626  6.36363636  6.46464646  6.56565657\n",
      "  6.66666667  6.76767677  6.86868687  6.96969697  7.07070707  7.17171717\n",
      "  7.27272727  7.37373737  7.47474747  7.57575758  7.67676768  7.77777778\n",
      "  7.87878788  7.97979798  8.08080808  8.18181818  8.28282828  8.38383838\n",
      "  8.48484848  8.58585859  8.68686869  8.78787879  8.88888889  8.98989899\n",
      "  9.09090909  9.19191919  9.29292929  9.39393939  9.49494949  9.5959596\n",
      "  9.6969697   9.7979798   9.8989899  10.        ]\n"
     ]
    }
   ],
   "source": [
    "# Un vector con un rango dentro de un espacio lineal\n",
    "# Esto devuelve un vector que empiece en el primer parámetro,\n",
    "# termine en el último, con el N número de pasos del tercer parámetro.\n",
    "print (np.linspace(0,10, 100))"
   ]
  }
 ],
 "metadata": {
  "kernelspec": {
   "display_name": "Python 3",
   "language": "python",
   "name": "python3"
  },
  "language_info": {
   "codemirror_mode": {
    "name": "ipython",
    "version": 3
   },
   "file_extension": ".py",
   "mimetype": "text/x-python",
   "name": "python",
   "nbconvert_exporter": "python",
   "pygments_lexer": "ipython3",
   "version": "3.9.6"
  }
 },
 "nbformat": 4,
 "nbformat_minor": 5
}
