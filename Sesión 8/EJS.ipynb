{
 "cells": [
  {
   "cell_type": "code",
   "execution_count": 1,
   "id": "30834834",
   "metadata": {},
   "outputs": [],
   "source": [
    "import pandas as pd"
   ]
  },
  {
   "cell_type": "code",
   "execution_count": 47,
   "id": "868ff324",
   "metadata": {},
   "outputs": [],
   "source": [
    "df = pd.DataFrame({\n",
    "    'Fruta': pd.Series(['Fresa', 'Pera', 'Uva']),\n",
    "    'Baya': pd.Series([True,False,True]),\n",
    "    'Calorías medias': pd.Series([6, 101, 3]),    \n",
    "    'Cantidad': pd.Series([100,23,400])\n",
    "})"
   ]
  },
  {
   "cell_type": "code",
   "execution_count": 55,
   "id": "d6fc82a2",
   "metadata": {},
   "outputs": [],
   "source": [
    "df[\"Total calorías\"] = pd.Series([0 for i in range(len(df))])"
   ]
  },
  {
   "cell_type": "code",
   "execution_count": 57,
   "id": "ce058dd3",
   "metadata": {},
   "outputs": [],
   "source": [
    "df.iloc[:,-2] //= 3.5"
   ]
  },
  {
   "cell_type": "code",
   "execution_count": 60,
   "id": "f40cebfa",
   "metadata": {},
   "outputs": [],
   "source": [
    "lista = []\n",
    "for i in range(len(df)):\n",
    "    lista.append(df.iloc[i, 2] * df.iloc[i,3])\n",
    "df[\"Total calorías\"] = pd.Series(lista)"
   ]
  },
  {
   "cell_type": "code",
   "execution_count": 61,
   "id": "f97e89c6",
   "metadata": {},
   "outputs": [
    {
     "data": {
      "text/html": [
       "<div>\n",
       "<style scoped>\n",
       "    .dataframe tbody tr th:only-of-type {\n",
       "        vertical-align: middle;\n",
       "    }\n",
       "\n",
       "    .dataframe tbody tr th {\n",
       "        vertical-align: top;\n",
       "    }\n",
       "\n",
       "    .dataframe thead th {\n",
       "        text-align: right;\n",
       "    }\n",
       "</style>\n",
       "<table border=\"1\" class=\"dataframe\">\n",
       "  <thead>\n",
       "    <tr style=\"text-align: right;\">\n",
       "      <th></th>\n",
       "      <th>Fruta</th>\n",
       "      <th>Baya</th>\n",
       "      <th>Calorías medias</th>\n",
       "      <th>Cantidad</th>\n",
       "      <th>Total calorías</th>\n",
       "    </tr>\n",
       "  </thead>\n",
       "  <tbody>\n",
       "    <tr>\n",
       "      <th>0</th>\n",
       "      <td>Fresa</td>\n",
       "      <td>True</td>\n",
       "      <td>6</td>\n",
       "      <td>28.0</td>\n",
       "      <td>168.0</td>\n",
       "    </tr>\n",
       "    <tr>\n",
       "      <th>1</th>\n",
       "      <td>Pera</td>\n",
       "      <td>False</td>\n",
       "      <td>101</td>\n",
       "      <td>6.0</td>\n",
       "      <td>606.0</td>\n",
       "    </tr>\n",
       "    <tr>\n",
       "      <th>2</th>\n",
       "      <td>Uva</td>\n",
       "      <td>True</td>\n",
       "      <td>3</td>\n",
       "      <td>114.0</td>\n",
       "      <td>342.0</td>\n",
       "    </tr>\n",
       "  </tbody>\n",
       "</table>\n",
       "</div>"
      ],
      "text/plain": [
       "   Fruta   Baya  Calorías medias  Cantidad  Total calorías\n",
       "0  Fresa   True                6      28.0           168.0\n",
       "1   Pera  False              101       6.0           606.0\n",
       "2    Uva   True                3     114.0           342.0"
      ]
     },
     "execution_count": 61,
     "metadata": {},
     "output_type": "execute_result"
    }
   ],
   "source": [
    "df"
   ]
  },
  {
   "cell_type": "code",
   "execution_count": 19,
   "id": "e0cacbae",
   "metadata": {},
   "outputs": [],
   "source": [
    "datos = pd.read_csv(\"./datos/winequality-red.csv\", sep = \";\")"
   ]
  },
  {
   "cell_type": "markdown",
   "id": "f829e731",
   "metadata": {},
   "source": [
    "# EJ 2"
   ]
  },
  {
   "cell_type": "code",
   "execution_count": 46,
   "id": "9b3f46d7",
   "metadata": {},
   "outputs": [
    {
     "data": {
      "text/html": [
       "<div>\n",
       "<style scoped>\n",
       "    .dataframe tbody tr th:only-of-type {\n",
       "        vertical-align: middle;\n",
       "    }\n",
       "\n",
       "    .dataframe tbody tr th {\n",
       "        vertical-align: top;\n",
       "    }\n",
       "\n",
       "    .dataframe thead th {\n",
       "        text-align: right;\n",
       "    }\n",
       "</style>\n",
       "<table border=\"1\" class=\"dataframe\">\n",
       "  <thead>\n",
       "    <tr style=\"text-align: right;\">\n",
       "      <th></th>\n",
       "      <th>citric acid</th>\n",
       "    </tr>\n",
       "  </thead>\n",
       "  <tbody>\n",
       "    <tr>\n",
       "      <th>0</th>\n",
       "      <td>0.00</td>\n",
       "    </tr>\n",
       "    <tr>\n",
       "      <th>1</th>\n",
       "      <td>0.00</td>\n",
       "    </tr>\n",
       "    <tr>\n",
       "      <th>2</th>\n",
       "      <td>0.04</td>\n",
       "    </tr>\n",
       "    <tr>\n",
       "      <th>3</th>\n",
       "      <td>0.56</td>\n",
       "    </tr>\n",
       "    <tr>\n",
       "      <th>4</th>\n",
       "      <td>0.00</td>\n",
       "    </tr>\n",
       "    <tr>\n",
       "      <th>...</th>\n",
       "      <td>...</td>\n",
       "    </tr>\n",
       "    <tr>\n",
       "      <th>495</th>\n",
       "      <td>0.53</td>\n",
       "    </tr>\n",
       "    <tr>\n",
       "      <th>496</th>\n",
       "      <td>0.25</td>\n",
       "    </tr>\n",
       "    <tr>\n",
       "      <th>497</th>\n",
       "      <td>0.32</td>\n",
       "    </tr>\n",
       "    <tr>\n",
       "      <th>498</th>\n",
       "      <td>0.53</td>\n",
       "    </tr>\n",
       "    <tr>\n",
       "      <th>499</th>\n",
       "      <td>0.31</td>\n",
       "    </tr>\n",
       "  </tbody>\n",
       "</table>\n",
       "<p>500 rows × 1 columns</p>\n",
       "</div>"
      ],
      "text/plain": [
       "     citric acid\n",
       "0           0.00\n",
       "1           0.00\n",
       "2           0.04\n",
       "3           0.56\n",
       "4           0.00\n",
       "..           ...\n",
       "495         0.53\n",
       "496         0.25\n",
       "497         0.32\n",
       "498         0.53\n",
       "499         0.31\n",
       "\n",
       "[500 rows x 1 columns]"
      ]
     },
     "execution_count": 46,
     "metadata": {},
     "output_type": "execute_result"
    }
   ],
   "source": [
    "datos[['citric acid']][:500]"
   ]
  },
  {
   "cell_type": "code",
   "execution_count": null,
   "id": "5a60df72",
   "metadata": {},
   "outputs": [],
   "source": []
  },
  {
   "cell_type": "code",
   "execution_count": 44,
   "id": "4796920f",
   "metadata": {},
   "outputs": [
    {
     "data": {
      "text/html": [
       "<div>\n",
       "<style scoped>\n",
       "    .dataframe tbody tr th:only-of-type {\n",
       "        vertical-align: middle;\n",
       "    }\n",
       "\n",
       "    .dataframe tbody tr th {\n",
       "        vertical-align: top;\n",
       "    }\n",
       "\n",
       "    .dataframe thead th {\n",
       "        text-align: right;\n",
       "    }\n",
       "</style>\n",
       "<table border=\"1\" class=\"dataframe\">\n",
       "  <thead>\n",
       "    <tr style=\"text-align: right;\">\n",
       "      <th></th>\n",
       "      <th>quality</th>\n",
       "      <th>pH</th>\n",
       "    </tr>\n",
       "  </thead>\n",
       "  <tbody>\n",
       "    <tr>\n",
       "      <th>1598</th>\n",
       "      <td>6</td>\n",
       "      <td>3.39</td>\n",
       "    </tr>\n",
       "    <tr>\n",
       "      <th>1597</th>\n",
       "      <td>5</td>\n",
       "      <td>3.57</td>\n",
       "    </tr>\n",
       "    <tr>\n",
       "      <th>1596</th>\n",
       "      <td>6</td>\n",
       "      <td>3.42</td>\n",
       "    </tr>\n",
       "    <tr>\n",
       "      <th>1595</th>\n",
       "      <td>6</td>\n",
       "      <td>3.52</td>\n",
       "    </tr>\n",
       "    <tr>\n",
       "      <th>1594</th>\n",
       "      <td>5</td>\n",
       "      <td>3.45</td>\n",
       "    </tr>\n",
       "    <tr>\n",
       "      <th>...</th>\n",
       "      <td>...</td>\n",
       "      <td>...</td>\n",
       "    </tr>\n",
       "    <tr>\n",
       "      <th>1103</th>\n",
       "      <td>6</td>\n",
       "      <td>3.35</td>\n",
       "    </tr>\n",
       "    <tr>\n",
       "      <th>1102</th>\n",
       "      <td>6</td>\n",
       "      <td>3.45</td>\n",
       "    </tr>\n",
       "    <tr>\n",
       "      <th>1101</th>\n",
       "      <td>6</td>\n",
       "      <td>3.35</td>\n",
       "    </tr>\n",
       "    <tr>\n",
       "      <th>1100</th>\n",
       "      <td>6</td>\n",
       "      <td>3.11</td>\n",
       "    </tr>\n",
       "    <tr>\n",
       "      <th>1099</th>\n",
       "      <td>5</td>\n",
       "      <td>3.20</td>\n",
       "    </tr>\n",
       "  </tbody>\n",
       "</table>\n",
       "<p>500 rows × 2 columns</p>\n",
       "</div>"
      ],
      "text/plain": [
       "      quality    pH\n",
       "1598        6  3.39\n",
       "1597        5  3.57\n",
       "1596        6  3.42\n",
       "1595        6  3.52\n",
       "1594        5  3.45\n",
       "...       ...   ...\n",
       "1103        6  3.35\n",
       "1102        6  3.45\n",
       "1101        6  3.35\n",
       "1100        6  3.11\n",
       "1099        5  3.20\n",
       "\n",
       "[500 rows x 2 columns]"
      ]
     },
     "execution_count": 44,
     "metadata": {},
     "output_type": "execute_result"
    }
   ],
   "source": [
    "datos[['quality', 'pH']][-1:-501:-1]"
   ]
  },
  {
   "cell_type": "markdown",
   "id": "2e2d6884",
   "metadata": {},
   "source": [
    "# EJ 3"
   ]
  },
  {
   "cell_type": "code",
   "execution_count": 26,
   "id": "1f1a764e",
   "metadata": {},
   "outputs": [
    {
     "data": {
      "text/plain": [
       "(216, 12)"
      ]
     },
     "execution_count": 26,
     "metadata": {},
     "output_type": "execute_result"
    }
   ],
   "source": [
    "datos[(datos[\"quality\"] >= 7) & ((datos[\"residual sugar\"] < 3) | (datos.pH >3))].shape"
   ]
  },
  {
   "cell_type": "code",
   "execution_count": 31,
   "id": "e944730b",
   "metadata": {},
   "outputs": [
    {
     "data": {
      "text/plain": [
       "(1, 12)"
      ]
     },
     "execution_count": 31,
     "metadata": {},
     "output_type": "execute_result"
    }
   ],
   "source": [
    "datos[(datos[\"volatile acidity\"] == 0.880) & (datos[\"total sulfur dioxide\"] == 67.0)].shape"
   ]
  },
  {
   "cell_type": "markdown",
   "id": "636fda91",
   "metadata": {},
   "source": [
    "# EJ 4"
   ]
  },
  {
   "cell_type": "code",
   "execution_count": null,
   "id": "55ab1426",
   "metadata": {},
   "outputs": [],
   "source": []
  },
  {
   "cell_type": "code",
   "execution_count": null,
   "id": "0653db9f",
   "metadata": {},
   "outputs": [],
   "source": []
  }
 ],
 "metadata": {
  "kernelspec": {
   "display_name": "Python 3",
   "language": "python",
   "name": "python3"
  },
  "language_info": {
   "codemirror_mode": {
    "name": "ipython",
    "version": 3
   },
   "file_extension": ".py",
   "mimetype": "text/x-python",
   "name": "python",
   "nbconvert_exporter": "python",
   "pygments_lexer": "ipython3",
   "version": "3.9.6"
  }
 },
 "nbformat": 4,
 "nbformat_minor": 5
}
